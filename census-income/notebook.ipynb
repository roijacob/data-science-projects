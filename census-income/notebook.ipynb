{
 "cells": [
  {
   "cell_type": "markdown",
   "id": "88373bff",
   "metadata": {},
   "source": [
    "# Census Income\n",
    "---"
   ]
  },
  {
   "cell_type": "markdown",
   "id": "347c1f62-0255-4267-bdc9-1e398d8b2fc6",
   "metadata": {
    "tags": []
   },
   "source": [
    "#### Import necessary libraries"
   ]
  },
  {
   "cell_type": "code",
   "execution_count": 1,
   "id": "30916d07",
   "metadata": {},
   "outputs": [
    {
     "ename": "ModuleNotFoundError",
     "evalue": "No module named 'sklearn'",
     "output_type": "error",
     "traceback": [
      "\u001b[1;31m---------------------------------------------------------------------------\u001b[0m",
      "\u001b[1;31mModuleNotFoundError\u001b[0m                       Traceback (most recent call last)",
      "\u001b[1;32m~\\AppData\\Local\\Temp\\ipykernel_16392\\2870275195.py\u001b[0m in \u001b[0;36m<module>\u001b[1;34m\u001b[0m\n\u001b[0;32m      4\u001b[0m \u001b[1;32mimport\u001b[0m \u001b[0mmatplotlib\u001b[0m\u001b[1;33m.\u001b[0m\u001b[0mpyplot\u001b[0m \u001b[1;32mas\u001b[0m \u001b[0mplt\u001b[0m\u001b[1;33m\u001b[0m\u001b[1;33m\u001b[0m\u001b[0m\n\u001b[0;32m      5\u001b[0m \u001b[1;33m\u001b[0m\u001b[0m\n\u001b[1;32m----> 6\u001b[1;33m \u001b[1;32mfrom\u001b[0m \u001b[0msklearn\u001b[0m\u001b[1;33m.\u001b[0m\u001b[0mcompose\u001b[0m \u001b[1;32mimport\u001b[0m \u001b[0mmake_column_transformer\u001b[0m\u001b[1;33m\u001b[0m\u001b[1;33m\u001b[0m\u001b[0m\n\u001b[0m\u001b[0;32m      7\u001b[0m \u001b[1;32mfrom\u001b[0m \u001b[0msklearn\u001b[0m\u001b[1;33m.\u001b[0m\u001b[0mensemble\u001b[0m \u001b[1;32mimport\u001b[0m \u001b[0mRandomForestClassifier\u001b[0m\u001b[1;33m\u001b[0m\u001b[1;33m\u001b[0m\u001b[0m\n\u001b[0;32m      8\u001b[0m \u001b[1;32mfrom\u001b[0m \u001b[0msklearn\u001b[0m\u001b[1;33m.\u001b[0m\u001b[0mimpute\u001b[0m \u001b[1;32mimport\u001b[0m \u001b[0mSimpleImputer\u001b[0m\u001b[1;33m\u001b[0m\u001b[1;33m\u001b[0m\u001b[0m\n",
      "\u001b[1;31mModuleNotFoundError\u001b[0m: No module named 'sklearn'"
     ]
    }
   ],
   "source": [
    "import pandas as pd\n",
    "import numpy as np\n",
    "import seaborn as sns\n",
    "import matplotlib.pyplot as plt\n",
    "\n",
    "from sklearn.compose import make_column_transformer\n",
    "from sklearn.ensemble import RandomForestClassifier\n",
    "from sklearn.impute import SimpleImputer\n",
    "from sklearn.model_selection import train_test_split\n",
    "from sklearn.tree import DecisionTreeClassifier"
   ]
  },
  {
   "cell_type": "markdown",
   "id": "f9c1cd4f-d5b6-4ab0-b859-a73f3ea4da08",
   "metadata": {
    "tags": []
   },
   "source": [
    "#### Import the data file"
   ]
  },
  {
   "cell_type": "code",
   "execution_count": null,
   "id": "3e5cae62",
   "metadata": {},
   "outputs": [],
   "source": [
    "raw_df = pd.read_csv('files/datasets/adult.csv')\n",
    "raw_df.head()"
   ]
  },
  {
   "cell_type": "markdown",
   "id": "6b438453-1ac3-4d2b-9acc-fd44c295057f",
   "metadata": {},
   "source": [
    "Because values from the CSV file in Kaggle uses `?` as null values, we will replace those question marks with a NaN. "
   ]
  },
  {
   "cell_type": "code",
   "execution_count": null,
   "id": "467375a5-18a1-4c9a-a9b1-a6422e9988f3",
   "metadata": {},
   "outputs": [],
   "source": [
    "raw_df.replace(to_replace='?', value=np.nan, inplace=True)"
   ]
  },
  {
   "cell_type": "code",
   "execution_count": null,
   "id": "ea46437b-c99d-4ade-91cc-32ac05f3194e",
   "metadata": {},
   "outputs": [],
   "source": [
    "raw_df.replace(to_replace='<=50K', value=0, inplace=True)\n",
    "raw_df.replace(to_replace='>50K', value=1, inplace=True)"
   ]
  },
  {
   "cell_type": "markdown",
   "id": "be80ae17-2b3a-452a-b01e-037147e6b6a7",
   "metadata": {
    "jp-MarkdownHeadingCollapsed": true,
    "tags": []
   },
   "source": [
    "#### View information about the dataframe"
   ]
  },
  {
   "cell_type": "code",
   "execution_count": null,
   "id": "c9204107",
   "metadata": {},
   "outputs": [],
   "source": [
    "raw_df.info()"
   ]
  },
  {
   "cell_type": "markdown",
   "id": "3b5de6c4-6d7e-4f85-9655-0efb2b42c518",
   "metadata": {
    "jp-MarkdownHeadingCollapsed": true,
    "tags": []
   },
   "source": [
    "#### Split the data into target and features"
   ]
  },
  {
   "cell_type": "code",
   "execution_count": null,
   "id": "07f74891-ae8a-4d02-b446-f0e2b08c07ea",
   "metadata": {},
   "outputs": [],
   "source": [
    "def xy_split(dataframe, y_column):\n",
    "    features = dataframe.loc[:, dataframe.columns != y_column]\n",
    "    target = dataframe[y_column]\n",
    "    return features, target\n",
    "\n",
    "X, y = xy_split(raw_df, 'income')"
   ]
  },
  {
   "cell_type": "markdown",
   "id": "1d49ea7c-f2d8-4cc2-a2e2-f5d95dd7832c",
   "metadata": {},
   "source": [
    "##### Create training and testing sets"
   ]
  },
  {
   "cell_type": "code",
   "execution_count": null,
   "id": "5b4d5313-fc82-4cc4-b1f5-42eb526deeb9",
   "metadata": {},
   "outputs": [],
   "source": [
    "from sklearn.model_selection import train_test_split\n",
    "X_train, X_test, y_train, y_test = train_test_split(X, y, test_size=0.2, random_state=42)"
   ]
  },
  {
   "cell_type": "markdown",
   "id": "0cba0097-a417-441d-a301-d6163b5dac89",
   "metadata": {},
   "source": [
    "##### Create a copy of the original dataset"
   ]
  },
  {
   "cell_type": "code",
   "execution_count": null,
   "id": "122cef88-0235-4a4e-82f1-925512dfd5b6",
   "metadata": {},
   "outputs": [],
   "source": [
    "df = X_train.copy()"
   ]
  },
  {
   "cell_type": "markdown",
   "id": "eb503f91-6adc-4da8-85ca-662804eb4e01",
   "metadata": {},
   "source": [
    "---\n",
    "\n",
    "# Data Preparation"
   ]
  },
  {
   "cell_type": "markdown",
   "id": "d8b5e254-31ec-4fcf-9d94-50a48dc2cc2d",
   "metadata": {
    "tags": []
   },
   "source": [
    "#### Import necesary libraries"
   ]
  },
  {
   "cell_type": "code",
   "execution_count": null,
   "id": "e270aa51-d552-46bc-b783-6c2dab48fb01",
   "metadata": {},
   "outputs": [],
   "source": [
    "from sklearn.compose import ColumnTransformer, make_column_selector\n",
    "from sklearn.impute import SimpleImputer\n",
    "from sklearn.pipeline import Pipeline, make_pipeline\n",
    "from sklearn.preprocessing import OneHotEncoder, OrdinalEncoder\n",
    "\n",
    "from sklearn import set_config\n",
    "set_config(transform_output=\"pandas\")"
   ]
  },
  {
   "cell_type": "markdown",
   "id": "2c6999da-992e-4261-96a2-e7a74c7aaef0",
   "metadata": {
    "jp-MarkdownHeadingCollapsed": true,
    "tags": []
   },
   "source": [
    "#### Determine which columns have low cardinality"
   ]
  },
  {
   "cell_type": "code",
   "execution_count": null,
   "id": "ba7f2714-2b18-4350-9aea-d8544f038dc6",
   "metadata": {},
   "outputs": [],
   "source": [
    "def ohe_eligibility(datafame):\n",
    "    for i in datafame.columns:\n",
    "        if len(datafame[i].value_counts()) < 10:\n",
    "            print(f'{len(datafame[i].value_counts())} - {i}')\n",
    "        else:\n",
    "            pass\n",
    "        \n",
    "ohe_eligibility(df)"
   ]
  },
  {
   "cell_type": "markdown",
   "id": "56f9f415-0b91-4303-99de-a33d9597d4ef",
   "metadata": {
    "jp-MarkdownHeadingCollapsed": true,
    "tags": []
   },
   "source": [
    "### Fixing/Encoding Marital Status column"
   ]
  },
  {
   "cell_type": "code",
   "execution_count": null,
   "id": "64fac352-5114-4427-a489-e78266ecc491",
   "metadata": {},
   "outputs": [],
   "source": [
    "df['marital.status'].value_counts(dropna=False)"
   ]
  },
  {
   "cell_type": "code",
   "execution_count": null,
   "id": "016d2b0c-810a-462c-8689-f3edb5b3d721",
   "metadata": {},
   "outputs": [],
   "source": [
    "sns.countplot(x='marital.status', data=df)\n",
    "plt.xticks(rotation=45)\n",
    "plt.show()"
   ]
  },
  {
   "cell_type": "markdown",
   "id": "e95c1fd8-b949-4f59-b997-b12faa106111",
   "metadata": {},
   "source": [
    "Reduce categories by merging different categories into one.\n",
    "\n",
    "Single: **Never Married**\n",
    "\n",
    "Break: **Divorced**, **Widowed**, **Separated**\n",
    "\n",
    "Married: **Married-civ-spouse**, **Married-spouse-absent**, **Married AF spouse**"
   ]
  },
  {
   "cell_type": "markdown",
   "id": "d16277b6-d0da-4d5b-ab59-1fd485bad83e",
   "metadata": {},
   "source": []
  },
  {
   "cell_type": "code",
   "execution_count": null,
   "id": "fabbec6e-d186-4fd1-8463-e38eacb468ab",
   "metadata": {},
   "outputs": [],
   "source": [
    "replacements_dict = {\"Never-married\": \"single\", \n",
    "                     \"Divorced\": \"break\", \n",
    "                     \"Separated\": \"break\",\n",
    "                     \"Widowed\": \"break\", \n",
    "                     \"Married-civ-spouse\": \"married\",\n",
    "                     \"Married-spouse-absent\": \"married\", \n",
    "                     \"Married-AF-spouse\": \"married\",}"
   ]
  },
  {
   "cell_type": "code",
   "execution_count": null,
   "id": "fcad82db-8f99-492b-aa27-2b834d03da56",
   "metadata": {},
   "outputs": [],
   "source": [
    "import pandas as pd\n",
    "from sklearn.preprocessing import FunctionTransformer\n",
    "\n",
    "# Define a custom function to replace a value in a dataframe\n",
    "def replace_values(dataframe, column, replacements_dict):\n",
    "    dataframe[column] = dataframe[column].replace(replacements_dict)\n",
    "    return dataframe\n",
    "\n",
    "# Create a FunctionTransformer object\n",
    "replace_transformer = FunctionTransformer(replace_values, kw_args={'column': 'marital.status', 'replacements_dict': replacements_dict})\n",
    "\n",
    "# # Apply the transformer to a example dataframe\n",
    "df_new = replace_transformer.transform(df)"
   ]
  },
  {
   "cell_type": "code",
   "execution_count": null,
   "id": "35712ab9-bf88-4e4f-981d-1fed2cdd40f8",
   "metadata": {},
   "outputs": [],
   "source": [
    "df_new.head()"
   ]
  },
  {
   "cell_type": "code",
   "execution_count": null,
   "id": "018a6fc2-185a-409e-a852-216d3eabfd32",
   "metadata": {},
   "outputs": [],
   "source": [
    "df_new['marital.status'].value_counts()"
   ]
  },
  {
   "cell_type": "code",
   "execution_count": null,
   "id": "dfb364b5-f048-4930-863a-ef325d0a807d",
   "metadata": {},
   "outputs": [],
   "source": [
    "# Apply One-Hot Encoding\n",
    "\n",
    "ohe_enc = OneHotEncoder(sparse_output=False, handle_unknown='ignore')"
   ]
  },
  {
   "cell_type": "code",
   "execution_count": null,
   "id": "a74f8028-1b98-45c9-99eb-fc48effd4474",
   "metadata": {},
   "outputs": [],
   "source": [
    "ct = make_column_transformer(\n",
    "    (ohe_enc, ['marital.status']))"
   ]
  },
  {
   "cell_type": "code",
   "execution_count": null,
   "id": "77d394fb-0d90-4527-abdb-55ffa7a20d98",
   "metadata": {},
   "outputs": [],
   "source": [
    "ms_enc = ct.fit_transform(df_new)"
   ]
  },
  {
   "cell_type": "code",
   "execution_count": null,
   "id": "542c068b-a1ec-497f-91eb-831f124c85a3",
   "metadata": {},
   "outputs": [],
   "source": [
    "ms_enc.head()"
   ]
  },
  {
   "cell_type": "markdown",
   "id": "f1e006dc-6937-4119-8491-042bff0aa374",
   "metadata": {},
   "source": [
    "----"
   ]
  },
  {
   "cell_type": "markdown",
   "id": "335d2f9b-f4ce-4f0c-b9f7-4bf9511ca0b9",
   "metadata": {
    "jp-MarkdownHeadingCollapsed": true,
    "tags": []
   },
   "source": [
    "### Fixing Workclass column"
   ]
  },
  {
   "cell_type": "code",
   "execution_count": null,
   "id": "2f3432c9-644a-4a98-a12b-885dcad11518",
   "metadata": {},
   "outputs": [],
   "source": [
    "df['workclass'].value_counts(dropna=False)"
   ]
  },
  {
   "cell_type": "markdown",
   "id": "c12e07ec-0121-452e-98b1-a5e04521c7eb",
   "metadata": {},
   "source": [
    "Let's merge the categorical varaibles to reduce cardinality"
   ]
  },
  {
   "cell_type": "code",
   "execution_count": null,
   "id": "72b177af-1f1c-4ce7-aa14-19fd3d5cab25",
   "metadata": {},
   "outputs": [],
   "source": [
    "replacements_dict_wc = {\"Private\": \"P.Employed\", \n",
    "                        \"Self-emp-not-inc\": \"S.Employed\", \n",
    "                        \"Local-gov\": \"G.Employed\",\n",
    "                        \"State-gov\": \"G.Employed\", \n",
    "                        \"Self-emp-inc\": \"S.Employed\",\n",
    "                        \"Federal-gov\": \"G.Employed\", \n",
    "                        \"Without-pay\": \"P.Employed\",\n",
    "                        \"Never-worked\": \"Unemployed\"}"
   ]
  },
  {
   "cell_type": "markdown",
   "id": "da2c53de-05c7-4385-b071-05d8f85fb502",
   "metadata": {},
   "source": [
    "Private          - P.Employed         <br>\n",
    "Self-emp-not-inc - S.Employed      <br>\n",
    "Local-gov        - G.Employed       <br>\n",
    "NaN              - NaN                <br>\n",
    "State-gov        - G.Employed       <br>\n",
    "Self-emp-inc     - S.Employed      <br>\n",
    "Federal-gov      - G.Employed       <br>\n",
    "Without-pay      - P.Employed           <br>\n",
    "Never-worked     - Unemployed         <br>"
   ]
  },
  {
   "cell_type": "code",
   "execution_count": null,
   "id": "9a4015fe-c03b-4018-b59e-57b276abff13",
   "metadata": {},
   "outputs": [],
   "source": [
    "raw_df_copy = raw_df.copy()\n",
    "\n",
    "wc_df = replace_values(raw_df_copy, 'workclass', replacements_dict_wc)"
   ]
  },
  {
   "cell_type": "code",
   "execution_count": null,
   "id": "a0cdd474-48e4-4608-8091-e47d64375e26",
   "metadata": {},
   "outputs": [],
   "source": [
    "wc_df.head()"
   ]
  },
  {
   "cell_type": "code",
   "execution_count": null,
   "id": "18864aaa-65a4-4c8e-8646-9c4cb6062489",
   "metadata": {},
   "outputs": [],
   "source": [
    "wc_df['workclass'].value_counts(dropna=False)"
   ]
  },
  {
   "cell_type": "code",
   "execution_count": null,
   "id": "b46f4b78-360c-4365-a9f4-f64d2a601e8c",
   "metadata": {},
   "outputs": [],
   "source": [
    "# Determine how workclass and income are nested\n",
    "sns.countplot(x = 'workclass', \n",
    "              hue = 'income', \n",
    "              data = wc_df)\n",
    " \n",
    "# Show the plot\n",
    "plt.show()"
   ]
  },
  {
   "cell_type": "code",
   "execution_count": null,
   "id": "05a7bf64-8091-4b74-8f36-7c0291513e2e",
   "metadata": {},
   "outputs": [],
   "source": [
    "# Use as a transformer\n",
    "\n",
    "replace_transformer_wc = FunctionTransformer(replace_values, kw_args={'column': 'workclass', 'replacements_dict': replacements_dict_wc})"
   ]
  },
  {
   "cell_type": "markdown",
   "id": "c4433785-74b3-447f-b192-66b7a6fb1ff1",
   "metadata": {
    "tags": []
   },
   "source": [
    "### Fixing Relationship column (NA)"
   ]
  },
  {
   "cell_type": "code",
   "execution_count": null,
   "id": "a1e08d65-c5ad-4b56-866a-a875a0a5189c",
   "metadata": {},
   "outputs": [],
   "source": [
    "wc_df['relationship'].value_counts()"
   ]
  },
  {
   "cell_type": "markdown",
   "id": "e8e30a1d-677c-426a-bd0c-758dbad8dc30",
   "metadata": {},
   "source": [
    "```\n",
    "parent       - Husband        - husband sa kanyang family    <br>\n",
    "no_family    - Not-in-family  - walang fam    <br>\n",
    "no_family    - Own-child      - child sa kanyang fam    <br>\n",
    "no_family    -Unmarried      - walang fam    <br>\n",
    "parent       - Wife           - husband sa kanyang family    <br>\n",
    "no_family    - Other-relative - walang fam    <br>\n",
    "\n",
    "```"
   ]
  },
  {
   "cell_type": "code",
   "execution_count": null,
   "id": "b73e044f-ee3a-4ac9-87a3-f0f458f96171",
   "metadata": {},
   "outputs": [],
   "source": [
    "replacements_dict_r = {\"Husband\": \"parent\",           \n",
    "                       \"Not-in-family\": \"no_family\",      \n",
    "                       \"Own-child\": \"no_family\",   \n",
    "                       \"Unmarried\": \"no_family\",  \n",
    "                       \"Wife\": \"parent\",      \n",
    "                       \"Other-relative\": \"no_family\"}"
   ]
  },
  {
   "cell_type": "code",
   "execution_count": null,
   "id": "419955b5-6661-4308-9093-5e88258c9465",
   "metadata": {},
   "outputs": [],
   "source": [
    "r_df = replace_values(wc_df, 'relationship', replacements_dict_r)"
   ]
  },
  {
   "cell_type": "code",
   "execution_count": null,
   "id": "7af733fc-edc0-4801-a60d-508a972f7a00",
   "metadata": {},
   "outputs": [],
   "source": [
    "r_df"
   ]
  },
  {
   "cell_type": "code",
   "execution_count": null,
   "id": "54106f7b-a8d8-4363-b0b7-84bcc433181c",
   "metadata": {},
   "outputs": [],
   "source": [
    "replace_transformer_r = FunctionTransformer(replace_values, kw_args={'column': 'relationship', 'replacements_dict': replacements_dict_r})"
   ]
  },
  {
   "cell_type": "markdown",
   "id": "af7f68bd-338c-41de-97ac-451a79726aa4",
   "metadata": {},
   "source": [
    "---"
   ]
  },
  {
   "cell_type": "markdown",
   "id": "6b43ea01-48dc-4098-a718-470e9abc6cbb",
   "metadata": {
    "tags": []
   },
   "source": [
    "### Apply function transformers as for loop"
   ]
  },
  {
   "cell_type": "code",
   "execution_count": null,
   "id": "93644645-4ac9-42c6-b8be-6a575c191b57",
   "metadata": {},
   "outputs": [],
   "source": [
    "transformers = [(replace_transformer_r, 'relationship', replacements_dict_r),    \n",
    "                (replace_transformer_wc, 'workclass', replacements_dict_wc),    \n",
    "                (replace_transformer, 'marital.status', replacements_dict)]\n",
    "\n",
    "for transformer, column, replacements_dict in transformers:\n",
    "    replace_transformer = FunctionTransformer(replace_values, kw_args={'column': column, 'replacements_dict': replacements_dict})"
   ]
  },
  {
   "cell_type": "code",
   "execution_count": null,
   "id": "8a77d0c0-6d94-4737-a3e7-62cfae50a34c",
   "metadata": {},
   "outputs": [],
   "source": [
    "# Data Before\n",
    "\n",
    "raw_df_copy.head()"
   ]
  },
  {
   "cell_type": "code",
   "execution_count": null,
   "id": "fc1b08c1-7447-4fa7-a4d1-60c6b0cec174",
   "metadata": {},
   "outputs": [],
   "source": [
    "df_transformed = replace_transformer.fit_transform(raw_df_copy)"
   ]
  },
  {
   "cell_type": "code",
   "execution_count": null,
   "id": "16c1fb38-3d12-4a97-bbd9-0bdc5a0f1ee7",
   "metadata": {},
   "outputs": [],
   "source": [
    "# Data after, it works\n",
    "\n",
    "df_transformed.head()"
   ]
  },
  {
   "cell_type": "markdown",
   "id": "a76eb193-0ca8-437c-9aba-b08ba48a8c2f",
   "metadata": {},
   "source": [
    "### Create an initial pipeline"
   ]
  },
  {
   "cell_type": "code",
   "execution_count": null,
   "id": "8122237b-0065-4334-a245-d9c1428653f1",
   "metadata": {},
   "outputs": [],
   "source": [
    "from sklearn.preprocessing import StandardScaler"
   ]
  },
  {
   "cell_type": "code",
   "execution_count": null,
   "id": "aaa84bff-42a2-4214-a181-13fd818b6bd8",
   "metadata": {},
   "outputs": [],
   "source": [
    "ohe_enc = OneHotEncoder(sparse_output=False, handle_unknown='ignore')\n",
    "std_scl = StandardScaler()\n",
    "oe_enc = OrdinalEncoder(handle_unknown='error')"
   ]
  },
  {
   "cell_type": "code",
   "execution_count": null,
   "id": "b124f15a-5eca-4fb7-80ab-7aaa41608a17",
   "metadata": {},
   "outputs": [],
   "source": [
    "count_process = ColumnTransformer([\n",
    "    ('ohe', ohe_enc, ['marital.status', 'sex', 'relationship', 'race']),\n",
    "    ('std-scale', std_scl, ['age', 'fnlwgt']), \n",
    "    ('passthrough', 'passthrough', ['education.num', 'capital.gain', 'capital.loss', 'hours.per.week', 'workclass'])\n",
    "])"
   ]
  },
  {
   "cell_type": "code",
   "execution_count": null,
   "id": "21c629cc-b31f-4f07-b360-c9712d0835d0",
   "metadata": {},
   "outputs": [],
   "source": [
    "dt_primer = count_process.fit_transform(df_transformed)\n",
    "dt_primer.head()"
   ]
  },
  {
   "cell_type": "code",
   "execution_count": null,
   "id": "d8ad7226-8da7-4dbe-8eb9-b4f5c4bae9d7",
   "metadata": {},
   "outputs": [],
   "source": [
    "dt_primer.shape"
   ]
  },
  {
   "cell_type": "code",
   "execution_count": null,
   "id": "cc0576db-b82d-40c0-985a-f87eae245f37",
   "metadata": {},
   "outputs": [],
   "source": [
    "dt_primer.isnull().sum().tail()"
   ]
  },
  {
   "cell_type": "markdown",
   "id": "fcc48ea1-a169-4a7d-9fa4-d47fc13c0ad7",
   "metadata": {
    "tags": []
   },
   "source": [
    "#### Decision Tree as Imputer"
   ]
  },
  {
   "cell_type": "code",
   "execution_count": null,
   "id": "ffea6902-3f65-4cd6-a35d-f7908e66a61c",
   "metadata": {},
   "outputs": [],
   "source": [
    "def RandomForestImputer(dataframe, y_column):\n",
    "    df = dataframe.dropna()\n",
    "    X = df.drop(y_column, axis=1)\n",
    "    y = df[y_column]\n",
    "    \n",
    "    "
   ]
  },
  {
   "cell_type": "code",
   "execution_count": null,
   "id": "27124c5a-e583-47f3-8913-d69402eb637d",
   "metadata": {},
   "outputs": [],
   "source": []
  },
  {
   "cell_type": "code",
   "execution_count": null,
   "id": "150bc341-917b-4b4d-bc8e-cb9a2e4f396d",
   "metadata": {},
   "outputs": [],
   "source": []
  },
  {
   "cell_type": "code",
   "execution_count": null,
   "id": "b5753b33-c76c-4baf-b70c-a19f6098db96",
   "metadata": {},
   "outputs": [],
   "source": [
    "dt_train = dt_primer.dropna()"
   ]
  },
  {
   "cell_type": "code",
   "execution_count": null,
   "id": "ec6d2dd9-701e-4ca1-9f8b-3f8672132ddf",
   "metadata": {},
   "outputs": [],
   "source": [
    "# Split the data into features and target variable\n",
    "X = dt_train.drop('passthrough__workclass', axis=1)\n",
    "y = dt_train['passthrough__workclass']"
   ]
  },
  {
   "cell_type": "code",
   "execution_count": null,
   "id": "366e3115-e180-496b-b94b-669fc963aea8",
   "metadata": {},
   "outputs": [],
   "source": [
    "# Split the data into train and test sets\n",
    "X_train, X_test, y_train, y_test = train_test_split(X, y, test_size=0.33, random_state=0)"
   ]
  },
  {
   "cell_type": "code",
   "execution_count": null,
   "id": "fdd512be-9c3f-4276-a7c0-2323cda47eb6",
   "metadata": {},
   "outputs": [],
   "source": []
  },
  {
   "cell_type": "code",
   "execution_count": null,
   "id": "13475965-7e40-434f-bcab-086391bdf28d",
   "metadata": {},
   "outputs": [],
   "source": [
    "# Train the DecisionTreeClassifier\n",
    "clf = RandomForestClassifier()\n",
    "clf.fit(X_train, y_train)"
   ]
  },
  {
   "cell_type": "code",
   "execution_count": null,
   "id": "c807d045-f739-4c9e-9e3b-c915baa60226",
   "metadata": {},
   "outputs": [],
   "source": [
    "# Predict the target values for the test set\n",
    "y_pred = clf.predict(X_test)"
   ]
  },
  {
   "cell_type": "code",
   "execution_count": null,
   "id": "882f4f7d-d579-4280-ac35-551fe371f60f",
   "metadata": {},
   "outputs": [],
   "source": [
    "y_pred_impute = clf.predict(dt_primer.loc[:, dt_primer.columns != 'passthrough__workclass'])"
   ]
  },
  {
   "cell_type": "code",
   "execution_count": null,
   "id": "51e6d39a-d017-4889-8018-b0b3d30d65fa",
   "metadata": {},
   "outputs": [],
   "source": [
    "pd.DataFrame(y_pred_impute)"
   ]
  },
  {
   "cell_type": "code",
   "execution_count": null,
   "id": "024b3d9e-2405-4b4d-b8f6-aabeee5752f2",
   "metadata": {},
   "outputs": [],
   "source": [
    "# Evaluate the model's performance\n",
    "print(\"Accuracy:\", clf.score(X_test, y_test))"
   ]
  },
  {
   "cell_type": "markdown",
   "id": "c0106296-ed3d-4ce1-a563-1564700be592",
   "metadata": {},
   "source": [
    "---"
   ]
  },
  {
   "cell_type": "markdown",
   "id": "40a21285-e016-46a1-a7aa-04afb4feba5f",
   "metadata": {},
   "source": [
    "Applied `DecisionTreeClassifier` as imputer, the accuracy is good, but when the imputer is replaced to be a `RandomForestClassfier`, it performed much better."
   ]
  },
  {
   "cell_type": "code",
   "execution_count": null,
   "id": "39fe2035-1d27-4e45-aa8b-801e2a99148a",
   "metadata": {},
   "outputs": [],
   "source": []
  },
  {
   "cell_type": "code",
   "execution_count": null,
   "id": "9366609e-ac86-468f-bffd-cf5d2504a2d5",
   "metadata": {},
   "outputs": [],
   "source": []
  },
  {
   "cell_type": "code",
   "execution_count": null,
   "id": "32dd4704-9483-4de8-b0c1-2c8dff63dab8",
   "metadata": {},
   "outputs": [],
   "source": []
  },
  {
   "cell_type": "code",
   "execution_count": null,
   "id": "7ab1e9a8-3584-4771-832f-cab3fdc167fc",
   "metadata": {},
   "outputs": [],
   "source": []
  },
  {
   "cell_type": "code",
   "execution_count": null,
   "id": "9c8e8f0b-60f4-4556-8c2e-50a4017e8453",
   "metadata": {},
   "outputs": [],
   "source": [
    "raw_df_copy['marital.status'].value_counts()"
   ]
  },
  {
   "cell_type": "code",
   "execution_count": null,
   "id": "4c34cc30-b248-47ac-bc8c-807e4d25f14a",
   "metadata": {},
   "outputs": [],
   "source": [
    "# Determine how workclass and income are nested\n",
    "sns.countplot(x = 'relationship', \n",
    "              hue = 'income', \n",
    "              data = wc_df)\n",
    " \n",
    "# Show the plot\n",
    "plt.show()"
   ]
  },
  {
   "cell_type": "code",
   "execution_count": null,
   "id": "c2c43254-1f77-4cd0-823f-e03dab91e530",
   "metadata": {},
   "outputs": [],
   "source": []
  },
  {
   "cell_type": "markdown",
   "id": "ac952cee-4576-48f4-aca9-8ce7f17c575c",
   "metadata": {
    "tags": []
   },
   "source": [
    "### Fixing Occupation column (NA)"
   ]
  },
  {
   "cell_type": "markdown",
   "id": "5a3aecf0-f6f2-46b9-8a9b-142c7224575c",
   "metadata": {},
   "source": [
    "Let's try to impute this using columns from other data, we wil discover if it is possible to impute the `occupation` based on sex, race, education and workclass."
   ]
  },
  {
   "cell_type": "code",
   "execution_count": null,
   "id": "15301efe-5d62-4075-b9fe-b67c3fd938de",
   "metadata": {},
   "outputs": [],
   "source": [
    "wc_df['occupation'].value_counts(dropna=False)"
   ]
  },
  {
   "cell_type": "code",
   "execution_count": null,
   "id": "d93e1615-b920-4c54-8fa7-ad94939efe9c",
   "metadata": {},
   "outputs": [],
   "source": [
    "hs_grads = wc_df.loc[wc_df['education.num'] == 10]"
   ]
  },
  {
   "cell_type": "code",
   "execution_count": null,
   "id": "46830190-c094-45c1-a3f7-7f39b480b4b4",
   "metadata": {},
   "outputs": [],
   "source": [
    "hs_grads.loc[hs_grads['occupation'].isna()]"
   ]
  },
  {
   "cell_type": "code",
   "execution_count": null,
   "id": "715d318b-a5bf-4fb8-a101-369a1444bf14",
   "metadata": {},
   "outputs": [],
   "source": [
    "hs_grads['occupation'].value_counts()"
   ]
  },
  {
   "cell_type": "markdown",
   "id": "6b2c28e5-ab8a-4024-bdf7-a701401c2063",
   "metadata": {
    "jp-MarkdownHeadingCollapsed": true,
    "tags": []
   },
   "source": [
    "### Fixing Race column (NA)"
   ]
  },
  {
   "cell_type": "code",
   "execution_count": null,
   "id": "e73816b3-d249-4dbc-94ea-d1235c355051",
   "metadata": {},
   "outputs": [],
   "source": [
    "wc_df['race'].value_counts(dropna=False)"
   ]
  },
  {
   "cell_type": "code",
   "execution_count": null,
   "id": "682b8d70-e7da-4c6b-9165-cd9846b7061b",
   "metadata": {},
   "outputs": [],
   "source": [
    "# Determine how workclass and income are nested\n",
    "sns.countplot(x = 'race', \n",
    "              hue = 'income', \n",
    "              data = wc_df)\n",
    " \n",
    "# Show the plot\n",
    "plt.show()"
   ]
  },
  {
   "cell_type": "code",
   "execution_count": null,
   "id": "1d42b288-82be-4c5d-a4f3-405450ed9e65",
   "metadata": {},
   "outputs": [],
   "source": []
  },
  {
   "cell_type": "code",
   "execution_count": null,
   "id": "10cec0f0-d8e7-4c79-9014-84d374c16076",
   "metadata": {},
   "outputs": [],
   "source": []
  },
  {
   "cell_type": "code",
   "execution_count": null,
   "id": "7012daab-9159-463b-b17e-2292e06f0e19",
   "metadata": {},
   "outputs": [],
   "source": [
    "# Apply KNNImputing or MICE"
   ]
  },
  {
   "cell_type": "code",
   "execution_count": null,
   "id": "a60a7b3d-3b34-436b-b915-13835d136e11",
   "metadata": {},
   "outputs": [],
   "source": [
    "df['relationship'].value_counts(dropna=False)"
   ]
  },
  {
   "cell_type": "markdown",
   "id": "c85fb03d-3b11-4dc7-83c6-9edcf6829aab",
   "metadata": {},
   "source": [
    "Ano kinalaman neto?!"
   ]
  },
  {
   "cell_type": "code",
   "execution_count": null,
   "id": "effcad35-7c76-413a-adef-9f4ec7bfeb02",
   "metadata": {},
   "outputs": [],
   "source": []
  },
  {
   "cell_type": "code",
   "execution_count": null,
   "id": "252516d0-4e6b-476c-b2ae-2371a3a2cd86",
   "metadata": {},
   "outputs": [],
   "source": []
  },
  {
   "cell_type": "code",
   "execution_count": null,
   "id": "8f061ebb-81ef-4dfe-9199-5c69ba635b6f",
   "metadata": {},
   "outputs": [],
   "source": []
  },
  {
   "cell_type": "code",
   "execution_count": null,
   "id": "57b5956d-2204-44ec-bf3b-92c92e3cb4cf",
   "metadata": {},
   "outputs": [],
   "source": []
  },
  {
   "cell_type": "code",
   "execution_count": null,
   "id": "45545f4e-788d-4f92-b962-e94e7a11fd41",
   "metadata": {},
   "outputs": [],
   "source": []
  },
  {
   "cell_type": "markdown",
   "id": "a1fad6bd-091f-405e-8c6c-9bc2eba135e3",
   "metadata": {},
   "source": [
    "#### Explore KNNImputing"
   ]
  },
  {
   "cell_type": "code",
   "execution_count": null,
   "id": "80668cc3-d9dd-4aef-a0fa-e55660db3db7",
   "metadata": {},
   "outputs": [],
   "source": []
  },
  {
   "cell_type": "code",
   "execution_count": null,
   "id": "d884a044-dd25-409a-9a17-492aadc40e32",
   "metadata": {},
   "outputs": [],
   "source": []
  },
  {
   "cell_type": "code",
   "execution_count": null,
   "id": "667541c6-2b3d-40d9-a4d5-a014163fe26c",
   "metadata": {},
   "outputs": [],
   "source": []
  },
  {
   "cell_type": "code",
   "execution_count": null,
   "id": "506a5f03-86f7-40a3-9fd6-b85ce6fd8b1e",
   "metadata": {},
   "outputs": [],
   "source": []
  },
  {
   "cell_type": "code",
   "execution_count": null,
   "id": "7fcf33c8-9c24-4710-b532-b5f674f3a93d",
   "metadata": {},
   "outputs": [],
   "source": []
  },
  {
   "cell_type": "code",
   "execution_count": null,
   "id": "5e1a5ef1-442b-4dcb-bb39-0c5d986c335b",
   "metadata": {},
   "outputs": [],
   "source": []
  },
  {
   "cell_type": "code",
   "execution_count": null,
   "id": "70de7a4e-f650-402b-9fa3-bd16a20d027d",
   "metadata": {},
   "outputs": [],
   "source": [
    "ohe_enc = OneHotEncoder(sparse_output=False, handle_unknown='ignore')\n",
    "ms_pipe = make_pipeline(replace_transformer, ohe_enc)"
   ]
  },
  {
   "cell_type": "code",
   "execution_count": null,
   "id": "fee1a5a9-6598-40c8-87d7-cf58ff4e7bd4",
   "metadata": {},
   "outputs": [],
   "source": [
    "count_process = ColumnTransformer([ \n",
    "    ('ohe', ohe_enc, ['relationship', 'sex']), \n",
    "    ('repl_tf', ms_pipe, ['marital.status'])\n",
    "])"
   ]
  },
  {
   "cell_type": "code",
   "execution_count": null,
   "id": "7ea55a8f-47b6-4014-994b-f9aab71cc514",
   "metadata": {},
   "outputs": [],
   "source": [
    "count_process.fit_transform(df)"
   ]
  },
  {
   "cell_type": "markdown",
   "id": "6037329a-9e86-458a-87df-2a6be5c395aa",
   "metadata": {},
   "source": [
    "### Next Task \n",
    "\n",
    "* How to apply FunctionTransformer inside a pipeline"
   ]
  },
  {
   "cell_type": "code",
   "execution_count": null,
   "id": "73c50720-f4f1-4a91-bc31-29b3dfe215a0",
   "metadata": {},
   "outputs": [],
   "source": []
  },
  {
   "cell_type": "markdown",
   "id": "4cb61fc2-09a6-45b9-814e-57b8d3628470",
   "metadata": {},
   "source": [
    "* [ ] Age\n",
    "* [ ] workclass\n",
    "* [ ] fnlwght\n",
    "* [ ] education\n",
    "* [ ] education.num\n",
    "* [X] martial.status\n",
    "* [ ] occupation\n",
    "* [X] relationship\n",
    "* [ ] race\n",
    "* [X] sex\n",
    "* [ ] occupation\n",
    "* [ ] capital.gain\n",
    "* [ ] capital.loss\n",
    "* [ ] hours.per.week\n",
    "* [ ] native.country\n",
    "* [ ] income"
   ]
  },
  {
   "cell_type": "code",
   "execution_count": null,
   "id": "61c70a0b-0b13-453d-9c0e-f16d246cacfd",
   "metadata": {},
   "outputs": [],
   "source": []
  },
  {
   "cell_type": "code",
   "execution_count": null,
   "id": "126bdd7c-792f-4a6f-a26f-3f4b2189e4df",
   "metadata": {},
   "outputs": [],
   "source": []
  },
  {
   "cell_type": "code",
   "execution_count": null,
   "id": "2e012fde-e16e-451c-af7f-ce291cb89abe",
   "metadata": {},
   "outputs": [],
   "source": []
  },
  {
   "cell_type": "code",
   "execution_count": null,
   "id": "0b3e896e-3d6c-481d-afe9-310eebef54e7",
   "metadata": {},
   "outputs": [],
   "source": []
  },
  {
   "cell_type": "markdown",
   "id": "2d783b8b-13be-4f56-9c09-2e28073ca56c",
   "metadata": {},
   "source": [
    "---"
   ]
  },
  {
   "cell_type": "code",
   "execution_count": null,
   "id": "df5b13d2-8a7b-4c1d-b2d7-32f2904c1ae1",
   "metadata": {},
   "outputs": [],
   "source": []
  },
  {
   "cell_type": "code",
   "execution_count": null,
   "id": "cdc62d29-8f9a-4808-90fc-959604317341",
   "metadata": {},
   "outputs": [],
   "source": [
    "freq_imp = SimpleImputer(strategy=\"most_frequent\")\n",
    "ohe_enc = OneHotEncoder(sparse_output=False, handle_unknown='ignore')\n",
    "cat_pipeline = make_pipeline(freq_imp, ohe_enc)"
   ]
  },
  {
   "cell_type": "code",
   "execution_count": null,
   "id": "463c5ffe-d1df-4567-bc3d-d259a8b3b5a5",
   "metadata": {},
   "outputs": [],
   "source": [
    "from category_encoders import CountEncoder\n",
    "\n",
    "cnt_encoder = CountEncoder()\n",
    "\n",
    "ohe_enc = OneHotEncoder(sparse_output=False, handle_unknown='ignore')\n",
    "cardinality_pipeline = make_pipeline(freq_imp, cnt_encoder)"
   ]
  },
  {
   "cell_type": "code",
   "execution_count": null,
   "id": "6c058ce8-4aae-41e0-993a-8c4f4061abcd",
   "metadata": {},
   "outputs": [],
   "source": [
    "df.columns"
   ]
  },
  {
   "cell_type": "code",
   "execution_count": null,
   "id": "360052e8-d976-4906-801d-02a146652e67",
   "metadata": {},
   "outputs": [],
   "source": [
    "oe = OrdinalEncoder()"
   ]
  },
  {
   "cell_type": "code",
   "execution_count": null,
   "id": "00d26dd6-1c89-41ea-97a4-c1f5c2b423e4",
   "metadata": {},
   "outputs": [],
   "source": [
    "count_process = ColumnTransformer([\n",
    "    ('count', cardinality_pipeline, ['relationship', 'marital.status']),\n",
    "    ('ohe', ohe_enc, ['sex'])\n",
    "])"
   ]
  },
  {
   "cell_type": "code",
   "execution_count": null,
   "id": "a2813742-1292-4ee2-8086-8f712ba61710",
   "metadata": {},
   "outputs": [],
   "source": [
    "df['workclass'].isnull().sum()"
   ]
  },
  {
   "cell_type": "code",
   "execution_count": null,
   "id": "83db983d-1626-435b-ba52-5811a9a8c3b5",
   "metadata": {},
   "outputs": [],
   "source": [
    "count_process.fit_transform(df)"
   ]
  },
  {
   "cell_type": "markdown",
   "id": "fa95ff31-11ef-40cd-ad72-1f50b88c1422",
   "metadata": {},
   "source": [
    "----"
   ]
  },
  {
   "cell_type": "code",
   "execution_count": null,
   "id": "432eaa70-3980-4eac-bb00-077eba538802",
   "metadata": {},
   "outputs": [],
   "source": [
    "df"
   ]
  },
  {
   "cell_type": "markdown",
   "id": "0a89b0ae-4939-4bb2-bcad-0fa3430a7ac5",
   "metadata": {},
   "source": [
    "---"
   ]
  },
  {
   "cell_type": "markdown",
   "id": "b1633521-2c04-44e1-97f1-1402a94ca100",
   "metadata": {},
   "source": [
    "---"
   ]
  },
  {
   "cell_type": "code",
   "execution_count": null,
   "id": "7a72cd2c-a609-4a4f-add2-b776c569fb92",
   "metadata": {},
   "outputs": [],
   "source": []
  }
 ],
 "metadata": {
  "kernelspec": {
   "display_name": "Python 3 (ipykernel)",
   "language": "python",
   "name": "python3"
  },
  "language_info": {
   "codemirror_mode": {
    "name": "ipython",
    "version": 3
   },
   "file_extension": ".py",
   "mimetype": "text/x-python",
   "name": "python",
   "nbconvert_exporter": "python",
   "pygments_lexer": "ipython3",
   "version": "3.9.13"
  }
 },
 "nbformat": 4,
 "nbformat_minor": 5
}
