{
 "cells": [
  {
   "cell_type": "markdown",
   "id": "88373bff",
   "metadata": {},
   "source": [
    "# Census Income\n",
    "---"
   ]
  },
  {
   "cell_type": "markdown",
   "id": "347c1f62-0255-4267-bdc9-1e398d8b2fc6",
   "metadata": {},
   "source": [
    "#### Import necessary libraries"
   ]
  },
  {
   "cell_type": "code",
   "execution_count": 1,
   "id": "30916d07",
   "metadata": {},
   "outputs": [],
   "source": [
    "import pandas as pd\n",
    "import numpy as np\n",
    "import seaborn as sns\n",
    "import matplotlib.pyplot as plt\n",
    "\n",
    "from sklearn.compose import make_column_transformer"
   ]
  },
  {
   "cell_type": "markdown",
   "id": "f9c1cd4f-d5b6-4ab0-b859-a73f3ea4da08",
   "metadata": {},
   "source": [
    "#### Import the data file"
   ]
  },
  {
   "cell_type": "code",
   "execution_count": 2,
   "id": "3e5cae62",
   "metadata": {},
   "outputs": [
    {
     "data": {
      "text/html": [
       "<div>\n",
       "<style scoped>\n",
       "    .dataframe tbody tr th:only-of-type {\n",
       "        vertical-align: middle;\n",
       "    }\n",
       "\n",
       "    .dataframe tbody tr th {\n",
       "        vertical-align: top;\n",
       "    }\n",
       "\n",
       "    .dataframe thead th {\n",
       "        text-align: right;\n",
       "    }\n",
       "</style>\n",
       "<table border=\"1\" class=\"dataframe\">\n",
       "  <thead>\n",
       "    <tr style=\"text-align: right;\">\n",
       "      <th></th>\n",
       "      <th>age</th>\n",
       "      <th>workclass</th>\n",
       "      <th>fnlwgt</th>\n",
       "      <th>education</th>\n",
       "      <th>education.num</th>\n",
       "      <th>marital.status</th>\n",
       "      <th>occupation</th>\n",
       "      <th>relationship</th>\n",
       "      <th>race</th>\n",
       "      <th>sex</th>\n",
       "      <th>capital.gain</th>\n",
       "      <th>capital.loss</th>\n",
       "      <th>hours.per.week</th>\n",
       "      <th>native.country</th>\n",
       "      <th>income</th>\n",
       "    </tr>\n",
       "  </thead>\n",
       "  <tbody>\n",
       "    <tr>\n",
       "      <th>0</th>\n",
       "      <td>90</td>\n",
       "      <td>?</td>\n",
       "      <td>77053</td>\n",
       "      <td>HS-grad</td>\n",
       "      <td>9</td>\n",
       "      <td>Widowed</td>\n",
       "      <td>?</td>\n",
       "      <td>Not-in-family</td>\n",
       "      <td>White</td>\n",
       "      <td>Female</td>\n",
       "      <td>0</td>\n",
       "      <td>4356</td>\n",
       "      <td>40</td>\n",
       "      <td>United-States</td>\n",
       "      <td>&lt;=50K</td>\n",
       "    </tr>\n",
       "    <tr>\n",
       "      <th>1</th>\n",
       "      <td>82</td>\n",
       "      <td>Private</td>\n",
       "      <td>132870</td>\n",
       "      <td>HS-grad</td>\n",
       "      <td>9</td>\n",
       "      <td>Widowed</td>\n",
       "      <td>Exec-managerial</td>\n",
       "      <td>Not-in-family</td>\n",
       "      <td>White</td>\n",
       "      <td>Female</td>\n",
       "      <td>0</td>\n",
       "      <td>4356</td>\n",
       "      <td>18</td>\n",
       "      <td>United-States</td>\n",
       "      <td>&lt;=50K</td>\n",
       "    </tr>\n",
       "    <tr>\n",
       "      <th>2</th>\n",
       "      <td>66</td>\n",
       "      <td>?</td>\n",
       "      <td>186061</td>\n",
       "      <td>Some-college</td>\n",
       "      <td>10</td>\n",
       "      <td>Widowed</td>\n",
       "      <td>?</td>\n",
       "      <td>Unmarried</td>\n",
       "      <td>Black</td>\n",
       "      <td>Female</td>\n",
       "      <td>0</td>\n",
       "      <td>4356</td>\n",
       "      <td>40</td>\n",
       "      <td>United-States</td>\n",
       "      <td>&lt;=50K</td>\n",
       "    </tr>\n",
       "    <tr>\n",
       "      <th>3</th>\n",
       "      <td>54</td>\n",
       "      <td>Private</td>\n",
       "      <td>140359</td>\n",
       "      <td>7th-8th</td>\n",
       "      <td>4</td>\n",
       "      <td>Divorced</td>\n",
       "      <td>Machine-op-inspct</td>\n",
       "      <td>Unmarried</td>\n",
       "      <td>White</td>\n",
       "      <td>Female</td>\n",
       "      <td>0</td>\n",
       "      <td>3900</td>\n",
       "      <td>40</td>\n",
       "      <td>United-States</td>\n",
       "      <td>&lt;=50K</td>\n",
       "    </tr>\n",
       "    <tr>\n",
       "      <th>4</th>\n",
       "      <td>41</td>\n",
       "      <td>Private</td>\n",
       "      <td>264663</td>\n",
       "      <td>Some-college</td>\n",
       "      <td>10</td>\n",
       "      <td>Separated</td>\n",
       "      <td>Prof-specialty</td>\n",
       "      <td>Own-child</td>\n",
       "      <td>White</td>\n",
       "      <td>Female</td>\n",
       "      <td>0</td>\n",
       "      <td>3900</td>\n",
       "      <td>40</td>\n",
       "      <td>United-States</td>\n",
       "      <td>&lt;=50K</td>\n",
       "    </tr>\n",
       "  </tbody>\n",
       "</table>\n",
       "</div>"
      ],
      "text/plain": [
       "   age workclass  fnlwgt     education  education.num marital.status  \\\n",
       "0   90         ?   77053       HS-grad              9        Widowed   \n",
       "1   82   Private  132870       HS-grad              9        Widowed   \n",
       "2   66         ?  186061  Some-college             10        Widowed   \n",
       "3   54   Private  140359       7th-8th              4       Divorced   \n",
       "4   41   Private  264663  Some-college             10      Separated   \n",
       "\n",
       "          occupation   relationship   race     sex  capital.gain  \\\n",
       "0                  ?  Not-in-family  White  Female             0   \n",
       "1    Exec-managerial  Not-in-family  White  Female             0   \n",
       "2                  ?      Unmarried  Black  Female             0   \n",
       "3  Machine-op-inspct      Unmarried  White  Female             0   \n",
       "4     Prof-specialty      Own-child  White  Female             0   \n",
       "\n",
       "   capital.loss  hours.per.week native.country income  \n",
       "0          4356              40  United-States  <=50K  \n",
       "1          4356              18  United-States  <=50K  \n",
       "2          4356              40  United-States  <=50K  \n",
       "3          3900              40  United-States  <=50K  \n",
       "4          3900              40  United-States  <=50K  "
      ]
     },
     "execution_count": 2,
     "metadata": {},
     "output_type": "execute_result"
    }
   ],
   "source": [
    "raw_df = pd.read_csv('files/datasets/adult.csv')\n",
    "raw_df.head()"
   ]
  },
  {
   "cell_type": "markdown",
   "id": "6b438453-1ac3-4d2b-9acc-fd44c295057f",
   "metadata": {},
   "source": [
    "Because values from the CSV file in Kaggle uses `?` as null values, we will replace those question marks with a NaN. "
   ]
  },
  {
   "cell_type": "code",
   "execution_count": 3,
   "id": "467375a5-18a1-4c9a-a9b1-a6422e9988f3",
   "metadata": {},
   "outputs": [],
   "source": [
    "raw_df.replace(to_replace='?', value=np.nan, inplace=True)"
   ]
  },
  {
   "cell_type": "code",
   "execution_count": 4,
   "id": "ea46437b-c99d-4ade-91cc-32ac05f3194e",
   "metadata": {},
   "outputs": [],
   "source": [
    "raw_df.replace(to_replace='<=50K', value=0, inplace=True)\n",
    "raw_df.replace(to_replace='>50K', value=1, inplace=True)"
   ]
  },
  {
   "cell_type": "markdown",
   "id": "be80ae17-2b3a-452a-b01e-037147e6b6a7",
   "metadata": {},
   "source": [
    "#### View information about the dataframe"
   ]
  },
  {
   "cell_type": "code",
   "execution_count": 5,
   "id": "c9204107",
   "metadata": {},
   "outputs": [
    {
     "name": "stdout",
     "output_type": "stream",
     "text": [
      "<class 'pandas.core.frame.DataFrame'>\n",
      "RangeIndex: 32561 entries, 0 to 32560\n",
      "Data columns (total 15 columns):\n",
      " #   Column          Non-Null Count  Dtype \n",
      "---  ------          --------------  ----- \n",
      " 0   age             32561 non-null  int64 \n",
      " 1   workclass       30725 non-null  object\n",
      " 2   fnlwgt          32561 non-null  int64 \n",
      " 3   education       32561 non-null  object\n",
      " 4   education.num   32561 non-null  int64 \n",
      " 5   marital.status  32561 non-null  object\n",
      " 6   occupation      30718 non-null  object\n",
      " 7   relationship    32561 non-null  object\n",
      " 8   race            32561 non-null  object\n",
      " 9   sex             32561 non-null  object\n",
      " 10  capital.gain    32561 non-null  int64 \n",
      " 11  capital.loss    32561 non-null  int64 \n",
      " 12  hours.per.week  32561 non-null  int64 \n",
      " 13  native.country  31978 non-null  object\n",
      " 14  income          32561 non-null  int64 \n",
      "dtypes: int64(7), object(8)\n",
      "memory usage: 3.7+ MB\n"
     ]
    }
   ],
   "source": [
    "raw_df.info()"
   ]
  },
  {
   "cell_type": "markdown",
   "id": "3b5de6c4-6d7e-4f85-9655-0efb2b42c518",
   "metadata": {},
   "source": [
    "#### Split the data into target and features"
   ]
  },
  {
   "cell_type": "code",
   "execution_count": 6,
   "id": "07f74891-ae8a-4d02-b446-f0e2b08c07ea",
   "metadata": {},
   "outputs": [],
   "source": [
    "def xy_split(dataframe, y_column):\n",
    "    features = dataframe.loc[:, dataframe.columns != y_column]\n",
    "    target = dataframe[y_column]\n",
    "    return features, target\n",
    "\n",
    "X, y = xy_split(raw_df, 'income')"
   ]
  },
  {
   "cell_type": "markdown",
   "id": "1d49ea7c-f2d8-4cc2-a2e2-f5d95dd7832c",
   "metadata": {},
   "source": [
    "#### Create training and testing sets"
   ]
  },
  {
   "cell_type": "code",
   "execution_count": 7,
   "id": "5b4d5313-fc82-4cc4-b1f5-42eb526deeb9",
   "metadata": {},
   "outputs": [],
   "source": [
    "from sklearn.model_selection import train_test_split\n",
    "X_train, X_test, y_train, y_test = train_test_split(X, y, test_size=0.2, random_state=42)"
   ]
  },
  {
   "cell_type": "markdown",
   "id": "0cba0097-a417-441d-a301-d6163b5dac89",
   "metadata": {},
   "source": [
    "#### Create a copy of the original dataset"
   ]
  },
  {
   "cell_type": "code",
   "execution_count": 8,
   "id": "122cef88-0235-4a4e-82f1-925512dfd5b6",
   "metadata": {},
   "outputs": [],
   "source": [
    "df = X_train.copy()"
   ]
  },
  {
   "cell_type": "markdown",
   "id": "eb503f91-6adc-4da8-85ca-662804eb4e01",
   "metadata": {},
   "source": [
    "---\n",
    "\n",
    "# Data Preparation"
   ]
  },
  {
   "cell_type": "markdown",
   "id": "d8b5e254-31ec-4fcf-9d94-50a48dc2cc2d",
   "metadata": {},
   "source": [
    "#### Import necesary libraries"
   ]
  },
  {
   "cell_type": "code",
   "execution_count": 9,
   "id": "e270aa51-d552-46bc-b783-6c2dab48fb01",
   "metadata": {},
   "outputs": [],
   "source": [
    "from sklearn.compose import ColumnTransformer, make_column_selector\n",
    "from sklearn.impute import SimpleImputer\n",
    "from sklearn.pipeline import Pipeline, make_pipeline\n",
    "from sklearn.preprocessing import OneHotEncoder, OrdinalEncoder\n",
    "\n",
    "from sklearn import set_config\n",
    "set_config(transform_output=\"pandas\")"
   ]
  },
  {
   "cell_type": "markdown",
   "id": "2c6999da-992e-4261-96a2-e7a74c7aaef0",
   "metadata": {
    "jp-MarkdownHeadingCollapsed": true,
    "tags": []
   },
   "source": [
    "#### Determine which columns have low cardinality"
   ]
  },
  {
   "cell_type": "code",
   "execution_count": 10,
   "id": "ba7f2714-2b18-4350-9aea-d8544f038dc6",
   "metadata": {},
   "outputs": [
    {
     "name": "stdout",
     "output_type": "stream",
     "text": [
      "8 - workclass\n",
      "7 - marital.status\n",
      "6 - relationship\n",
      "5 - race\n",
      "2 - sex\n"
     ]
    }
   ],
   "source": [
    "def ohe_eligibility(datafame):\n",
    "    for i in datafame.columns:\n",
    "        if len(datafame[i].value_counts()) < 10:\n",
    "            print(f'{len(datafame[i].value_counts())} - {i}')\n",
    "        else:\n",
    "            pass\n",
    "        \n",
    "ohe_eligibility(df)"
   ]
  },
  {
   "cell_type": "markdown",
   "id": "56f9f415-0b91-4303-99de-a33d9597d4ef",
   "metadata": {
    "tags": []
   },
   "source": [
    "### Fixing/Encoding Marital Status column"
   ]
  },
  {
   "cell_type": "code",
   "execution_count": 11,
   "id": "64fac352-5114-4427-a489-e78266ecc491",
   "metadata": {},
   "outputs": [
    {
     "data": {
      "text/plain": [
       "Married-civ-spouse       11977\n",
       "Never-married             8502\n",
       "Divorced                  3582\n",
       "Separated                  827\n",
       "Widowed                    790\n",
       "Married-spouse-absent      352\n",
       "Married-AF-spouse           18\n",
       "Name: marital.status, dtype: int64"
      ]
     },
     "execution_count": 11,
     "metadata": {},
     "output_type": "execute_result"
    }
   ],
   "source": [
    "df['marital.status'].value_counts(dropna=False)"
   ]
  },
  {
   "cell_type": "code",
   "execution_count": 12,
   "id": "016d2b0c-810a-462c-8689-f3edb5b3d721",
   "metadata": {},
   "outputs": [
    {
     "data": {
      "image/png": "[encoded data removed]",
      "text/plain": [
       "<Figure size 640x480 with 1 Axes>"
      ]
     },
     "metadata": {},
     "output_type": "display_data"
    }
   ],
   "source": [
    "sns.countplot(x='marital.status', data=df)\n",
    "plt.xticks(rotation=45)\n",
    "plt.show()"
   ]
  },
  {
   "cell_type": "markdown",
   "id": "e95c1fd8-b949-4f59-b997-b12faa106111",
   "metadata": {},
   "source": [
    "Reduce categories by merging different categories into one.\n",
    "\n",
    "Single: **Never Married**\n",
    "\n",
    "Break: **Divorced**, **Widowed**, **Separated**\n",
    "\n",
    "Married: **Married-civ-spouse**, **Married-spouse-absent**, **Married AF spouse**"
   ]
  },
  {
   "cell_type": "markdown",
   "id": "d16277b6-d0da-4d5b-ab59-1fd485bad83e",
   "metadata": {},
   "source": []
  },
  {
   "cell_type": "code",
   "execution_count": 13,
   "id": "fabbec6e-d186-4fd1-8463-e38eacb468ab",
   "metadata": {},
   "outputs": [],
   "source": [
    "replacements_dict = {\"Never-married\": \"single\", \n",
    "                     \"Divorced\": \"break\", \n",
    "                     \"Separated\": \"break\",\n",
    "                     \"Widowed\": \"break\", \n",
    "                     \"Married-civ-spouse\": \"married\",\n",
    "                     \"Married-spouse-absent\": \"married\", \n",
    "                     \"Married-AF-spouse\": \"married\",}"
   ]
  },
  {
   "cell_type": "code",
   "execution_count": 14,
   "id": "fcad82db-8f99-492b-aa27-2b834d03da56",
   "metadata": {},
   "outputs": [],
   "source": [
    "import pandas as pd\n",
    "from sklearn.preprocessing import FunctionTransformer\n",
    "\n",
    "# Define a custom function to replace a value in a dataframe\n",
    "def replace_values(dataframe, column, replacements_dict):\n",
    "    dataframe[column] = dataframe[column].replace(replacements_dict)\n",
    "    return dataframe\n",
    "\n",
    "# Create a FunctionTransformer object\n",
    "replace_transformer = FunctionTransformer(replace_values, kw_args={'column': 'marital.status', 'replacements_dict': replacements_dict})\n",
    "\n",
    "# # Apply the transformer to a example dataframe\n",
    "df_new = replace_transformer.transform(df)"
   ]
  },
  {
   "cell_type": "code",
   "execution_count": 15,
   "id": "35712ab9-bf88-4e4f-981d-1fed2cdd40f8",
   "metadata": {},
   "outputs": [
    {
     "data": {
      "text/html": [
       "<div>\n",
       "<style scoped>\n",
       "    .dataframe tbody tr th:only-of-type {\n",
       "        vertical-align: middle;\n",
       "    }\n",
       "\n",
       "    .dataframe tbody tr th {\n",
       "        vertical-align: top;\n",
       "    }\n",
       "\n",
       "    .dataframe thead th {\n",
       "        text-align: right;\n",
       "    }\n",
       "</style>\n",
       "<table border=\"1\" class=\"dataframe\">\n",
       "  <thead>\n",
       "    <tr style=\"text-align: right;\">\n",
       "      <th></th>\n",
       "      <th>age</th>\n",
       "      <th>workclass</th>\n",
       "      <th>fnlwgt</th>\n",
       "      <th>education</th>\n",
       "      <th>education.num</th>\n",
       "      <th>marital.status</th>\n",
       "      <th>occupation</th>\n",
       "      <th>relationship</th>\n",
       "      <th>race</th>\n",
       "      <th>sex</th>\n",
       "      <th>capital.gain</th>\n",
       "      <th>capital.loss</th>\n",
       "      <th>hours.per.week</th>\n",
       "      <th>native.country</th>\n",
       "    </tr>\n",
       "  </thead>\n",
       "  <tbody>\n",
       "    <tr>\n",
       "      <th>5514</th>\n",
       "      <td>26</td>\n",
       "      <td>Private</td>\n",
       "      <td>256263</td>\n",
       "      <td>HS-grad</td>\n",
       "      <td>9</td>\n",
       "      <td>single</td>\n",
       "      <td>Craft-repair</td>\n",
       "      <td>Not-in-family</td>\n",
       "      <td>White</td>\n",
       "      <td>Male</td>\n",
       "      <td>0</td>\n",
       "      <td>0</td>\n",
       "      <td>25</td>\n",
       "      <td>United-States</td>\n",
       "    </tr>\n",
       "    <tr>\n",
       "      <th>19777</th>\n",
       "      <td>24</td>\n",
       "      <td>Private</td>\n",
       "      <td>170277</td>\n",
       "      <td>HS-grad</td>\n",
       "      <td>9</td>\n",
       "      <td>single</td>\n",
       "      <td>Other-service</td>\n",
       "      <td>Not-in-family</td>\n",
       "      <td>White</td>\n",
       "      <td>Female</td>\n",
       "      <td>0</td>\n",
       "      <td>0</td>\n",
       "      <td>35</td>\n",
       "      <td>United-States</td>\n",
       "    </tr>\n",
       "    <tr>\n",
       "      <th>10781</th>\n",
       "      <td>36</td>\n",
       "      <td>Private</td>\n",
       "      <td>75826</td>\n",
       "      <td>Bachelors</td>\n",
       "      <td>13</td>\n",
       "      <td>break</td>\n",
       "      <td>Adm-clerical</td>\n",
       "      <td>Unmarried</td>\n",
       "      <td>White</td>\n",
       "      <td>Female</td>\n",
       "      <td>0</td>\n",
       "      <td>0</td>\n",
       "      <td>40</td>\n",
       "      <td>United-States</td>\n",
       "    </tr>\n",
       "    <tr>\n",
       "      <th>32240</th>\n",
       "      <td>22</td>\n",
       "      <td>State-gov</td>\n",
       "      <td>24395</td>\n",
       "      <td>Some-college</td>\n",
       "      <td>10</td>\n",
       "      <td>married</td>\n",
       "      <td>Adm-clerical</td>\n",
       "      <td>Wife</td>\n",
       "      <td>White</td>\n",
       "      <td>Female</td>\n",
       "      <td>0</td>\n",
       "      <td>0</td>\n",
       "      <td>20</td>\n",
       "      <td>United-States</td>\n",
       "    </tr>\n",
       "    <tr>\n",
       "      <th>9876</th>\n",
       "      <td>31</td>\n",
       "      <td>Local-gov</td>\n",
       "      <td>356689</td>\n",
       "      <td>Bachelors</td>\n",
       "      <td>13</td>\n",
       "      <td>married</td>\n",
       "      <td>Prof-specialty</td>\n",
       "      <td>Husband</td>\n",
       "      <td>White</td>\n",
       "      <td>Male</td>\n",
       "      <td>0</td>\n",
       "      <td>0</td>\n",
       "      <td>40</td>\n",
       "      <td>United-States</td>\n",
       "    </tr>\n",
       "  </tbody>\n",
       "</table>\n",
       "</div>"
      ],
      "text/plain": [
       "       age  workclass  fnlwgt     education  education.num marital.status  \\\n",
       "5514    26    Private  256263       HS-grad              9         single   \n",
       "19777   24    Private  170277       HS-grad              9         single   \n",
       "10781   36    Private   75826     Bachelors             13          break   \n",
       "32240   22  State-gov   24395  Some-college             10        married   \n",
       "9876    31  Local-gov  356689     Bachelors             13        married   \n",
       "\n",
       "           occupation   relationship   race     sex  capital.gain  \\\n",
       "5514     Craft-repair  Not-in-family  White    Male             0   \n",
       "19777   Other-service  Not-in-family  White  Female             0   \n",
       "10781    Adm-clerical      Unmarried  White  Female             0   \n",
       "32240    Adm-clerical           Wife  White  Female             0   \n",
       "9876   Prof-specialty        Husband  White    Male             0   \n",
       "\n",
       "       capital.loss  hours.per.week native.country  \n",
       "5514              0              25  United-States  \n",
       "19777             0              35  United-States  \n",
       "10781             0              40  United-States  \n",
       "32240             0              20  United-States  \n",
       "9876              0              40  United-States  "
      ]
     },
     "execution_count": 15,
     "metadata": {},
     "output_type": "execute_result"
    }
   ],
   "source": [
    "df_new.head()"
   ]
  },
  {
   "cell_type": "code",
   "execution_count": 16,
   "id": "018a6fc2-185a-409e-a852-216d3eabfd32",
   "metadata": {},
   "outputs": [
    {
     "data": {
      "text/plain": [
       "married    12347\n",
       "single      8502\n",
       "break       5199\n",
       "Name: marital.status, dtype: int64"
      ]
     },
     "execution_count": 16,
     "metadata": {},
     "output_type": "execute_result"
    }
   ],
   "source": [
    "df_new['marital.status'].value_counts()"
   ]
  },
  {
   "cell_type": "code",
   "execution_count": 17,
   "id": "dfb364b5-f048-4930-863a-ef325d0a807d",
   "metadata": {},
   "outputs": [],
   "source": [
    "# Apply One-Hot Encoding\n",
    "\n",
    "ohe_enc = OneHotEncoder(sparse_output=False, handle_unknown='ignore')"
   ]
  },
  {
   "cell_type": "code",
   "execution_count": 18,
   "id": "a74f8028-1b98-45c9-99eb-fc48effd4474",
   "metadata": {},
   "outputs": [],
   "source": [
    "ct = make_column_transformer(\n",
    "    (ohe_enc, ['marital.status']))"
   ]
  },
  {
   "cell_type": "code",
   "execution_count": 19,
   "id": "77d394fb-0d90-4527-abdb-55ffa7a20d98",
   "metadata": {},
   "outputs": [],
   "source": [
    "ms_enc = ct.fit_transform(df_new)"
   ]
  },
  {
   "cell_type": "code",
   "execution_count": 20,
   "id": "542c068b-a1ec-497f-91eb-831f124c85a3",
   "metadata": {},
   "outputs": [
    {
     "data": {
      "text/html": [
       "<div>\n",
       "<style scoped>\n",
       "    .dataframe tbody tr th:only-of-type {\n",
       "        vertical-align: middle;\n",
       "    }\n",
       "\n",
       "    .dataframe tbody tr th {\n",
       "        vertical-align: top;\n",
       "    }\n",
       "\n",
       "    .dataframe thead th {\n",
       "        text-align: right;\n",
       "    }\n",
       "</style>\n",
       "<table border=\"1\" class=\"dataframe\">\n",
       "  <thead>\n",
       "    <tr style=\"text-align: right;\">\n",
       "      <th></th>\n",
       "      <th>onehotencoder__marital.status_break</th>\n",
       "      <th>onehotencoder__marital.status_married</th>\n",
       "      <th>onehotencoder__marital.status_single</th>\n",
       "    </tr>\n",
       "  </thead>\n",
       "  <tbody>\n",
       "    <tr>\n",
       "      <th>5514</th>\n",
       "      <td>0.0</td>\n",
       "      <td>0.0</td>\n",
       "      <td>1.0</td>\n",
       "    </tr>\n",
       "    <tr>\n",
       "      <th>19777</th>\n",
       "      <td>0.0</td>\n",
       "      <td>0.0</td>\n",
       "      <td>1.0</td>\n",
       "    </tr>\n",
       "    <tr>\n",
       "      <th>10781</th>\n",
       "      <td>1.0</td>\n",
       "      <td>0.0</td>\n",
       "      <td>0.0</td>\n",
       "    </tr>\n",
       "    <tr>\n",
       "      <th>32240</th>\n",
       "      <td>0.0</td>\n",
       "      <td>1.0</td>\n",
       "      <td>0.0</td>\n",
       "    </tr>\n",
       "    <tr>\n",
       "      <th>9876</th>\n",
       "      <td>0.0</td>\n",
       "      <td>1.0</td>\n",
       "      <td>0.0</td>\n",
       "    </tr>\n",
       "  </tbody>\n",
       "</table>\n",
       "</div>"
      ],
      "text/plain": [
       "       onehotencoder__marital.status_break  \\\n",
       "5514                                   0.0   \n",
       "19777                                  0.0   \n",
       "10781                                  1.0   \n",
       "32240                                  0.0   \n",
       "9876                                   0.0   \n",
       "\n",
       "       onehotencoder__marital.status_married  \\\n",
       "5514                                     0.0   \n",
       "19777                                    0.0   \n",
       "10781                                    0.0   \n",
       "32240                                    1.0   \n",
       "9876                                     1.0   \n",
       "\n",
       "       onehotencoder__marital.status_single  \n",
       "5514                                    1.0  \n",
       "19777                                   1.0  \n",
       "10781                                   0.0  \n",
       "32240                                   0.0  \n",
       "9876                                    0.0  "
      ]
     },
     "execution_count": 20,
     "metadata": {},
     "output_type": "execute_result"
    }
   ],
   "source": [
    "ms_enc.head()"
   ]
  },
  {
   "cell_type": "markdown",
   "id": "f1e006dc-6937-4119-8491-042bff0aa374",
   "metadata": {},
   "source": [
    "----"
   ]
  },
  {
   "cell_type": "markdown",
   "id": "335d2f9b-f4ce-4f0c-b9f7-4bf9511ca0b9",
   "metadata": {
    "tags": []
   },
   "source": [
    "### Fixing Workclass column"
   ]
  },
  {
   "cell_type": "code",
   "execution_count": 21,
   "id": "2f3432c9-644a-4a98-a12b-885dcad11518",
   "metadata": {},
   "outputs": [
    {
     "data": {
      "text/plain": [
       "Private             18153\n",
       "Self-emp-not-inc     2032\n",
       "Local-gov            1680\n",
       "NaN                  1436\n",
       "State-gov            1062\n",
       "Self-emp-inc          901\n",
       "Federal-gov           766\n",
       "Without-pay            12\n",
       "Never-worked            6\n",
       "Name: workclass, dtype: int64"
      ]
     },
     "execution_count": 21,
     "metadata": {},
     "output_type": "execute_result"
    }
   ],
   "source": [
    "df['workclass'].value_counts(dropna=False)"
   ]
  },
  {
   "cell_type": "markdown",
   "id": "c12e07ec-0121-452e-98b1-a5e04521c7eb",
   "metadata": {},
   "source": [
    "Let's merge the categorical varaibles to reduce cardinality"
   ]
  },
  {
   "cell_type": "code",
   "execution_count": 22,
   "id": "72b177af-1f1c-4ce7-aa14-19fd3d5cab25",
   "metadata": {},
   "outputs": [],
   "source": [
    "replacements_dict_wc = {\"Private\": \"P.Employed\", \n",
    "                        \"Self-emp-not-inc\": \"S.Employed\", \n",
    "                        \"Local-gov\": \"G.Employed\",\n",
    "                        \"State-gov\": \"G.Employed\", \n",
    "                        \"Self-emp-inc\": \"S.Employed\",\n",
    "                        \"Federal-gov\": \"G.Employed\", \n",
    "                        \"Without-pay\": \"P.Employed\",\n",
    "                        \"Never-worked\": \"Unemployed\"}"
   ]
  },
  {
   "cell_type": "markdown",
   "id": "da2c53de-05c7-4385-b071-05d8f85fb502",
   "metadata": {},
   "source": [
    "Private          - P.Employed         <br>\n",
    "Self-emp-not-inc - S.Employed      <br>\n",
    "Local-gov        - G.Employed       <br>\n",
    "NaN              - NaN                <br>\n",
    "State-gov        - G.Employed       <br>\n",
    "Self-emp-inc     - S.Employed      <br>\n",
    "Federal-gov      - G.Employed       <br>\n",
    "Without-pay      - P.Employed           <br>\n",
    "Never-worked     - Unemployed         <br>"
   ]
  },
  {
   "cell_type": "code",
   "execution_count": 23,
   "id": "9a4015fe-c03b-4018-b59e-57b276abff13",
   "metadata": {},
   "outputs": [],
   "source": [
    "raw_df_copy = raw_df.copy()\n",
    "\n",
    "wc_df = replace_values(raw_df_copy, 'workclass', replacements_dict_wc)"
   ]
  },
  {
   "cell_type": "code",
   "execution_count": 24,
   "id": "a0cdd474-48e4-4608-8091-e47d64375e26",
   "metadata": {},
   "outputs": [
    {
     "data": {
      "text/html": [
       "<div>\n",
       "<style scoped>\n",
       "    .dataframe tbody tr th:only-of-type {\n",
       "        vertical-align: middle;\n",
       "    }\n",
       "\n",
       "    .dataframe tbody tr th {\n",
       "        vertical-align: top;\n",
       "    }\n",
       "\n",
       "    .dataframe thead th {\n",
       "        text-align: right;\n",
       "    }\n",
       "</style>\n",
       "<table border=\"1\" class=\"dataframe\">\n",
       "  <thead>\n",
       "    <tr style=\"text-align: right;\">\n",
       "      <th></th>\n",
       "      <th>age</th>\n",
       "      <th>workclass</th>\n",
       "      <th>fnlwgt</th>\n",
       "      <th>education</th>\n",
       "      <th>education.num</th>\n",
       "      <th>marital.status</th>\n",
       "      <th>occupation</th>\n",
       "      <th>relationship</th>\n",
       "      <th>race</th>\n",
       "      <th>sex</th>\n",
       "      <th>capital.gain</th>\n",
       "      <th>capital.loss</th>\n",
       "      <th>hours.per.week</th>\n",
       "      <th>native.country</th>\n",
       "      <th>income</th>\n",
       "    </tr>\n",
       "  </thead>\n",
       "  <tbody>\n",
       "    <tr>\n",
       "      <th>0</th>\n",
       "      <td>90</td>\n",
       "      <td>NaN</td>\n",
       "      <td>77053</td>\n",
       "      <td>HS-grad</td>\n",
       "      <td>9</td>\n",
       "      <td>Widowed</td>\n",
       "      <td>NaN</td>\n",
       "      <td>Not-in-family</td>\n",
       "      <td>White</td>\n",
       "      <td>Female</td>\n",
       "      <td>0</td>\n",
       "      <td>4356</td>\n",
       "      <td>40</td>\n",
       "      <td>United-States</td>\n",
       "      <td>0</td>\n",
       "    </tr>\n",
       "    <tr>\n",
       "      <th>1</th>\n",
       "      <td>82</td>\n",
       "      <td>P.Employed</td>\n",
       "      <td>132870</td>\n",
       "      <td>HS-grad</td>\n",
       "      <td>9</td>\n",
       "      <td>Widowed</td>\n",
       "      <td>Exec-managerial</td>\n",
       "      <td>Not-in-family</td>\n",
       "      <td>White</td>\n",
       "      <td>Female</td>\n",
       "      <td>0</td>\n",
       "      <td>4356</td>\n",
       "      <td>18</td>\n",
       "      <td>United-States</td>\n",
       "      <td>0</td>\n",
       "    </tr>\n",
       "    <tr>\n",
       "      <th>2</th>\n",
       "      <td>66</td>\n",
       "      <td>NaN</td>\n",
       "      <td>186061</td>\n",
       "      <td>Some-college</td>\n",
       "      <td>10</td>\n",
       "      <td>Widowed</td>\n",
       "      <td>NaN</td>\n",
       "      <td>Unmarried</td>\n",
       "      <td>Black</td>\n",
       "      <td>Female</td>\n",
       "      <td>0</td>\n",
       "      <td>4356</td>\n",
       "      <td>40</td>\n",
       "      <td>United-States</td>\n",
       "      <td>0</td>\n",
       "    </tr>\n",
       "    <tr>\n",
       "      <th>3</th>\n",
       "      <td>54</td>\n",
       "      <td>P.Employed</td>\n",
       "      <td>140359</td>\n",
       "      <td>7th-8th</td>\n",
       "      <td>4</td>\n",
       "      <td>Divorced</td>\n",
       "      <td>Machine-op-inspct</td>\n",
       "      <td>Unmarried</td>\n",
       "      <td>White</td>\n",
       "      <td>Female</td>\n",
       "      <td>0</td>\n",
       "      <td>3900</td>\n",
       "      <td>40</td>\n",
       "      <td>United-States</td>\n",
       "      <td>0</td>\n",
       "    </tr>\n",
       "    <tr>\n",
       "      <th>4</th>\n",
       "      <td>41</td>\n",
       "      <td>P.Employed</td>\n",
       "      <td>264663</td>\n",
       "      <td>Some-college</td>\n",
       "      <td>10</td>\n",
       "      <td>Separated</td>\n",
       "      <td>Prof-specialty</td>\n",
       "      <td>Own-child</td>\n",
       "      <td>White</td>\n",
       "      <td>Female</td>\n",
       "      <td>0</td>\n",
       "      <td>3900</td>\n",
       "      <td>40</td>\n",
       "      <td>United-States</td>\n",
       "      <td>0</td>\n",
       "    </tr>\n",
       "  </tbody>\n",
       "</table>\n",
       "</div>"
      ],
      "text/plain": [
       "   age   workclass  fnlwgt     education  education.num marital.status  \\\n",
       "0   90         NaN   77053       HS-grad              9        Widowed   \n",
       "1   82  P.Employed  132870       HS-grad              9        Widowed   \n",
       "2   66         NaN  186061  Some-college             10        Widowed   \n",
       "3   54  P.Employed  140359       7th-8th              4       Divorced   \n",
       "4   41  P.Employed  264663  Some-college             10      Separated   \n",
       "\n",
       "          occupation   relationship   race     sex  capital.gain  \\\n",
       "0                NaN  Not-in-family  White  Female             0   \n",
       "1    Exec-managerial  Not-in-family  White  Female             0   \n",
       "2                NaN      Unmarried  Black  Female             0   \n",
       "3  Machine-op-inspct      Unmarried  White  Female             0   \n",
       "4     Prof-specialty      Own-child  White  Female             0   \n",
       "\n",
       "   capital.loss  hours.per.week native.country  income  \n",
       "0          4356              40  United-States       0  \n",
       "1          4356              18  United-States       0  \n",
       "2          4356              40  United-States       0  \n",
       "3          3900              40  United-States       0  \n",
       "4          3900              40  United-States       0  "
      ]
     },
     "execution_count": 24,
     "metadata": {},
     "output_type": "execute_result"
    }
   ],
   "source": [
    "wc_df.head()"
   ]
  },
  {
   "cell_type": "code",
   "execution_count": 25,
   "id": "18864aaa-65a4-4c8e-8646-9c4cb6062489",
   "metadata": {},
   "outputs": [
    {
     "data": {
      "text/plain": [
       "P.Employed    22710\n",
       "G.Employed     4351\n",
       "S.Employed     3657\n",
       "NaN            1836\n",
       "Unemployed        7\n",
       "Name: workclass, dtype: int64"
      ]
     },
     "execution_count": 25,
     "metadata": {},
     "output_type": "execute_result"
    }
   ],
   "source": [
    "wc_df['workclass'].value_counts(dropna=False)"
   ]
  },
  {
   "cell_type": "code",
   "execution_count": 26,
   "id": "b46f4b78-360c-4365-a9f4-f64d2a601e8c",
   "metadata": {},
   "outputs": [
    {
     "data": {
      "image/png": "[encoded data removed]",
      "text/plain": [
       "<Figure size 640x480 with 1 Axes>"
      ]
     },
     "metadata": {},
     "output_type": "display_data"
    }
   ],
   "source": [
    "# Determine how workclass and income are nested\n",
    "sns.countplot(x = 'workclass', \n",
    "              hue = 'income', \n",
    "              data = wc_df)\n",
    " \n",
    "# Show the plot\n",
    "plt.show()"
   ]
  },
  {
   "cell_type": "code",
   "execution_count": 27,
   "id": "05a7bf64-8091-4b74-8f36-7c0291513e2e",
   "metadata": {},
   "outputs": [],
   "source": [
    "# Use as a transformer\n",
    "\n",
    "replace_transformer_wc = FunctionTransformer(replace_values, kw_args={'column': 'workclass', 'replacements_dict': replacements_dict_wc})"
   ]
  },
  {
   "cell_type": "code",
   "execution_count": null,
   "id": "0d6d7838-2f27-4bd0-b7cb-11d83b8828aa",
   "metadata": {},
   "outputs": [],
   "source": []
  },
  {
   "cell_type": "markdown",
   "id": "c4433785-74b3-447f-b192-66b7a6fb1ff1",
   "metadata": {
    "tags": []
   },
   "source": [
    "### Fixing Relationship column (NA)"
   ]
  },
  {
   "cell_type": "code",
   "execution_count": 28,
   "id": "a1e08d65-c5ad-4b56-866a-a875a0a5189c",
   "metadata": {},
   "outputs": [
    {
     "data": {
      "text/plain": [
       "Husband           13193\n",
       "Not-in-family      8305\n",
       "Own-child          5068\n",
       "Unmarried          3446\n",
       "Wife               1568\n",
       "Other-relative      981\n",
       "Name: relationship, dtype: int64"
      ]
     },
     "execution_count": 28,
     "metadata": {},
     "output_type": "execute_result"
    }
   ],
   "source": [
    "wc_df['relationship'].value_counts()"
   ]
  },
  {
   "cell_type": "markdown",
   "id": "e8e30a1d-677c-426a-bd0c-758dbad8dc30",
   "metadata": {},
   "source": [
    "```\n",
    "parent       - Husband        - husband sa kanyang family    <br>\n",
    "no_family    - Not-in-family  - walang fam    <br>\n",
    "no_family    - Own-child      - child sa kanyang fam    <br>\n",
    "no_family    -Unmarried      - walang fam    <br>\n",
    "parent       - Wife           - husband sa kanyang family    <br>\n",
    "no_family    - Other-relative - walang fam    <br>\n",
    "\n",
    "```"
   ]
  },
  {
   "cell_type": "code",
   "execution_count": 29,
   "id": "b73e044f-ee3a-4ac9-87a3-f0f458f96171",
   "metadata": {},
   "outputs": [],
   "source": [
    "replacements_dict_r = {\"Husband\": \"parent\",           \n",
    "                       \"Not-in-family\": \"no_family\",      \n",
    "                       \"Own-child\": \"no_family\",   \n",
    "                       \"Unmarried\": \"no_family\",  \n",
    "                       \"Wife\": \"parent\",      \n",
    "                       \"Other-relative\": \"no_family\"}"
   ]
  },
  {
   "cell_type": "code",
   "execution_count": 30,
   "id": "419955b5-6661-4308-9093-5e88258c9465",
   "metadata": {},
   "outputs": [],
   "source": [
    "r_df = replace_values(wc_df, 'relationship', replacements_dict_r)"
   ]
  },
  {
   "cell_type": "code",
   "execution_count": 31,
   "id": "7af733fc-edc0-4801-a60d-508a972f7a00",
   "metadata": {},
   "outputs": [
    {
     "data": {
      "text/html": [
       "<div>\n",
       "<style scoped>\n",
       "    .dataframe tbody tr th:only-of-type {\n",
       "        vertical-align: middle;\n",
       "    }\n",
       "\n",
       "    .dataframe tbody tr th {\n",
       "        vertical-align: top;\n",
       "    }\n",
       "\n",
       "    .dataframe thead th {\n",
       "        text-align: right;\n",
       "    }\n",
       "</style>\n",
       "<table border=\"1\" class=\"dataframe\">\n",
       "  <thead>\n",
       "    <tr style=\"text-align: right;\">\n",
       "      <th></th>\n",
       "      <th>age</th>\n",
       "      <th>workclass</th>\n",
       "      <th>fnlwgt</th>\n",
       "      <th>education</th>\n",
       "      <th>education.num</th>\n",
       "      <th>marital.status</th>\n",
       "      <th>occupation</th>\n",
       "      <th>relationship</th>\n",
       "      <th>race</th>\n",
       "      <th>sex</th>\n",
       "      <th>capital.gain</th>\n",
       "      <th>capital.loss</th>\n",
       "      <th>hours.per.week</th>\n",
       "      <th>native.country</th>\n",
       "      <th>income</th>\n",
       "    </tr>\n",
       "  </thead>\n",
       "  <tbody>\n",
       "    <tr>\n",
       "      <th>0</th>\n",
       "      <td>90</td>\n",
       "      <td>NaN</td>\n",
       "      <td>77053</td>\n",
       "      <td>HS-grad</td>\n",
       "      <td>9</td>\n",
       "      <td>Widowed</td>\n",
       "      <td>NaN</td>\n",
       "      <td>no_family</td>\n",
       "      <td>White</td>\n",
       "      <td>Female</td>\n",
       "      <td>0</td>\n",
       "      <td>4356</td>\n",
       "      <td>40</td>\n",
       "      <td>United-States</td>\n",
       "      <td>0</td>\n",
       "    </tr>\n",
       "    <tr>\n",
       "      <th>1</th>\n",
       "      <td>82</td>\n",
       "      <td>P.Employed</td>\n",
       "      <td>132870</td>\n",
       "      <td>HS-grad</td>\n",
       "      <td>9</td>\n",
       "      <td>Widowed</td>\n",
       "      <td>Exec-managerial</td>\n",
       "      <td>no_family</td>\n",
       "      <td>White</td>\n",
       "      <td>Female</td>\n",
       "      <td>0</td>\n",
       "      <td>4356</td>\n",
       "      <td>18</td>\n",
       "      <td>United-States</td>\n",
       "      <td>0</td>\n",
       "    </tr>\n",
       "    <tr>\n",
       "      <th>2</th>\n",
       "      <td>66</td>\n",
       "      <td>NaN</td>\n",
       "      <td>186061</td>\n",
       "      <td>Some-college</td>\n",
       "      <td>10</td>\n",
       "      <td>Widowed</td>\n",
       "      <td>NaN</td>\n",
       "      <td>no_family</td>\n",
       "      <td>Black</td>\n",
       "      <td>Female</td>\n",
       "      <td>0</td>\n",
       "      <td>4356</td>\n",
       "      <td>40</td>\n",
       "      <td>United-States</td>\n",
       "      <td>0</td>\n",
       "    </tr>\n",
       "    <tr>\n",
       "      <th>3</th>\n",
       "      <td>54</td>\n",
       "      <td>P.Employed</td>\n",
       "      <td>140359</td>\n",
       "      <td>7th-8th</td>\n",
       "      <td>4</td>\n",
       "      <td>Divorced</td>\n",
       "      <td>Machine-op-inspct</td>\n",
       "      <td>no_family</td>\n",
       "      <td>White</td>\n",
       "      <td>Female</td>\n",
       "      <td>0</td>\n",
       "      <td>3900</td>\n",
       "      <td>40</td>\n",
       "      <td>United-States</td>\n",
       "      <td>0</td>\n",
       "    </tr>\n",
       "    <tr>\n",
       "      <th>4</th>\n",
       "      <td>41</td>\n",
       "      <td>P.Employed</td>\n",
       "      <td>264663</td>\n",
       "      <td>Some-college</td>\n",
       "      <td>10</td>\n",
       "      <td>Separated</td>\n",
       "      <td>Prof-specialty</td>\n",
       "      <td>no_family</td>\n",
       "      <td>White</td>\n",
       "      <td>Female</td>\n",
       "      <td>0</td>\n",
       "      <td>3900</td>\n",
       "      <td>40</td>\n",
       "      <td>United-States</td>\n",
       "      <td>0</td>\n",
       "    </tr>\n",
       "    <tr>\n",
       "      <th>...</th>\n",
       "      <td>...</td>\n",
       "      <td>...</td>\n",
       "      <td>...</td>\n",
       "      <td>...</td>\n",
       "      <td>...</td>\n",
       "      <td>...</td>\n",
       "      <td>...</td>\n",
       "      <td>...</td>\n",
       "      <td>...</td>\n",
       "      <td>...</td>\n",
       "      <td>...</td>\n",
       "      <td>...</td>\n",
       "      <td>...</td>\n",
       "      <td>...</td>\n",
       "      <td>...</td>\n",
       "    </tr>\n",
       "    <tr>\n",
       "      <th>32556</th>\n",
       "      <td>22</td>\n",
       "      <td>P.Employed</td>\n",
       "      <td>310152</td>\n",
       "      <td>Some-college</td>\n",
       "      <td>10</td>\n",
       "      <td>Never-married</td>\n",
       "      <td>Protective-serv</td>\n",
       "      <td>no_family</td>\n",
       "      <td>White</td>\n",
       "      <td>Male</td>\n",
       "      <td>0</td>\n",
       "      <td>0</td>\n",
       "      <td>40</td>\n",
       "      <td>United-States</td>\n",
       "      <td>0</td>\n",
       "    </tr>\n",
       "    <tr>\n",
       "      <th>32557</th>\n",
       "      <td>27</td>\n",
       "      <td>P.Employed</td>\n",
       "      <td>257302</td>\n",
       "      <td>Assoc-acdm</td>\n",
       "      <td>12</td>\n",
       "      <td>Married-civ-spouse</td>\n",
       "      <td>Tech-support</td>\n",
       "      <td>parent</td>\n",
       "      <td>White</td>\n",
       "      <td>Female</td>\n",
       "      <td>0</td>\n",
       "      <td>0</td>\n",
       "      <td>38</td>\n",
       "      <td>United-States</td>\n",
       "      <td>0</td>\n",
       "    </tr>\n",
       "    <tr>\n",
       "      <th>32558</th>\n",
       "      <td>40</td>\n",
       "      <td>P.Employed</td>\n",
       "      <td>154374</td>\n",
       "      <td>HS-grad</td>\n",
       "      <td>9</td>\n",
       "      <td>Married-civ-spouse</td>\n",
       "      <td>Machine-op-inspct</td>\n",
       "      <td>parent</td>\n",
       "      <td>White</td>\n",
       "      <td>Male</td>\n",
       "      <td>0</td>\n",
       "      <td>0</td>\n",
       "      <td>40</td>\n",
       "      <td>United-States</td>\n",
       "      <td>1</td>\n",
       "    </tr>\n",
       "    <tr>\n",
       "      <th>32559</th>\n",
       "      <td>58</td>\n",
       "      <td>P.Employed</td>\n",
       "      <td>151910</td>\n",
       "      <td>HS-grad</td>\n",
       "      <td>9</td>\n",
       "      <td>Widowed</td>\n",
       "      <td>Adm-clerical</td>\n",
       "      <td>no_family</td>\n",
       "      <td>White</td>\n",
       "      <td>Female</td>\n",
       "      <td>0</td>\n",
       "      <td>0</td>\n",
       "      <td>40</td>\n",
       "      <td>United-States</td>\n",
       "      <td>0</td>\n",
       "    </tr>\n",
       "    <tr>\n",
       "      <th>32560</th>\n",
       "      <td>22</td>\n",
       "      <td>P.Employed</td>\n",
       "      <td>201490</td>\n",
       "      <td>HS-grad</td>\n",
       "      <td>9</td>\n",
       "      <td>Never-married</td>\n",
       "      <td>Adm-clerical</td>\n",
       "      <td>no_family</td>\n",
       "      <td>White</td>\n",
       "      <td>Male</td>\n",
       "      <td>0</td>\n",
       "      <td>0</td>\n",
       "      <td>20</td>\n",
       "      <td>United-States</td>\n",
       "      <td>0</td>\n",
       "    </tr>\n",
       "  </tbody>\n",
       "</table>\n",
       "<p>32561 rows × 15 columns</p>\n",
       "</div>"
      ],
      "text/plain": [
       "       age   workclass  fnlwgt     education  education.num  \\\n",
       "0       90         NaN   77053       HS-grad              9   \n",
       "1       82  P.Employed  132870       HS-grad              9   \n",
       "2       66         NaN  186061  Some-college             10   \n",
       "3       54  P.Employed  140359       7th-8th              4   \n",
       "4       41  P.Employed  264663  Some-college             10   \n",
       "...    ...         ...     ...           ...            ...   \n",
       "32556   22  P.Employed  310152  Some-college             10   \n",
       "32557   27  P.Employed  257302    Assoc-acdm             12   \n",
       "32558   40  P.Employed  154374       HS-grad              9   \n",
       "32559   58  P.Employed  151910       HS-grad              9   \n",
       "32560   22  P.Employed  201490       HS-grad              9   \n",
       "\n",
       "           marital.status         occupation relationship   race     sex  \\\n",
       "0                 Widowed                NaN    no_family  White  Female   \n",
       "1                 Widowed    Exec-managerial    no_family  White  Female   \n",
       "2                 Widowed                NaN    no_family  Black  Female   \n",
       "3                Divorced  Machine-op-inspct    no_family  White  Female   \n",
       "4               Separated     Prof-specialty    no_family  White  Female   \n",
       "...                   ...                ...          ...    ...     ...   \n",
       "32556       Never-married    Protective-serv    no_family  White    Male   \n",
       "32557  Married-civ-spouse       Tech-support       parent  White  Female   \n",
       "32558  Married-civ-spouse  Machine-op-inspct       parent  White    Male   \n",
       "32559             Widowed       Adm-clerical    no_family  White  Female   \n",
       "32560       Never-married       Adm-clerical    no_family  White    Male   \n",
       "\n",
       "       capital.gain  capital.loss  hours.per.week native.country  income  \n",
       "0                 0          4356              40  United-States       0  \n",
       "1                 0          4356              18  United-States       0  \n",
       "2                 0          4356              40  United-States       0  \n",
       "3                 0          3900              40  United-States       0  \n",
       "4                 0          3900              40  United-States       0  \n",
       "...             ...           ...             ...            ...     ...  \n",
       "32556             0             0              40  United-States       0  \n",
       "32557             0             0              38  United-States       0  \n",
       "32558             0             0              40  United-States       1  \n",
       "32559             0             0              40  United-States       0  \n",
       "32560             0             0              20  United-States       0  \n",
       "\n",
       "[32561 rows x 15 columns]"
      ]
     },
     "execution_count": 31,
     "metadata": {},
     "output_type": "execute_result"
    }
   ],
   "source": [
    "r_df"
   ]
  },
  {
   "cell_type": "code",
   "execution_count": 32,
   "id": "54106f7b-a8d8-4363-b0b7-84bcc433181c",
   "metadata": {},
   "outputs": [],
   "source": [
    "replace_transformer_r = FunctionTransformer(replace_values, kw_args={'column': 'relationship', 'replacements_dict': replacements_dict_r})"
   ]
  },
  {
   "cell_type": "markdown",
   "id": "af7f68bd-338c-41de-97ac-451a79726aa4",
   "metadata": {},
   "source": [
    "---"
   ]
  },
  {
   "cell_type": "markdown",
   "id": "ac952cee-4576-48f4-aca9-8ce7f17c575c",
   "metadata": {
    "jp-MarkdownHeadingCollapsed": true,
    "tags": []
   },
   "source": [
    "### Fixing Occupation column (NA)"
   ]
  },
  {
   "cell_type": "markdown",
   "id": "5a3aecf0-f6f2-46b9-8a9b-142c7224575c",
   "metadata": {},
   "source": [
    "Let's try to impute this using columns from other data, we wil discover if it is possible to impute the `occupation` based on sex, race, education and workclass."
   ]
  },
  {
   "cell_type": "code",
   "execution_count": 33,
   "id": "15301efe-5d62-4075-b9fe-b67c3fd938de",
   "metadata": {},
   "outputs": [
    {
     "data": {
      "text/plain": [
       "Prof-specialty       4140\n",
       "Craft-repair         4099\n",
       "Exec-managerial      4066\n",
       "Adm-clerical         3770\n",
       "Sales                3650\n",
       "Other-service        3295\n",
       "Machine-op-inspct    2002\n",
       "NaN                  1843\n",
       "Transport-moving     1597\n",
       "Handlers-cleaners    1370\n",
       "Farming-fishing       994\n",
       "Tech-support          928\n",
       "Protective-serv       649\n",
       "Priv-house-serv       149\n",
       "Armed-Forces            9\n",
       "Name: occupation, dtype: int64"
      ]
     },
     "execution_count": 33,
     "metadata": {},
     "output_type": "execute_result"
    }
   ],
   "source": [
    "wc_df['occupation'].value_counts(dropna=False)"
   ]
  },
  {
   "cell_type": "code",
   "execution_count": 34,
   "id": "d93e1615-b920-4c54-8fa7-ad94939efe9c",
   "metadata": {},
   "outputs": [],
   "source": [
    "hs_grads = wc_df.loc[wc_df['education.num'] == 10]"
   ]
  },
  {
   "cell_type": "code",
   "execution_count": 35,
   "id": "46830190-c094-45c1-a3f7-7f39b480b4b4",
   "metadata": {},
   "outputs": [
    {
     "data": {
      "text/html": [
       "<div>\n",
       "<style scoped>\n",
       "    .dataframe tbody tr th:only-of-type {\n",
       "        vertical-align: middle;\n",
       "    }\n",
       "\n",
       "    .dataframe tbody tr th {\n",
       "        vertical-align: top;\n",
       "    }\n",
       "\n",
       "    .dataframe thead th {\n",
       "        text-align: right;\n",
       "    }\n",
       "</style>\n",
       "<table border=\"1\" class=\"dataframe\">\n",
       "  <thead>\n",
       "    <tr style=\"text-align: right;\">\n",
       "      <th></th>\n",
       "      <th>age</th>\n",
       "      <th>workclass</th>\n",
       "      <th>fnlwgt</th>\n",
       "      <th>education</th>\n",
       "      <th>education.num</th>\n",
       "      <th>marital.status</th>\n",
       "      <th>occupation</th>\n",
       "      <th>relationship</th>\n",
       "      <th>race</th>\n",
       "      <th>sex</th>\n",
       "      <th>capital.gain</th>\n",
       "      <th>capital.loss</th>\n",
       "      <th>hours.per.week</th>\n",
       "      <th>native.country</th>\n",
       "      <th>income</th>\n",
       "    </tr>\n",
       "  </thead>\n",
       "  <tbody>\n",
       "    <tr>\n",
       "      <th>2</th>\n",
       "      <td>66</td>\n",
       "      <td>NaN</td>\n",
       "      <td>186061</td>\n",
       "      <td>Some-college</td>\n",
       "      <td>10</td>\n",
       "      <td>Widowed</td>\n",
       "      <td>NaN</td>\n",
       "      <td>no_family</td>\n",
       "      <td>Black</td>\n",
       "      <td>Female</td>\n",
       "      <td>0</td>\n",
       "      <td>4356</td>\n",
       "      <td>40</td>\n",
       "      <td>United-States</td>\n",
       "      <td>0</td>\n",
       "    </tr>\n",
       "    <tr>\n",
       "      <th>48</th>\n",
       "      <td>68</td>\n",
       "      <td>NaN</td>\n",
       "      <td>192052</td>\n",
       "      <td>Some-college</td>\n",
       "      <td>10</td>\n",
       "      <td>Married-civ-spouse</td>\n",
       "      <td>NaN</td>\n",
       "      <td>parent</td>\n",
       "      <td>White</td>\n",
       "      <td>Female</td>\n",
       "      <td>0</td>\n",
       "      <td>2457</td>\n",
       "      <td>40</td>\n",
       "      <td>United-States</td>\n",
       "      <td>0</td>\n",
       "    </tr>\n",
       "    <tr>\n",
       "      <th>49</th>\n",
       "      <td>67</td>\n",
       "      <td>NaN</td>\n",
       "      <td>174995</td>\n",
       "      <td>Some-college</td>\n",
       "      <td>10</td>\n",
       "      <td>Married-civ-spouse</td>\n",
       "      <td>NaN</td>\n",
       "      <td>parent</td>\n",
       "      <td>White</td>\n",
       "      <td>Male</td>\n",
       "      <td>0</td>\n",
       "      <td>2457</td>\n",
       "      <td>40</td>\n",
       "      <td>United-States</td>\n",
       "      <td>0</td>\n",
       "    </tr>\n",
       "    <tr>\n",
       "      <th>320</th>\n",
       "      <td>21</td>\n",
       "      <td>NaN</td>\n",
       "      <td>40052</td>\n",
       "      <td>Some-college</td>\n",
       "      <td>10</td>\n",
       "      <td>Never-married</td>\n",
       "      <td>NaN</td>\n",
       "      <td>no_family</td>\n",
       "      <td>White</td>\n",
       "      <td>Male</td>\n",
       "      <td>0</td>\n",
       "      <td>2001</td>\n",
       "      <td>45</td>\n",
       "      <td>United-States</td>\n",
       "      <td>0</td>\n",
       "    </tr>\n",
       "    <tr>\n",
       "      <th>739</th>\n",
       "      <td>28</td>\n",
       "      <td>NaN</td>\n",
       "      <td>123147</td>\n",
       "      <td>Some-college</td>\n",
       "      <td>10</td>\n",
       "      <td>Married-civ-spouse</td>\n",
       "      <td>NaN</td>\n",
       "      <td>parent</td>\n",
       "      <td>White</td>\n",
       "      <td>Female</td>\n",
       "      <td>0</td>\n",
       "      <td>1887</td>\n",
       "      <td>40</td>\n",
       "      <td>United-States</td>\n",
       "      <td>1</td>\n",
       "    </tr>\n",
       "    <tr>\n",
       "      <th>...</th>\n",
       "      <td>...</td>\n",
       "      <td>...</td>\n",
       "      <td>...</td>\n",
       "      <td>...</td>\n",
       "      <td>...</td>\n",
       "      <td>...</td>\n",
       "      <td>...</td>\n",
       "      <td>...</td>\n",
       "      <td>...</td>\n",
       "      <td>...</td>\n",
       "      <td>...</td>\n",
       "      <td>...</td>\n",
       "      <td>...</td>\n",
       "      <td>...</td>\n",
       "      <td>...</td>\n",
       "    </tr>\n",
       "    <tr>\n",
       "      <th>32303</th>\n",
       "      <td>20</td>\n",
       "      <td>NaN</td>\n",
       "      <td>99891</td>\n",
       "      <td>Some-college</td>\n",
       "      <td>10</td>\n",
       "      <td>Never-married</td>\n",
       "      <td>NaN</td>\n",
       "      <td>no_family</td>\n",
       "      <td>White</td>\n",
       "      <td>Female</td>\n",
       "      <td>0</td>\n",
       "      <td>0</td>\n",
       "      <td>30</td>\n",
       "      <td>United-States</td>\n",
       "      <td>0</td>\n",
       "    </tr>\n",
       "    <tr>\n",
       "      <th>32319</th>\n",
       "      <td>59</td>\n",
       "      <td>NaN</td>\n",
       "      <td>120617</td>\n",
       "      <td>Some-college</td>\n",
       "      <td>10</td>\n",
       "      <td>Never-married</td>\n",
       "      <td>NaN</td>\n",
       "      <td>no_family</td>\n",
       "      <td>Black</td>\n",
       "      <td>Female</td>\n",
       "      <td>0</td>\n",
       "      <td>0</td>\n",
       "      <td>40</td>\n",
       "      <td>United-States</td>\n",
       "      <td>0</td>\n",
       "    </tr>\n",
       "    <tr>\n",
       "      <th>32335</th>\n",
       "      <td>21</td>\n",
       "      <td>NaN</td>\n",
       "      <td>205939</td>\n",
       "      <td>Some-college</td>\n",
       "      <td>10</td>\n",
       "      <td>Never-married</td>\n",
       "      <td>NaN</td>\n",
       "      <td>no_family</td>\n",
       "      <td>White</td>\n",
       "      <td>Male</td>\n",
       "      <td>0</td>\n",
       "      <td>0</td>\n",
       "      <td>40</td>\n",
       "      <td>United-States</td>\n",
       "      <td>0</td>\n",
       "    </tr>\n",
       "    <tr>\n",
       "      <th>32338</th>\n",
       "      <td>18</td>\n",
       "      <td>Unemployed</td>\n",
       "      <td>153663</td>\n",
       "      <td>Some-college</td>\n",
       "      <td>10</td>\n",
       "      <td>Never-married</td>\n",
       "      <td>NaN</td>\n",
       "      <td>no_family</td>\n",
       "      <td>White</td>\n",
       "      <td>Male</td>\n",
       "      <td>0</td>\n",
       "      <td>0</td>\n",
       "      <td>4</td>\n",
       "      <td>United-States</td>\n",
       "      <td>0</td>\n",
       "    </tr>\n",
       "    <tr>\n",
       "      <th>32341</th>\n",
       "      <td>63</td>\n",
       "      <td>NaN</td>\n",
       "      <td>126540</td>\n",
       "      <td>Some-college</td>\n",
       "      <td>10</td>\n",
       "      <td>Divorced</td>\n",
       "      <td>NaN</td>\n",
       "      <td>no_family</td>\n",
       "      <td>White</td>\n",
       "      <td>Female</td>\n",
       "      <td>0</td>\n",
       "      <td>0</td>\n",
       "      <td>5</td>\n",
       "      <td>United-States</td>\n",
       "      <td>0</td>\n",
       "    </tr>\n",
       "  </tbody>\n",
       "</table>\n",
       "<p>516 rows × 15 columns</p>\n",
       "</div>"
      ],
      "text/plain": [
       "       age   workclass  fnlwgt     education  education.num  \\\n",
       "2       66         NaN  186061  Some-college             10   \n",
       "48      68         NaN  192052  Some-college             10   \n",
       "49      67         NaN  174995  Some-college             10   \n",
       "320     21         NaN   40052  Some-college             10   \n",
       "739     28         NaN  123147  Some-college             10   \n",
       "...    ...         ...     ...           ...            ...   \n",
       "32303   20         NaN   99891  Some-college             10   \n",
       "32319   59         NaN  120617  Some-college             10   \n",
       "32335   21         NaN  205939  Some-college             10   \n",
       "32338   18  Unemployed  153663  Some-college             10   \n",
       "32341   63         NaN  126540  Some-college             10   \n",
       "\n",
       "           marital.status occupation relationship   race     sex  \\\n",
       "2                 Widowed        NaN    no_family  Black  Female   \n",
       "48     Married-civ-spouse        NaN       parent  White  Female   \n",
       "49     Married-civ-spouse        NaN       parent  White    Male   \n",
       "320         Never-married        NaN    no_family  White    Male   \n",
       "739    Married-civ-spouse        NaN       parent  White  Female   \n",
       "...                   ...        ...          ...    ...     ...   \n",
       "32303       Never-married        NaN    no_family  White  Female   \n",
       "32319       Never-married        NaN    no_family  Black  Female   \n",
       "32335       Never-married        NaN    no_family  White    Male   \n",
       "32338       Never-married        NaN    no_family  White    Male   \n",
       "32341            Divorced        NaN    no_family  White  Female   \n",
       "\n",
       "       capital.gain  capital.loss  hours.per.week native.country  income  \n",
       "2                 0          4356              40  United-States       0  \n",
       "48                0          2457              40  United-States       0  \n",
       "49                0          2457              40  United-States       0  \n",
       "320               0          2001              45  United-States       0  \n",
       "739               0          1887              40  United-States       1  \n",
       "...             ...           ...             ...            ...     ...  \n",
       "32303             0             0              30  United-States       0  \n",
       "32319             0             0              40  United-States       0  \n",
       "32335             0             0              40  United-States       0  \n",
       "32338             0             0               4  United-States       0  \n",
       "32341             0             0               5  United-States       0  \n",
       "\n",
       "[516 rows x 15 columns]"
      ]
     },
     "execution_count": 35,
     "metadata": {},
     "output_type": "execute_result"
    }
   ],
   "source": [
    "hs_grads.loc[hs_grads['occupation'].isna()]"
   ]
  },
  {
   "cell_type": "code",
   "execution_count": 36,
   "id": "715d318b-a5bf-4fb8-a101-369a1444bf14",
   "metadata": {},
   "outputs": [
    {
     "data": {
      "text/plain": [
       "Adm-clerical         1281\n",
       "Sales                1009\n",
       "Exec-managerial       879\n",
       "Craft-repair          868\n",
       "Other-service         781\n",
       "Prof-specialty        430\n",
       "Machine-op-inspct     310\n",
       "Transport-moving      283\n",
       "Tech-support          273\n",
       "Handlers-cleaners     267\n",
       "Protective-serv       202\n",
       "Farming-fishing       174\n",
       "Priv-house-serv        16\n",
       "Armed-Forces            2\n",
       "Name: occupation, dtype: int64"
      ]
     },
     "execution_count": 36,
     "metadata": {},
     "output_type": "execute_result"
    }
   ],
   "source": [
    "hs_grads['occupation'].value_counts()"
   ]
  },
  {
   "cell_type": "markdown",
   "id": "fcc48ea1-a169-4a7d-9fa4-d47fc13c0ad7",
   "metadata": {},
   "source": [
    "## Decision Tree as Imputer"
   ]
  },
  {
   "cell_type": "code",
   "execution_count": 37,
   "id": "366e3115-e180-496b-b94b-669fc963aea8",
   "metadata": {},
   "outputs": [],
   "source": [
    "import numpy as np\n",
    "import pandas as pd\n",
    "from sklearn.tree import DecisionTreeClassifier\n",
    "from sklearn.impute import SimpleImputer\n",
    "from sklearn.model_selection import train_test_split"
   ]
  },
  {
   "cell_type": "code",
   "execution_count": null,
   "id": "13475965-7e40-434f-bcab-086391bdf28d",
   "metadata": {},
   "outputs": [],
   "source": []
  },
  {
   "cell_type": "code",
   "execution_count": 38,
   "id": "ec6d2dd9-701e-4ca1-9f8b-3f8672132ddf",
   "metadata": {},
   "outputs": [
    {
     "ename": "NameError",
     "evalue": "name 'data' is not defined",
     "output_type": "error",
     "traceback": [
      "\u001b[1;31m---------------------------------------------------------------------------\u001b[0m",
      "\u001b[1;31mNameError\u001b[0m                                 Traceback (most recent call last)",
      "\u001b[1;32m~\\AppData\\Local\\Temp\\ipykernel_14044\\2963972432.py\u001b[0m in \u001b[0;36m<module>\u001b[1;34m\u001b[0m\n\u001b[0;32m      1\u001b[0m \u001b[1;31m# Split the data into features and target variable\u001b[0m\u001b[1;33m\u001b[0m\u001b[1;33m\u001b[0m\u001b[0m\n\u001b[1;32m----> 2\u001b[1;33m \u001b[0mX\u001b[0m \u001b[1;33m=\u001b[0m \u001b[0mdata\u001b[0m\u001b[1;33m.\u001b[0m\u001b[0mdrop\u001b[0m\u001b[1;33m(\u001b[0m\u001b[1;34m'target'\u001b[0m\u001b[1;33m,\u001b[0m \u001b[0maxis\u001b[0m\u001b[1;33m=\u001b[0m\u001b[1;36m1\u001b[0m\u001b[1;33m)\u001b[0m\u001b[1;33m\u001b[0m\u001b[1;33m\u001b[0m\u001b[0m\n\u001b[0m\u001b[0;32m      3\u001b[0m \u001b[0my\u001b[0m \u001b[1;33m=\u001b[0m \u001b[0mdata\u001b[0m\u001b[1;33m[\u001b[0m\u001b[1;34m'target'\u001b[0m\u001b[1;33m]\u001b[0m\u001b[1;33m\u001b[0m\u001b[1;33m\u001b[0m\u001b[0m\n",
      "\u001b[1;31mNameError\u001b[0m: name 'data' is not defined"
     ]
    }
   ],
   "source": [
    "# Split the data into features and target variable\n",
    "X = data.drop('target', axis=1)\n",
    "y = data['target']"
   ]
  },
  {
   "cell_type": "code",
   "execution_count": null,
   "id": "ea4960af-4135-4576-8173-ce58bdccfd73",
   "metadata": {},
   "outputs": [],
   "source": [
    "\n",
    "# Split the data into train and test sets\n",
    "X_train, X_test, y_train, y_test = train_test_split(X, y, test_size=0.2, random_state=0)\n",
    "\n",
    "# Impute missing values in the training set\n",
    "imputer = SimpleImputer(strategy='mean')\n",
    "X_train_imputed = imputer.fit_transform(X_train)\n",
    "\n",
    "# Train the DecisionTreeClassifier\n",
    "clf = DecisionTreeClassifier()\n",
    "clf.fit(X_train_imputed, y_train)\n",
    "\n",
    "# Impute missing values in the test set\n",
    "X_test_imputed = imputer.transform(X_test)\n",
    "\n",
    "# Predict the target values for the test set\n",
    "y_pred = clf.predict(X_test_imputed)\n",
    "\n",
    "# Evaluate the model's performance\n",
    "print(\"Accuracy:\", clf.score(X_test_imputed, y_test))"
   ]
  },
  {
   "cell_type": "code",
   "execution_count": null,
   "id": "63043bac-51b8-4f2f-bb3c-4a5207f8903c",
   "metadata": {},
   "outputs": [],
   "source": [
    "not_null = wc_df[['age','workclass']][wc_df['occupation'].notnull()]"
   ]
  },
  {
   "cell_type": "code",
   "execution_count": null,
   "id": "20ebbbd0-335d-46a7-a10a-f93de455ff34",
   "metadata": {},
   "outputs": [],
   "source": [
    "wc_df[['age','workclass', 'education']][wc_df['occupation'].notnull()]"
   ]
  },
  {
   "cell_type": "code",
   "execution_count": null,
   "id": "540786e3-17af-4577-bc63-6ce12fa62649",
   "metadata": {},
   "outputs": [],
   "source": []
  },
  {
   "cell_type": "code",
   "execution_count": null,
   "id": "a19d6ce4-0a09-46d4-b215-6c865480535c",
   "metadata": {},
   "outputs": [],
   "source": []
  },
  {
   "cell_type": "code",
   "execution_count": null,
   "id": "9c8e8f0b-60f4-4556-8c2e-50a4017e8453",
   "metadata": {},
   "outputs": [],
   "source": [
    "raw_df_copy['marital.status'].value_counts()"
   ]
  },
  {
   "cell_type": "code",
   "execution_count": null,
   "id": "07fab700-3b28-4335-833f-ecb0c91f4b33",
   "metadata": {},
   "outputs": [],
   "source": []
  },
  {
   "cell_type": "code",
   "execution_count": null,
   "id": "c6e92e4d-2bfa-4a2a-957e-cddd68dfaf37",
   "metadata": {},
   "outputs": [],
   "source": []
  },
  {
   "cell_type": "code",
   "execution_count": null,
   "id": "4c34cc30-b248-47ac-bc8c-807e4d25f14a",
   "metadata": {},
   "outputs": [],
   "source": [
    "# Determine how workclass and income are nested\n",
    "sns.countplot(x = 'relationship', \n",
    "              hue = 'income', \n",
    "              data = wc_df)\n",
    " \n",
    "# Show the plot\n",
    "plt.show()"
   ]
  },
  {
   "cell_type": "code",
   "execution_count": null,
   "id": "a415a74c-9a86-4785-9345-29d93da1d462",
   "metadata": {},
   "outputs": [],
   "source": []
  },
  {
   "cell_type": "markdown",
   "id": "6b2c28e5-ab8a-4024-bdf7-a701401c2063",
   "metadata": {
    "jp-MarkdownHeadingCollapsed": true,
    "tags": []
   },
   "source": [
    "### Fixing Race column (NA)"
   ]
  },
  {
   "cell_type": "code",
   "execution_count": null,
   "id": "e73816b3-d249-4dbc-94ea-d1235c355051",
   "metadata": {},
   "outputs": [],
   "source": [
    "wc_df['race'].value_counts(dropna=False)"
   ]
  },
  {
   "cell_type": "code",
   "execution_count": null,
   "id": "682b8d70-e7da-4c6b-9165-cd9846b7061b",
   "metadata": {},
   "outputs": [],
   "source": [
    "# Determine how workclass and income are nested\n",
    "sns.countplot(x = 'race', \n",
    "              hue = 'income', \n",
    "              data = wc_df)\n",
    " \n",
    "# Show the plot\n",
    "plt.show()"
   ]
  },
  {
   "cell_type": "code",
   "execution_count": null,
   "id": "1d42b288-82be-4c5d-a4f3-405450ed9e65",
   "metadata": {},
   "outputs": [],
   "source": []
  },
  {
   "cell_type": "code",
   "execution_count": null,
   "id": "10cec0f0-d8e7-4c79-9014-84d374c16076",
   "metadata": {},
   "outputs": [],
   "source": []
  },
  {
   "cell_type": "code",
   "execution_count": null,
   "id": "7012daab-9159-463b-b17e-2292e06f0e19",
   "metadata": {},
   "outputs": [],
   "source": [
    "# Apply KNNImputing or MICE"
   ]
  },
  {
   "cell_type": "code",
   "execution_count": null,
   "id": "a60a7b3d-3b34-436b-b915-13835d136e11",
   "metadata": {},
   "outputs": [],
   "source": [
    "df['relationship'].value_counts(dropna=False)"
   ]
  },
  {
   "cell_type": "markdown",
   "id": "c85fb03d-3b11-4dc7-83c6-9edcf6829aab",
   "metadata": {},
   "source": [
    "Ano kinalaman neto?!"
   ]
  },
  {
   "cell_type": "code",
   "execution_count": null,
   "id": "effcad35-7c76-413a-adef-9f4ec7bfeb02",
   "metadata": {},
   "outputs": [],
   "source": []
  },
  {
   "cell_type": "code",
   "execution_count": null,
   "id": "252516d0-4e6b-476c-b2ae-2371a3a2cd86",
   "metadata": {},
   "outputs": [],
   "source": []
  },
  {
   "cell_type": "code",
   "execution_count": null,
   "id": "8f061ebb-81ef-4dfe-9199-5c69ba635b6f",
   "metadata": {},
   "outputs": [],
   "source": []
  },
  {
   "cell_type": "code",
   "execution_count": null,
   "id": "57b5956d-2204-44ec-bf3b-92c92e3cb4cf",
   "metadata": {},
   "outputs": [],
   "source": []
  },
  {
   "cell_type": "code",
   "execution_count": null,
   "id": "45545f4e-788d-4f92-b962-e94e7a11fd41",
   "metadata": {},
   "outputs": [],
   "source": []
  },
  {
   "cell_type": "markdown",
   "id": "a1fad6bd-091f-405e-8c6c-9bc2eba135e3",
   "metadata": {},
   "source": [
    "#### Explore KNNImputing"
   ]
  },
  {
   "cell_type": "code",
   "execution_count": null,
   "id": "80668cc3-d9dd-4aef-a0fa-e55660db3db7",
   "metadata": {},
   "outputs": [],
   "source": []
  },
  {
   "cell_type": "code",
   "execution_count": null,
   "id": "d884a044-dd25-409a-9a17-492aadc40e32",
   "metadata": {},
   "outputs": [],
   "source": []
  },
  {
   "cell_type": "code",
   "execution_count": null,
   "id": "667541c6-2b3d-40d9-a4d5-a014163fe26c",
   "metadata": {},
   "outputs": [],
   "source": []
  },
  {
   "cell_type": "code",
   "execution_count": null,
   "id": "506a5f03-86f7-40a3-9fd6-b85ce6fd8b1e",
   "metadata": {},
   "outputs": [],
   "source": []
  },
  {
   "cell_type": "code",
   "execution_count": null,
   "id": "7fcf33c8-9c24-4710-b532-b5f674f3a93d",
   "metadata": {},
   "outputs": [],
   "source": []
  },
  {
   "cell_type": "code",
   "execution_count": null,
   "id": "5e1a5ef1-442b-4dcb-bb39-0c5d986c335b",
   "metadata": {},
   "outputs": [],
   "source": []
  },
  {
   "cell_type": "code",
   "execution_count": null,
   "id": "70de7a4e-f650-402b-9fa3-bd16a20d027d",
   "metadata": {},
   "outputs": [],
   "source": [
    "ohe_enc = OneHotEncoder(sparse_output=False, handle_unknown='ignore')\n",
    "ms_pipe = make_pipeline(replace_transformer, ohe_enc)"
   ]
  },
  {
   "cell_type": "code",
   "execution_count": null,
   "id": "fee1a5a9-6598-40c8-87d7-cf58ff4e7bd4",
   "metadata": {},
   "outputs": [],
   "source": [
    "count_process = ColumnTransformer([ \n",
    "    ('ohe', ohe_enc, ['relationship', 'sex']), \n",
    "    ('repl_tf', ms_pipe, ['marital.status'])\n",
    "])"
   ]
  },
  {
   "cell_type": "code",
   "execution_count": null,
   "id": "7ea55a8f-47b6-4014-994b-f9aab71cc514",
   "metadata": {},
   "outputs": [],
   "source": [
    "count_process.fit_transform(df)"
   ]
  },
  {
   "cell_type": "markdown",
   "id": "6037329a-9e86-458a-87df-2a6be5c395aa",
   "metadata": {},
   "source": [
    "### Next Task \n",
    "\n",
    "* How to apply FunctionTransformer inside a pipeline"
   ]
  },
  {
   "cell_type": "code",
   "execution_count": null,
   "id": "73c50720-f4f1-4a91-bc31-29b3dfe215a0",
   "metadata": {},
   "outputs": [],
   "source": []
  },
  {
   "cell_type": "markdown",
   "id": "4cb61fc2-09a6-45b9-814e-57b8d3628470",
   "metadata": {},
   "source": [
    "* [ ] Age\n",
    "* [ ] workclass\n",
    "* [ ] fnlwght\n",
    "* [ ] education\n",
    "* [ ] education.num\n",
    "* [X] martial.status\n",
    "* [ ] occupation\n",
    "* [X] relationship\n",
    "* [ ] race\n",
    "* [X] sex\n",
    "* [ ] occupation\n",
    "* [ ] capital.gain\n",
    "* [ ] capital.loss\n",
    "* [ ] hours.per.week\n",
    "* [ ] native.country\n",
    "* [ ] income"
   ]
  },
  {
   "cell_type": "code",
   "execution_count": null,
   "id": "61c70a0b-0b13-453d-9c0e-f16d246cacfd",
   "metadata": {},
   "outputs": [],
   "source": []
  },
  {
   "cell_type": "code",
   "execution_count": null,
   "id": "126bdd7c-792f-4a6f-a26f-3f4b2189e4df",
   "metadata": {},
   "outputs": [],
   "source": []
  },
  {
   "cell_type": "code",
   "execution_count": null,
   "id": "2e012fde-e16e-451c-af7f-ce291cb89abe",
   "metadata": {},
   "outputs": [],
   "source": []
  },
  {
   "cell_type": "code",
   "execution_count": null,
   "id": "0b3e896e-3d6c-481d-afe9-310eebef54e7",
   "metadata": {},
   "outputs": [],
   "source": []
  },
  {
   "cell_type": "markdown",
   "id": "2d783b8b-13be-4f56-9c09-2e28073ca56c",
   "metadata": {},
   "source": [
    "---"
   ]
  },
  {
   "cell_type": "code",
   "execution_count": null,
   "id": "df5b13d2-8a7b-4c1d-b2d7-32f2904c1ae1",
   "metadata": {},
   "outputs": [],
   "source": []
  },
  {
   "cell_type": "code",
   "execution_count": null,
   "id": "cdc62d29-8f9a-4808-90fc-959604317341",
   "metadata": {},
   "outputs": [],
   "source": [
    "freq_imp = SimpleImputer(strategy=\"most_frequent\")\n",
    "ohe_enc = OneHotEncoder(sparse_output=False, handle_unknown='ignore')\n",
    "cat_pipeline = make_pipeline(freq_imp, ohe_enc)"
   ]
  },
  {
   "cell_type": "code",
   "execution_count": null,
   "id": "463c5ffe-d1df-4567-bc3d-d259a8b3b5a5",
   "metadata": {},
   "outputs": [],
   "source": [
    "from category_encoders import CountEncoder\n",
    "\n",
    "cnt_encoder = CountEncoder()\n",
    "\n",
    "ohe_enc = OneHotEncoder(sparse_output=False, handle_unknown='ignore')\n",
    "cardinality_pipeline = make_pipeline(freq_imp, cnt_encoder)"
   ]
  },
  {
   "cell_type": "code",
   "execution_count": null,
   "id": "6c058ce8-4aae-41e0-993a-8c4f4061abcd",
   "metadata": {},
   "outputs": [],
   "source": [
    "df.columns"
   ]
  },
  {
   "cell_type": "code",
   "execution_count": null,
   "id": "360052e8-d976-4906-801d-02a146652e67",
   "metadata": {},
   "outputs": [],
   "source": [
    "oe = OrdinalEncoder()"
   ]
  },
  {
   "cell_type": "code",
   "execution_count": null,
   "id": "00d26dd6-1c89-41ea-97a4-c1f5c2b423e4",
   "metadata": {},
   "outputs": [],
   "source": [
    "count_process = ColumnTransformer([\n",
    "    ('count', cardinality_pipeline, ['relationship', 'marital.status']),\n",
    "    ('ohe', ohe_enc, ['sex'])\n",
    "])"
   ]
  },
  {
   "cell_type": "code",
   "execution_count": null,
   "id": "a2813742-1292-4ee2-8086-8f712ba61710",
   "metadata": {},
   "outputs": [],
   "source": [
    "df['workclass'].isnull().sum()"
   ]
  },
  {
   "cell_type": "code",
   "execution_count": null,
   "id": "83db983d-1626-435b-ba52-5811a9a8c3b5",
   "metadata": {},
   "outputs": [],
   "source": [
    "count_process.fit_transform(df)"
   ]
  },
  {
   "cell_type": "markdown",
   "id": "fa95ff31-11ef-40cd-ad72-1f50b88c1422",
   "metadata": {},
   "source": [
    "----"
   ]
  },
  {
   "cell_type": "code",
   "execution_count": null,
   "id": "432eaa70-3980-4eac-bb00-077eba538802",
   "metadata": {},
   "outputs": [],
   "source": [
    "df"
   ]
  },
  {
   "cell_type": "markdown",
   "id": "0a89b0ae-4939-4bb2-bcad-0fa3430a7ac5",
   "metadata": {},
   "source": [
    "---"
   ]
  },
  {
   "cell_type": "markdown",
   "id": "b1633521-2c04-44e1-97f1-1402a94ca100",
   "metadata": {},
   "source": [
    "---"
   ]
  },
  {
   "cell_type": "code",
   "execution_count": null,
   "id": "7a72cd2c-a609-4a4f-add2-b776c569fb92",
   "metadata": {},
   "outputs": [],
   "source": []
  }
 ],
 "metadata": {
  "kernelspec": {
   "display_name": "Python 3 (ipykernel)",
   "language": "python",
   "name": "python3"
  },
  "language_info": {
   "codemirror_mode": {
    "name": "ipython",
    "version": 3
   },
   "file_extension": ".py",
   "mimetype": "text/x-python",
   "name": "python",
   "nbconvert_exporter": "python",
   "pygments_lexer": "ipython3",
   "version": "3.9.13"
  }
 },
 "nbformat": 4,
 "nbformat_minor": 5
}
