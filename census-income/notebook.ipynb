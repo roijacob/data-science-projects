{
 "cells": [
  {
   "cell_type": "markdown",
   "id": "88373bff",
   "metadata": {},
   "source": [
    "# Census Income\n",
    "---"
   ]
  },
  {
   "cell_type": "markdown",
   "id": "347c1f62-0255-4267-bdc9-1e398d8b2fc6",
   "metadata": {},
   "source": [
    "#### Import necessary libraries"
   ]
  },
  {
   "cell_type": "code",
   "execution_count": 1,
   "id": "30916d07",
   "metadata": {},
   "outputs": [],
   "source": [
    "import pandas as pd\n",
    "import numpy as np\n",
    "import seaborn as sns\n",
    "import matplotlib.pyplot as plt"
   ]
  },
  {
   "cell_type": "markdown",
   "id": "f9c1cd4f-d5b6-4ab0-b859-a73f3ea4da08",
   "metadata": {},
   "source": [
    "#### Import the data file"
   ]
  },
  {
   "cell_type": "code",
   "execution_count": 2,
   "id": "3e5cae62",
   "metadata": {},
   "outputs": [
    {
     "data": {
      "text/html": [
       "<div>\n",
       "<style scoped>\n",
       "    .dataframe tbody tr th:only-of-type {\n",
       "        vertical-align: middle;\n",
       "    }\n",
       "\n",
       "    .dataframe tbody tr th {\n",
       "        vertical-align: top;\n",
       "    }\n",
       "\n",
       "    .dataframe thead th {\n",
       "        text-align: right;\n",
       "    }\n",
       "</style>\n",
       "<table border=\"1\" class=\"dataframe\">\n",
       "  <thead>\n",
       "    <tr style=\"text-align: right;\">\n",
       "      <th></th>\n",
       "      <th>age</th>\n",
       "      <th>workclass</th>\n",
       "      <th>fnlwgt</th>\n",
       "      <th>education</th>\n",
       "      <th>education.num</th>\n",
       "      <th>marital.status</th>\n",
       "      <th>occupation</th>\n",
       "      <th>relationship</th>\n",
       "      <th>race</th>\n",
       "      <th>sex</th>\n",
       "      <th>capital.gain</th>\n",
       "      <th>capital.loss</th>\n",
       "      <th>hours.per.week</th>\n",
       "      <th>native.country</th>\n",
       "      <th>income</th>\n",
       "    </tr>\n",
       "  </thead>\n",
       "  <tbody>\n",
       "    <tr>\n",
       "      <th>0</th>\n",
       "      <td>90</td>\n",
       "      <td>?</td>\n",
       "      <td>77053</td>\n",
       "      <td>HS-grad</td>\n",
       "      <td>9</td>\n",
       "      <td>Widowed</td>\n",
       "      <td>?</td>\n",
       "      <td>Not-in-family</td>\n",
       "      <td>White</td>\n",
       "      <td>Female</td>\n",
       "      <td>0</td>\n",
       "      <td>4356</td>\n",
       "      <td>40</td>\n",
       "      <td>United-States</td>\n",
       "      <td>&lt;=50K</td>\n",
       "    </tr>\n",
       "    <tr>\n",
       "      <th>1</th>\n",
       "      <td>82</td>\n",
       "      <td>Private</td>\n",
       "      <td>132870</td>\n",
       "      <td>HS-grad</td>\n",
       "      <td>9</td>\n",
       "      <td>Widowed</td>\n",
       "      <td>Exec-managerial</td>\n",
       "      <td>Not-in-family</td>\n",
       "      <td>White</td>\n",
       "      <td>Female</td>\n",
       "      <td>0</td>\n",
       "      <td>4356</td>\n",
       "      <td>18</td>\n",
       "      <td>United-States</td>\n",
       "      <td>&lt;=50K</td>\n",
       "    </tr>\n",
       "    <tr>\n",
       "      <th>2</th>\n",
       "      <td>66</td>\n",
       "      <td>?</td>\n",
       "      <td>186061</td>\n",
       "      <td>Some-college</td>\n",
       "      <td>10</td>\n",
       "      <td>Widowed</td>\n",
       "      <td>?</td>\n",
       "      <td>Unmarried</td>\n",
       "      <td>Black</td>\n",
       "      <td>Female</td>\n",
       "      <td>0</td>\n",
       "      <td>4356</td>\n",
       "      <td>40</td>\n",
       "      <td>United-States</td>\n",
       "      <td>&lt;=50K</td>\n",
       "    </tr>\n",
       "    <tr>\n",
       "      <th>3</th>\n",
       "      <td>54</td>\n",
       "      <td>Private</td>\n",
       "      <td>140359</td>\n",
       "      <td>7th-8th</td>\n",
       "      <td>4</td>\n",
       "      <td>Divorced</td>\n",
       "      <td>Machine-op-inspct</td>\n",
       "      <td>Unmarried</td>\n",
       "      <td>White</td>\n",
       "      <td>Female</td>\n",
       "      <td>0</td>\n",
       "      <td>3900</td>\n",
       "      <td>40</td>\n",
       "      <td>United-States</td>\n",
       "      <td>&lt;=50K</td>\n",
       "    </tr>\n",
       "    <tr>\n",
       "      <th>4</th>\n",
       "      <td>41</td>\n",
       "      <td>Private</td>\n",
       "      <td>264663</td>\n",
       "      <td>Some-college</td>\n",
       "      <td>10</td>\n",
       "      <td>Separated</td>\n",
       "      <td>Prof-specialty</td>\n",
       "      <td>Own-child</td>\n",
       "      <td>White</td>\n",
       "      <td>Female</td>\n",
       "      <td>0</td>\n",
       "      <td>3900</td>\n",
       "      <td>40</td>\n",
       "      <td>United-States</td>\n",
       "      <td>&lt;=50K</td>\n",
       "    </tr>\n",
       "  </tbody>\n",
       "</table>\n",
       "</div>"
      ],
      "text/plain": [
       "   age workclass  fnlwgt     education  education.num marital.status  \\\n",
       "0   90         ?   77053       HS-grad              9        Widowed   \n",
       "1   82   Private  132870       HS-grad              9        Widowed   \n",
       "2   66         ?  186061  Some-college             10        Widowed   \n",
       "3   54   Private  140359       7th-8th              4       Divorced   \n",
       "4   41   Private  264663  Some-college             10      Separated   \n",
       "\n",
       "          occupation   relationship   race     sex  capital.gain  \\\n",
       "0                  ?  Not-in-family  White  Female             0   \n",
       "1    Exec-managerial  Not-in-family  White  Female             0   \n",
       "2                  ?      Unmarried  Black  Female             0   \n",
       "3  Machine-op-inspct      Unmarried  White  Female             0   \n",
       "4     Prof-specialty      Own-child  White  Female             0   \n",
       "\n",
       "   capital.loss  hours.per.week native.country income  \n",
       "0          4356              40  United-States  <=50K  \n",
       "1          4356              18  United-States  <=50K  \n",
       "2          4356              40  United-States  <=50K  \n",
       "3          3900              40  United-States  <=50K  \n",
       "4          3900              40  United-States  <=50K  "
      ]
     },
     "execution_count": 2,
     "metadata": {},
     "output_type": "execute_result"
    }
   ],
   "source": [
    "raw_df = pd.read_csv('files/datasets/adult.csv')\n",
    "raw_df.head()"
   ]
  },
  {
   "cell_type": "markdown",
   "id": "6b438453-1ac3-4d2b-9acc-fd44c295057f",
   "metadata": {},
   "source": [
    "Because values from the CSV file in Kaggle uses `?` as null values, we will replace those question marks with a NaN. "
   ]
  },
  {
   "cell_type": "code",
   "execution_count": 3,
   "id": "467375a5-18a1-4c9a-a9b1-a6422e9988f3",
   "metadata": {},
   "outputs": [],
   "source": [
    "raw_df.replace(to_replace='?', value=np.nan, inplace=True)"
   ]
  },
  {
   "cell_type": "code",
   "execution_count": 4,
   "id": "ea46437b-c99d-4ade-91cc-32ac05f3194e",
   "metadata": {},
   "outputs": [],
   "source": [
    "raw_df.replace(to_replace='<=50K', value=0, inplace=True)\n",
    "raw_df.replace(to_replace='>50K', value=1, inplace=True)"
   ]
  },
  {
   "cell_type": "markdown",
   "id": "be80ae17-2b3a-452a-b01e-037147e6b6a7",
   "metadata": {},
   "source": [
    "#### View information about the dataframe"
   ]
  },
  {
   "cell_type": "code",
   "execution_count": 5,
   "id": "c9204107",
   "metadata": {},
   "outputs": [
    {
     "name": "stdout",
     "output_type": "stream",
     "text": [
      "<class 'pandas.core.frame.DataFrame'>\n",
      "RangeIndex: 32561 entries, 0 to 32560\n",
      "Data columns (total 15 columns):\n",
      " #   Column          Non-Null Count  Dtype \n",
      "---  ------          --------------  ----- \n",
      " 0   age             32561 non-null  int64 \n",
      " 1   workclass       30725 non-null  object\n",
      " 2   fnlwgt          32561 non-null  int64 \n",
      " 3   education       32561 non-null  object\n",
      " 4   education.num   32561 non-null  int64 \n",
      " 5   marital.status  32561 non-null  object\n",
      " 6   occupation      30718 non-null  object\n",
      " 7   relationship    32561 non-null  object\n",
      " 8   race            32561 non-null  object\n",
      " 9   sex             32561 non-null  object\n",
      " 10  capital.gain    32561 non-null  int64 \n",
      " 11  capital.loss    32561 non-null  int64 \n",
      " 12  hours.per.week  32561 non-null  int64 \n",
      " 13  native.country  31978 non-null  object\n",
      " 14  income          32561 non-null  int64 \n",
      "dtypes: int64(7), object(8)\n",
      "memory usage: 3.7+ MB\n"
     ]
    }
   ],
   "source": [
    "raw_df.info()"
   ]
  },
  {
   "cell_type": "markdown",
   "id": "3b5de6c4-6d7e-4f85-9655-0efb2b42c518",
   "metadata": {},
   "source": [
    "#### Split the data into target and features"
   ]
  },
  {
   "cell_type": "code",
   "execution_count": 6,
   "id": "07f74891-ae8a-4d02-b446-f0e2b08c07ea",
   "metadata": {},
   "outputs": [],
   "source": [
    "def xy_split(dataframe, y_column):\n",
    "    features = dataframe.loc[:, dataframe.columns != y_column]\n",
    "    target = dataframe[y_column]\n",
    "    return features, target\n",
    "\n",
    "X, y = xy_split(raw_df, 'income')"
   ]
  },
  {
   "cell_type": "markdown",
   "id": "1d49ea7c-f2d8-4cc2-a2e2-f5d95dd7832c",
   "metadata": {},
   "source": [
    "#### Create training and testing sets"
   ]
  },
  {
   "cell_type": "code",
   "execution_count": 7,
   "id": "5b4d5313-fc82-4cc4-b1f5-42eb526deeb9",
   "metadata": {},
   "outputs": [],
   "source": [
    "from sklearn.model_selection import train_test_split\n",
    "X_train, X_test, y_train, y_test = train_test_split(X, y, test_size=0.2, random_state=42)"
   ]
  },
  {
   "cell_type": "markdown",
   "id": "0cba0097-a417-441d-a301-d6163b5dac89",
   "metadata": {},
   "source": [
    "#### Create a copy of the original dataset"
   ]
  },
  {
   "cell_type": "code",
   "execution_count": 8,
   "id": "122cef88-0235-4a4e-82f1-925512dfd5b6",
   "metadata": {},
   "outputs": [],
   "source": [
    "df = X_train.copy()"
   ]
  },
  {
   "cell_type": "markdown",
   "id": "2ce3a091-5f10-4c02-b71c-b0fa85a32938",
   "metadata": {},
   "source": [
    "---"
   ]
  },
  {
   "cell_type": "markdown",
   "id": "eb503f91-6adc-4da8-85ca-662804eb4e01",
   "metadata": {},
   "source": [
    "# Data Preparation"
   ]
  },
  {
   "cell_type": "markdown",
   "id": "d8b5e254-31ec-4fcf-9d94-50a48dc2cc2d",
   "metadata": {},
   "source": [
    "#### Import necesary libraries"
   ]
  },
  {
   "cell_type": "code",
   "execution_count": 9,
   "id": "e270aa51-d552-46bc-b783-6c2dab48fb01",
   "metadata": {},
   "outputs": [],
   "source": [
    "from sklearn.compose import ColumnTransformer, make_column_selector\n",
    "from sklearn.impute import SimpleImputer\n",
    "from sklearn.pipeline import Pipeline, make_pipeline\n",
    "from sklearn.preprocessing import OneHotEncoder, OrdinalEncoder\n",
    "\n",
    "from sklearn import set_config\n",
    "set_config(transform_output=\"pandas\")"
   ]
  },
  {
   "cell_type": "markdown",
   "id": "2c6999da-992e-4261-96a2-e7a74c7aaef0",
   "metadata": {},
   "source": [
    "#### Determine which columns have low cardinality"
   ]
  },
  {
   "cell_type": "code",
   "execution_count": 10,
   "id": "ba7f2714-2b18-4350-9aea-d8544f038dc6",
   "metadata": {},
   "outputs": [
    {
     "name": "stdout",
     "output_type": "stream",
     "text": [
      "8 - workclass\n",
      "7 - marital.status\n",
      "6 - relationship\n",
      "5 - race\n",
      "2 - sex\n"
     ]
    }
   ],
   "source": [
    "def ohe_eligibility(datafame):\n",
    "    for i in datafame.columns:\n",
    "        if len(datafame[i].value_counts()) < 10:\n",
    "            print(f'{len(datafame[i].value_counts())} - {i}')\n",
    "        else:\n",
    "            pass\n",
    "        \n",
    "ohe_eligibility(df)"
   ]
  },
  {
   "cell_type": "code",
   "execution_count": 11,
   "id": "64fac352-5114-4427-a489-e78266ecc491",
   "metadata": {},
   "outputs": [
    {
     "data": {
      "text/plain": [
       "Married-civ-spouse       11977\n",
       "Never-married             8502\n",
       "Divorced                  3582\n",
       "Separated                  827\n",
       "Widowed                    790\n",
       "Married-spouse-absent      352\n",
       "Married-AF-spouse           18\n",
       "Name: marital.status, dtype: int64"
      ]
     },
     "execution_count": 11,
     "metadata": {},
     "output_type": "execute_result"
    }
   ],
   "source": [
    "df['marital.status'].value_counts(dropna=False)"
   ]
  },
  {
   "cell_type": "code",
   "execution_count": 12,
   "id": "016d2b0c-810a-462c-8689-f3edb5b3d721",
   "metadata": {},
   "outputs": [
    {
     "data": {
      "image/png": "[encoded data removed]",
      "text/plain": [
       "<Figure size 640x480 with 1 Axes>"
      ]
     },
     "metadata": {},
     "output_type": "display_data"
    }
   ],
   "source": [
    "sns.countplot(x='marital.status', data=df)\n",
    "plt.xticks(rotation=45)\n",
    "plt.show()"
   ]
  },
  {
   "cell_type": "markdown",
   "id": "fb99a2e0-0ea2-4b39-9a3b-06cdb0cbc6cd",
   "metadata": {},
   "source": [
    "### Next Steps (Jan 22, 2022)\n",
    "\n",
    "* [ ] Determine the income for each marital.status\n",
    "\n",
    "* [ ] If you can find a pattern, disregard hash encoding\n",
    "\n",
    "* [ ] When the low values represented in marital.status is not a primary factor for income, use hash encoding"
   ]
  },
  {
   "cell_type": "markdown",
   "id": "d16277b6-d0da-4d5b-ab59-1fd485bad83e",
   "metadata": {},
   "source": []
  },
  {
   "cell_type": "code",
   "execution_count": 13,
   "id": "7a7e9e17-bca7-43e5-a520-4310051e6c5d",
   "metadata": {},
   "outputs": [],
   "source": [
    "params = {'dataframe': raw_df,\n",
    "          'feature_of_int': 'marital.status', \n",
    "          'target': 'income', \n",
    "          'Uniq_col_id': 'fnlwgt'}\n",
    "\n",
    "def create_data(dataframe, feature_of_int, target, Uniq_col_id):\n",
    "    dataframe = dataframe.groupby([feature_of_int, target]).count()\n",
    "    dataframe = dataframe.drop(columns = dataframe.loc[:, ~dataframe.columns.isin([feature_of_int, target, Uniq_col_id])])\n",
    "    new_df = dataframe.rename(columns={Uniq_col_id:'Count'}).transpose()\n",
    "    return new_df\n",
    "\n",
    "df_p = create_data(**params)"
   ]
  },
  {
   "cell_type": "code",
   "execution_count": 14,
   "id": "5f67e70d-59d8-482b-a517-67f52314a36a",
   "metadata": {},
   "outputs": [],
   "source": [
    "def get_survived_dist(df):\n",
    "    \n",
    "    # Creating a dictionary for every survival count in every deck\n",
    "    surv_counts = {'Divorced':{}, 'Married-AF-spouse':{}, \n",
    "                   'Married-civ-spouse':{}, 'Married-spouse-absent':{}, \n",
    "                   'Never-married':{}, 'Separated':{}, 'Widowed':{}}\n",
    "    decks = df.columns.levels[0]\n",
    "\n",
    "    for deck in decks:\n",
    "        for survive in range(0, 2):\n",
    "            surv_counts[deck][survive] = df[deck][survive][0]\n",
    "            \n",
    "    df_surv = pd.DataFrame(surv_counts)\n",
    "    surv_percentages = {}\n",
    "\n",
    "    for col in df_surv.columns:\n",
    "        surv_percentages[col] = [(count / df_surv[col].sum()) * 100 for count in df_surv[col]]\n",
    "        \n",
    "    return surv_counts, surv_percentages\n",
    "\n",
    "all_surv_count, all_surv_per = get_survived_dist(df_p)"
   ]
  },
  {
   "cell_type": "code",
   "execution_count": 15,
   "id": "bae5c3b4-3489-4c6a-8f3d-33df3ba6a194",
   "metadata": {},
   "outputs": [
    {
     "data": {
      "image/png": "[encoded data removed]",
      "text/plain": [
       "<Figure size 2000x1000 with 1 Axes>"
      ]
     },
     "metadata": {},
     "output_type": "display_data"
    }
   ],
   "source": [
    "def display_surv_dist(percentages):\n",
    "    \n",
    "    df_survived_percentages = pd.DataFrame(percentages).transpose()\n",
    "    deck_names = ('Divorced', 'Married-AF-spouse', 'Married-civ-spouse', 'Married-spouse-absent', 'Never-married', 'Separated', 'Widowed')\n",
    "    bar_count = np.arange(len(deck_names))  \n",
    "    bar_width = 0.85    \n",
    "\n",
    "    less_50k = df_survived_percentages[0]\n",
    "    more_50k = df_survived_percentages[1]\n",
    "    \n",
    "    plt.figure(figsize=(20, 10))\n",
    "    plt.bar(bar_count, less_50k, color='#b5ffb9', edgecolor='white', width=bar_width, label=\"less_50k\")\n",
    "    plt.bar(bar_count, more_50k, bottom=less_50k, color='#f9bc86', edgecolor='white', width=bar_width, label=\"more_50k\")\n",
    " \n",
    "    plt.xlabel('Deck', size=15, labelpad=20)\n",
    "    plt.ylabel('Survival Percentage', size=15, labelpad=20)\n",
    "    plt.xticks(bar_count, deck_names)    \n",
    "    plt.tick_params(axis='x', labelsize=15)\n",
    "    plt.tick_params(axis='y', labelsize=15)\n",
    "    \n",
    "    plt.legend(loc='upper left', bbox_to_anchor=(1, 1), prop={'size': 15})\n",
    "    plt.title('Survival Percentage in Decks', size=18, y=1.05)\n",
    "    \n",
    "    plt.show()\n",
    "\n",
    "all_surv_count, all_surv_per = get_survived_dist(df_p)\n",
    "display_surv_dist(all_surv_per)"
   ]
  },
  {
   "cell_type": "code",
   "execution_count": 16,
   "id": "4b63992c-cc75-4e1f-9792-b5b57b53ebc5",
   "metadata": {},
   "outputs": [
    {
     "data": {
      "image/png": "[encoded data removed]",
      "text/plain": [
       "<Figure size 640x480 with 1 Axes>"
      ]
     },
     "metadata": {},
     "output_type": "display_data"
    }
   ],
   "source": [
    "sns.countplot(x='marital.status', data=df)\n",
    "plt.xticks(rotation=45)\n",
    "plt.show()"
   ]
  },
  {
   "cell_type": "markdown",
   "id": "5292927f-3605-4979-9411-c80565509343",
   "metadata": {},
   "source": [
    "Becuse for majority of status, the income is less than 50k, it may be acceptable to use hash encoding. Hash it in a way that Married-civ, Married-AF, are separated and the rest can be hash collided [**If that is possible**, which we will know next time]."
   ]
  },
  {
   "cell_type": "markdown",
   "id": "9f8fdff8-7dc2-4eb3-9736-e8b8073a1628",
   "metadata": {},
   "source": [
    "----"
   ]
  },
  {
   "cell_type": "code",
   "execution_count": null,
   "id": "d8dcbabd",
   "metadata": {},
   "outputs": [],
   "source": []
  },
  {
   "cell_type": "code",
   "execution_count": null,
   "id": "29c630d4-faf1-425d-8ab6-128827ad47ca",
   "metadata": {},
   "outputs": [],
   "source": []
  },
  {
   "cell_type": "code",
   "execution_count": null,
   "id": "9264d478-bdff-42ac-8653-de375e315f29",
   "metadata": {},
   "outputs": [],
   "source": []
  },
  {
   "cell_type": "code",
   "execution_count": null,
   "id": "f9b74f63-6975-4183-9824-69c2f00e200a",
   "metadata": {},
   "outputs": [],
   "source": []
  },
  {
   "cell_type": "code",
   "execution_count": null,
   "id": "7b77c02a-5f86-4857-886b-63961b965e27",
   "metadata": {},
   "outputs": [],
   "source": []
  },
  {
   "cell_type": "code",
   "execution_count": null,
   "id": "04d320d9-e848-4faf-8af4-44ee018d805e",
   "metadata": {},
   "outputs": [],
   "source": []
  },
  {
   "cell_type": "code",
   "execution_count": 17,
   "id": "f3f9890c-817c-4f8d-a6d8-8a73fd9dbae4",
   "metadata": {},
   "outputs": [
    {
     "name": "stdout",
     "output_type": "stream",
     "text": [
      "age: 73\n",
      "workclass: 8\n",
      "fnlwgt: 21648\n",
      "education: 16\n",
      "education.num: 16\n",
      "marital.status: 7\n",
      "occupation: 14\n",
      "relationship: 6\n",
      "race: 5\n",
      "sex: 2\n",
      "capital.gain: 119\n",
      "capital.loss: 92\n",
      "hours.per.week: 94\n",
      "native.country: 41\n",
      "income: 2\n"
     ]
    }
   ],
   "source": [
    "for i in raw_df.columns:\n",
    "    print(f'{i}: {len(raw_df[i].value_counts())}')"
   ]
  },
  {
   "cell_type": "code",
   "execution_count": 18,
   "id": "a67e0655",
   "metadata": {},
   "outputs": [
    {
     "name": "stdout",
     "output_type": "stream",
     "text": [
      "age: 0\n",
      "workclass: 1836\n",
      "fnlwgt: 0\n",
      "education: 0\n",
      "education.num: 0\n",
      "marital.status: 0\n",
      "occupation: 1843\n",
      "relationship: 0\n",
      "race: 0\n",
      "sex: 0\n",
      "capital.gain: 0\n",
      "capital.loss: 0\n",
      "hours.per.week: 0\n",
      "native.country: 583\n",
      "income: 0\n"
     ]
    }
   ],
   "source": [
    "for i in raw_df.columns:\n",
    "    print(f'{i}: {raw_df[i].isnull().sum()}')"
   ]
  },
  {
   "cell_type": "code",
   "execution_count": null,
   "id": "7d8c0154-c466-48ab-be77-97128aa776d9",
   "metadata": {},
   "outputs": [],
   "source": []
  },
  {
   "cell_type": "markdown",
   "id": "ad42de52",
   "metadata": {},
   "source": [
    "workclass - replace by mode <br>\n",
    "occupation - replace using a machine learning method <br>\n",
    "native.country - replace by mode"
   ]
  },
  {
   "cell_type": "markdown",
   "id": "2d783b8b-13be-4f56-9c09-2e28073ca56c",
   "metadata": {},
   "source": [
    "---"
   ]
  },
  {
   "cell_type": "code",
   "execution_count": null,
   "id": "df5b13d2-8a7b-4c1d-b2d7-32f2904c1ae1",
   "metadata": {},
   "outputs": [],
   "source": []
  },
  {
   "cell_type": "code",
   "execution_count": 19,
   "id": "cdc62d29-8f9a-4808-90fc-959604317341",
   "metadata": {},
   "outputs": [],
   "source": [
    "\n",
    "\n",
    "freq_imp = SimpleImputer(strategy=\"most_frequent\")\n",
    "ohe_enc = OneHotEncoder(sparse_output=False, handle_unknown='ignore')\n",
    "cat_pipeline = make_pipeline(freq_imp, ohe_enc)"
   ]
  },
  {
   "cell_type": "code",
   "execution_count": 20,
   "id": "86ce100b-51f2-46fc-a376-93805d833e55",
   "metadata": {},
   "outputs": [
    {
     "data": {
      "text/plain": [
       "Married-civ-spouse       11977\n",
       "Never-married             8502\n",
       "Divorced                  3582\n",
       "Separated                  827\n",
       "Widowed                    790\n",
       "Married-spouse-absent      352\n",
       "Married-AF-spouse           18\n",
       "Name: marital.status, dtype: int64"
      ]
     },
     "execution_count": 20,
     "metadata": {},
     "output_type": "execute_result"
    }
   ],
   "source": [
    "df['marital.status'].value_counts(dropna=False)"
   ]
  },
  {
   "cell_type": "code",
   "execution_count": 21,
   "id": "463c5ffe-d1df-4567-bc3d-d259a8b3b5a5",
   "metadata": {},
   "outputs": [],
   "source": [
    "from category_encoders import CountEncoder\n",
    "\n",
    "cnt_encoder = CountEncoder()\n",
    "\n",
    "ohe_enc = OneHotEncoder(sparse_output=False, handle_unknown='ignore')\n",
    "cardinality_pipeline = make_pipeline(freq_imp, cnt_encoder)"
   ]
  },
  {
   "cell_type": "code",
   "execution_count": 22,
   "id": "6c058ce8-4aae-41e0-993a-8c4f4061abcd",
   "metadata": {},
   "outputs": [
    {
     "data": {
      "text/plain": [
       "Index(['age', 'workclass', 'fnlwgt', 'education', 'education.num',\n",
       "       'marital.status', 'occupation', 'relationship', 'race', 'sex',\n",
       "       'capital.gain', 'capital.loss', 'hours.per.week', 'native.country'],\n",
       "      dtype='object')"
      ]
     },
     "execution_count": 22,
     "metadata": {},
     "output_type": "execute_result"
    }
   ],
   "source": [
    "df.columns"
   ]
  },
  {
   "cell_type": "markdown",
   "id": "4cb61fc2-09a6-45b9-814e-57b8d3628470",
   "metadata": {},
   "source": [
    "* [ ] Age\n",
    "* [ ] workclass\n",
    "* [ ] fnlwght\n",
    "* [ ] education\n",
    "* [ ] education.num\n",
    "* [ ] martial.status\n",
    "* [ ] occupation\n",
    "* [ ] relationship\n",
    "* [ ] race\n",
    "* [X] sex\n",
    "* [ ] occupation\n",
    "* [ ] capital.gain\n",
    "* [ ] capital.loss\n",
    "* [ ] hours.per.week\n",
    "* [ ] native.country\n",
    "* [ ] income"
   ]
  },
  {
   "cell_type": "code",
   "execution_count": 23,
   "id": "360052e8-d976-4906-801d-02a146652e67",
   "metadata": {},
   "outputs": [],
   "source": [
    "oe = OrdinalEncoder()"
   ]
  },
  {
   "cell_type": "code",
   "execution_count": 24,
   "id": "00d26dd6-1c89-41ea-97a4-c1f5c2b423e4",
   "metadata": {},
   "outputs": [],
   "source": [
    "count_process = ColumnTransformer([\n",
    "    ('count', cardinality_pipeline, ['relationship', 'marital.status']),\n",
    "    ('ohe', ohe_enc, ['sex'])\n",
    "])"
   ]
  },
  {
   "cell_type": "code",
   "execution_count": 25,
   "id": "a2813742-1292-4ee2-8086-8f712ba61710",
   "metadata": {},
   "outputs": [
    {
     "data": {
      "text/plain": [
       "1436"
      ]
     },
     "execution_count": 25,
     "metadata": {},
     "output_type": "execute_result"
    }
   ],
   "source": [
    "df['workclass'].isnull().sum()"
   ]
  },
  {
   "cell_type": "code",
   "execution_count": 26,
   "id": "83db983d-1626-435b-ba52-5811a9a8c3b5",
   "metadata": {},
   "outputs": [
    {
     "data": {
      "text/html": [
       "<div>\n",
       "<style scoped>\n",
       "    .dataframe tbody tr th:only-of-type {\n",
       "        vertical-align: middle;\n",
       "    }\n",
       "\n",
       "    .dataframe tbody tr th {\n",
       "        vertical-align: top;\n",
       "    }\n",
       "\n",
       "    .dataframe thead th {\n",
       "        text-align: right;\n",
       "    }\n",
       "</style>\n",
       "<table border=\"1\" class=\"dataframe\">\n",
       "  <thead>\n",
       "    <tr style=\"text-align: right;\">\n",
       "      <th></th>\n",
       "      <th>count__relationship</th>\n",
       "      <th>count__marital.status</th>\n",
       "      <th>ohe__sex_Female</th>\n",
       "      <th>ohe__sex_Male</th>\n",
       "    </tr>\n",
       "  </thead>\n",
       "  <tbody>\n",
       "    <tr>\n",
       "      <th>5514</th>\n",
       "      <td>6623</td>\n",
       "      <td>8502</td>\n",
       "      <td>0.0</td>\n",
       "      <td>1.0</td>\n",
       "    </tr>\n",
       "    <tr>\n",
       "      <th>19777</th>\n",
       "      <td>6623</td>\n",
       "      <td>8502</td>\n",
       "      <td>1.0</td>\n",
       "      <td>0.0</td>\n",
       "    </tr>\n",
       "    <tr>\n",
       "      <th>10781</th>\n",
       "      <td>2770</td>\n",
       "      <td>3582</td>\n",
       "      <td>1.0</td>\n",
       "      <td>0.0</td>\n",
       "    </tr>\n",
       "    <tr>\n",
       "      <th>32240</th>\n",
       "      <td>1248</td>\n",
       "      <td>11977</td>\n",
       "      <td>1.0</td>\n",
       "      <td>0.0</td>\n",
       "    </tr>\n",
       "    <tr>\n",
       "      <th>9876</th>\n",
       "      <td>10560</td>\n",
       "      <td>11977</td>\n",
       "      <td>0.0</td>\n",
       "      <td>1.0</td>\n",
       "    </tr>\n",
       "    <tr>\n",
       "      <th>...</th>\n",
       "      <td>...</td>\n",
       "      <td>...</td>\n",
       "      <td>...</td>\n",
       "      <td>...</td>\n",
       "    </tr>\n",
       "    <tr>\n",
       "      <th>29802</th>\n",
       "      <td>4051</td>\n",
       "      <td>8502</td>\n",
       "      <td>0.0</td>\n",
       "      <td>1.0</td>\n",
       "    </tr>\n",
       "    <tr>\n",
       "      <th>5390</th>\n",
       "      <td>10560</td>\n",
       "      <td>11977</td>\n",
       "      <td>0.0</td>\n",
       "      <td>1.0</td>\n",
       "    </tr>\n",
       "    <tr>\n",
       "      <th>860</th>\n",
       "      <td>10560</td>\n",
       "      <td>11977</td>\n",
       "      <td>0.0</td>\n",
       "      <td>1.0</td>\n",
       "    </tr>\n",
       "    <tr>\n",
       "      <th>15795</th>\n",
       "      <td>10560</td>\n",
       "      <td>11977</td>\n",
       "      <td>0.0</td>\n",
       "      <td>1.0</td>\n",
       "    </tr>\n",
       "    <tr>\n",
       "      <th>23654</th>\n",
       "      <td>4051</td>\n",
       "      <td>8502</td>\n",
       "      <td>0.0</td>\n",
       "      <td>1.0</td>\n",
       "    </tr>\n",
       "  </tbody>\n",
       "</table>\n",
       "<p>26048 rows × 4 columns</p>\n",
       "</div>"
      ],
      "text/plain": [
       "       count__relationship  count__marital.status  ohe__sex_Female  \\\n",
       "5514                  6623                   8502              0.0   \n",
       "19777                 6623                   8502              1.0   \n",
       "10781                 2770                   3582              1.0   \n",
       "32240                 1248                  11977              1.0   \n",
       "9876                 10560                  11977              0.0   \n",
       "...                    ...                    ...              ...   \n",
       "29802                 4051                   8502              0.0   \n",
       "5390                 10560                  11977              0.0   \n",
       "860                  10560                  11977              0.0   \n",
       "15795                10560                  11977              0.0   \n",
       "23654                 4051                   8502              0.0   \n",
       "\n",
       "       ohe__sex_Male  \n",
       "5514             1.0  \n",
       "19777            0.0  \n",
       "10781            0.0  \n",
       "32240            0.0  \n",
       "9876             1.0  \n",
       "...              ...  \n",
       "29802            1.0  \n",
       "5390             1.0  \n",
       "860              1.0  \n",
       "15795            1.0  \n",
       "23654            1.0  \n",
       "\n",
       "[26048 rows x 4 columns]"
      ]
     },
     "execution_count": 26,
     "metadata": {},
     "output_type": "execute_result"
    }
   ],
   "source": [
    "count_process.fit_transform(df)"
   ]
  },
  {
   "cell_type": "markdown",
   "id": "fa95ff31-11ef-40cd-ad72-1f50b88c1422",
   "metadata": {},
   "source": [
    "----"
   ]
  },
  {
   "cell_type": "code",
   "execution_count": 27,
   "id": "432eaa70-3980-4eac-bb00-077eba538802",
   "metadata": {},
   "outputs": [
    {
     "data": {
      "text/html": [
       "<div>\n",
       "<style scoped>\n",
       "    .dataframe tbody tr th:only-of-type {\n",
       "        vertical-align: middle;\n",
       "    }\n",
       "\n",
       "    .dataframe tbody tr th {\n",
       "        vertical-align: top;\n",
       "    }\n",
       "\n",
       "    .dataframe thead th {\n",
       "        text-align: right;\n",
       "    }\n",
       "</style>\n",
       "<table border=\"1\" class=\"dataframe\">\n",
       "  <thead>\n",
       "    <tr style=\"text-align: right;\">\n",
       "      <th></th>\n",
       "      <th>age</th>\n",
       "      <th>workclass</th>\n",
       "      <th>fnlwgt</th>\n",
       "      <th>education</th>\n",
       "      <th>education.num</th>\n",
       "      <th>marital.status</th>\n",
       "      <th>occupation</th>\n",
       "      <th>relationship</th>\n",
       "      <th>race</th>\n",
       "      <th>sex</th>\n",
       "      <th>capital.gain</th>\n",
       "      <th>capital.loss</th>\n",
       "      <th>hours.per.week</th>\n",
       "      <th>native.country</th>\n",
       "    </tr>\n",
       "  </thead>\n",
       "  <tbody>\n",
       "    <tr>\n",
       "      <th>5514</th>\n",
       "      <td>26</td>\n",
       "      <td>Private</td>\n",
       "      <td>256263</td>\n",
       "      <td>HS-grad</td>\n",
       "      <td>9</td>\n",
       "      <td>Never-married</td>\n",
       "      <td>Craft-repair</td>\n",
       "      <td>Not-in-family</td>\n",
       "      <td>White</td>\n",
       "      <td>Male</td>\n",
       "      <td>0</td>\n",
       "      <td>0</td>\n",
       "      <td>25</td>\n",
       "      <td>United-States</td>\n",
       "    </tr>\n",
       "    <tr>\n",
       "      <th>19777</th>\n",
       "      <td>24</td>\n",
       "      <td>Private</td>\n",
       "      <td>170277</td>\n",
       "      <td>HS-grad</td>\n",
       "      <td>9</td>\n",
       "      <td>Never-married</td>\n",
       "      <td>Other-service</td>\n",
       "      <td>Not-in-family</td>\n",
       "      <td>White</td>\n",
       "      <td>Female</td>\n",
       "      <td>0</td>\n",
       "      <td>0</td>\n",
       "      <td>35</td>\n",
       "      <td>United-States</td>\n",
       "    </tr>\n",
       "    <tr>\n",
       "      <th>10781</th>\n",
       "      <td>36</td>\n",
       "      <td>Private</td>\n",
       "      <td>75826</td>\n",
       "      <td>Bachelors</td>\n",
       "      <td>13</td>\n",
       "      <td>Divorced</td>\n",
       "      <td>Adm-clerical</td>\n",
       "      <td>Unmarried</td>\n",
       "      <td>White</td>\n",
       "      <td>Female</td>\n",
       "      <td>0</td>\n",
       "      <td>0</td>\n",
       "      <td>40</td>\n",
       "      <td>United-States</td>\n",
       "    </tr>\n",
       "    <tr>\n",
       "      <th>32240</th>\n",
       "      <td>22</td>\n",
       "      <td>State-gov</td>\n",
       "      <td>24395</td>\n",
       "      <td>Some-college</td>\n",
       "      <td>10</td>\n",
       "      <td>Married-civ-spouse</td>\n",
       "      <td>Adm-clerical</td>\n",
       "      <td>Wife</td>\n",
       "      <td>White</td>\n",
       "      <td>Female</td>\n",
       "      <td>0</td>\n",
       "      <td>0</td>\n",
       "      <td>20</td>\n",
       "      <td>United-States</td>\n",
       "    </tr>\n",
       "    <tr>\n",
       "      <th>9876</th>\n",
       "      <td>31</td>\n",
       "      <td>Local-gov</td>\n",
       "      <td>356689</td>\n",
       "      <td>Bachelors</td>\n",
       "      <td>13</td>\n",
       "      <td>Married-civ-spouse</td>\n",
       "      <td>Prof-specialty</td>\n",
       "      <td>Husband</td>\n",
       "      <td>White</td>\n",
       "      <td>Male</td>\n",
       "      <td>0</td>\n",
       "      <td>0</td>\n",
       "      <td>40</td>\n",
       "      <td>United-States</td>\n",
       "    </tr>\n",
       "    <tr>\n",
       "      <th>...</th>\n",
       "      <td>...</td>\n",
       "      <td>...</td>\n",
       "      <td>...</td>\n",
       "      <td>...</td>\n",
       "      <td>...</td>\n",
       "      <td>...</td>\n",
       "      <td>...</td>\n",
       "      <td>...</td>\n",
       "      <td>...</td>\n",
       "      <td>...</td>\n",
       "      <td>...</td>\n",
       "      <td>...</td>\n",
       "      <td>...</td>\n",
       "      <td>...</td>\n",
       "    </tr>\n",
       "    <tr>\n",
       "      <th>29802</th>\n",
       "      <td>25</td>\n",
       "      <td>Private</td>\n",
       "      <td>410240</td>\n",
       "      <td>HS-grad</td>\n",
       "      <td>9</td>\n",
       "      <td>Never-married</td>\n",
       "      <td>Craft-repair</td>\n",
       "      <td>Own-child</td>\n",
       "      <td>White</td>\n",
       "      <td>Male</td>\n",
       "      <td>0</td>\n",
       "      <td>0</td>\n",
       "      <td>40</td>\n",
       "      <td>United-States</td>\n",
       "    </tr>\n",
       "    <tr>\n",
       "      <th>5390</th>\n",
       "      <td>51</td>\n",
       "      <td>Private</td>\n",
       "      <td>146767</td>\n",
       "      <td>Assoc-voc</td>\n",
       "      <td>11</td>\n",
       "      <td>Married-civ-spouse</td>\n",
       "      <td>Prof-specialty</td>\n",
       "      <td>Husband</td>\n",
       "      <td>White</td>\n",
       "      <td>Male</td>\n",
       "      <td>0</td>\n",
       "      <td>0</td>\n",
       "      <td>40</td>\n",
       "      <td>United-States</td>\n",
       "    </tr>\n",
       "    <tr>\n",
       "      <th>860</th>\n",
       "      <td>55</td>\n",
       "      <td>Federal-gov</td>\n",
       "      <td>238192</td>\n",
       "      <td>HS-grad</td>\n",
       "      <td>9</td>\n",
       "      <td>Married-civ-spouse</td>\n",
       "      <td>Tech-support</td>\n",
       "      <td>Husband</td>\n",
       "      <td>White</td>\n",
       "      <td>Male</td>\n",
       "      <td>0</td>\n",
       "      <td>1887</td>\n",
       "      <td>40</td>\n",
       "      <td>United-States</td>\n",
       "    </tr>\n",
       "    <tr>\n",
       "      <th>15795</th>\n",
       "      <td>41</td>\n",
       "      <td>Private</td>\n",
       "      <td>154076</td>\n",
       "      <td>Some-college</td>\n",
       "      <td>10</td>\n",
       "      <td>Married-civ-spouse</td>\n",
       "      <td>Adm-clerical</td>\n",
       "      <td>Husband</td>\n",
       "      <td>White</td>\n",
       "      <td>Male</td>\n",
       "      <td>0</td>\n",
       "      <td>0</td>\n",
       "      <td>50</td>\n",
       "      <td>United-States</td>\n",
       "    </tr>\n",
       "    <tr>\n",
       "      <th>23654</th>\n",
       "      <td>22</td>\n",
       "      <td>Private</td>\n",
       "      <td>162667</td>\n",
       "      <td>HS-grad</td>\n",
       "      <td>9</td>\n",
       "      <td>Never-married</td>\n",
       "      <td>Handlers-cleaners</td>\n",
       "      <td>Own-child</td>\n",
       "      <td>White</td>\n",
       "      <td>Male</td>\n",
       "      <td>0</td>\n",
       "      <td>0</td>\n",
       "      <td>50</td>\n",
       "      <td>Portugal</td>\n",
       "    </tr>\n",
       "  </tbody>\n",
       "</table>\n",
       "<p>26048 rows × 14 columns</p>\n",
       "</div>"
      ],
      "text/plain": [
       "       age    workclass  fnlwgt     education  education.num  \\\n",
       "5514    26      Private  256263       HS-grad              9   \n",
       "19777   24      Private  170277       HS-grad              9   \n",
       "10781   36      Private   75826     Bachelors             13   \n",
       "32240   22    State-gov   24395  Some-college             10   \n",
       "9876    31    Local-gov  356689     Bachelors             13   \n",
       "...    ...          ...     ...           ...            ...   \n",
       "29802   25      Private  410240       HS-grad              9   \n",
       "5390    51      Private  146767     Assoc-voc             11   \n",
       "860     55  Federal-gov  238192       HS-grad              9   \n",
       "15795   41      Private  154076  Some-college             10   \n",
       "23654   22      Private  162667       HS-grad              9   \n",
       "\n",
       "           marital.status         occupation   relationship   race     sex  \\\n",
       "5514        Never-married       Craft-repair  Not-in-family  White    Male   \n",
       "19777       Never-married      Other-service  Not-in-family  White  Female   \n",
       "10781            Divorced       Adm-clerical      Unmarried  White  Female   \n",
       "32240  Married-civ-spouse       Adm-clerical           Wife  White  Female   \n",
       "9876   Married-civ-spouse     Prof-specialty        Husband  White    Male   \n",
       "...                   ...                ...            ...    ...     ...   \n",
       "29802       Never-married       Craft-repair      Own-child  White    Male   \n",
       "5390   Married-civ-spouse     Prof-specialty        Husband  White    Male   \n",
       "860    Married-civ-spouse       Tech-support        Husband  White    Male   \n",
       "15795  Married-civ-spouse       Adm-clerical        Husband  White    Male   \n",
       "23654       Never-married  Handlers-cleaners      Own-child  White    Male   \n",
       "\n",
       "       capital.gain  capital.loss  hours.per.week native.country  \n",
       "5514              0             0              25  United-States  \n",
       "19777             0             0              35  United-States  \n",
       "10781             0             0              40  United-States  \n",
       "32240             0             0              20  United-States  \n",
       "9876              0             0              40  United-States  \n",
       "...             ...           ...             ...            ...  \n",
       "29802             0             0              40  United-States  \n",
       "5390              0             0              40  United-States  \n",
       "860               0          1887              40  United-States  \n",
       "15795             0             0              50  United-States  \n",
       "23654             0             0              50       Portugal  \n",
       "\n",
       "[26048 rows x 14 columns]"
      ]
     },
     "execution_count": 27,
     "metadata": {},
     "output_type": "execute_result"
    }
   ],
   "source": [
    "df"
   ]
  },
  {
   "cell_type": "code",
   "execution_count": null,
   "id": "249fde8d-b399-448c-9165-25f96756befc",
   "metadata": {},
   "outputs": [],
   "source": []
  },
  {
   "cell_type": "code",
   "execution_count": null,
   "id": "289cc42c-469b-4a46-b407-9d062076c48f",
   "metadata": {},
   "outputs": [],
   "source": []
  },
  {
   "cell_type": "code",
   "execution_count": null,
   "id": "9d4006c8-5f3a-4ce6-9338-9d8a99cac303",
   "metadata": {},
   "outputs": [],
   "source": []
  },
  {
   "cell_type": "code",
   "execution_count": null,
   "id": "b14821dc-7414-4b26-80c8-a11956016f52",
   "metadata": {},
   "outputs": [],
   "source": []
  },
  {
   "cell_type": "code",
   "execution_count": null,
   "id": "cdc2bcc1-b73d-4b72-8110-93b540beccaa",
   "metadata": {},
   "outputs": [],
   "source": []
  },
  {
   "cell_type": "markdown",
   "id": "b1633521-2c04-44e1-97f1-1402a94ca100",
   "metadata": {},
   "source": [
    "---"
   ]
  },
  {
   "cell_type": "code",
   "execution_count": null,
   "id": "7a72cd2c-a609-4a4f-add2-b776c569fb92",
   "metadata": {},
   "outputs": [],
   "source": []
  }
 ],
 "metadata": {
  "kernelspec": {
   "display_name": "Python 3 (ipykernel)",
   "language": "python",
   "name": "python3"
  },
  "language_info": {
   "codemirror_mode": {
    "name": "ipython",
    "version": 3
   },
   "file_extension": ".py",
   "mimetype": "text/x-python",
   "name": "python",
   "nbconvert_exporter": "python",
   "pygments_lexer": "ipython3",
   "version": "3.9.13"
  }
 },
 "nbformat": 4,
 "nbformat_minor": 5
}
