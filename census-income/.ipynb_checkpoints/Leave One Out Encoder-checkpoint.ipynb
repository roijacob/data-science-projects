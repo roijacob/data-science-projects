{
 "cells": [
  {
   "cell_type": "markdown",
   "id": "9c647bf2-1678-487d-8409-34e783797553",
   "metadata": {},
   "source": [
    "# Leave One Out Encoder\n",
    "---"
   ]
  },
  {
   "cell_type": "code",
   "execution_count": 1,
   "id": "17e028e9-4dd7-443b-8d14-1eb96e0b2ad5",
   "metadata": {},
   "outputs": [],
   "source": [
    "import pandas as pd\n",
    "from category_encoders import LeaveOneOutEncoder"
   ]
  },
  {
   "cell_type": "code",
   "execution_count": 2,
   "id": "85ea674a-6723-47c1-a078-8ff991975553",
   "metadata": {},
   "outputs": [],
   "source": [
    "# example dataset\n",
    "df = pd.DataFrame({\n",
    "    'item': ['apple', 'banana', 'banana', 'apple', 'banana', 'apple'],\n",
    "    'price': [1, 2, 2, 1, 2, 1],\n",
    "    'sold': [100, 200, 150, 50, 175, 75]\n",
    "})"
   ]
  },
  {
   "cell_type": "code",
   "execution_count": 3,
   "id": "c67530f9-e3be-4bb0-8a75-8b2069911e2d",
   "metadata": {},
   "outputs": [],
   "source": [
    "# initialize the encoder\n",
    "encoder = LeaveOneOutEncoder(cols=['item'])"
   ]
  },
  {
   "cell_type": "code",
   "execution_count": 4,
   "id": "2cff11ee-9bce-4538-8fc0-994347b6d393",
   "metadata": {},
   "outputs": [],
   "source": [
    "# fit and transform the dataset\n",
    "df_encoded = encoder.fit_transform(df, y=df['sold'])"
   ]
  },
  {
   "cell_type": "code",
   "execution_count": 5,
   "id": "29e8c7a1-4a92-4e12-82ba-8217e86142e0",
   "metadata": {},
   "outputs": [
    {
     "name": "stdout",
     "output_type": "stream",
     "text": [
      "    item  price  sold\n",
      "0   62.5      1   100\n",
      "1  162.5      2   200\n",
      "2  187.5      2   150\n",
      "3   87.5      1    50\n",
      "4  175.0      2   175\n",
      "5   75.0      1    75\n"
     ]
    }
   ],
   "source": [
    "print(df_encoded)"
   ]
  }
 ],
 "metadata": {
  "kernelspec": {
   "display_name": "Python 3 (ipykernel)",
   "language": "python",
   "name": "python3"
  },
  "language_info": {
   "codemirror_mode": {
    "name": "ipython",
    "version": 3
   },
   "file_extension": ".py",
   "mimetype": "text/x-python",
   "name": "python",
   "nbconvert_exporter": "python",
   "pygments_lexer": "ipython3",
   "version": "3.9.13"
  }
 },
 "nbformat": 4,
 "nbformat_minor": 5
}
