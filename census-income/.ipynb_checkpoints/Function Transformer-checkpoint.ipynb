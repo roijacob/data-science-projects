{
 "cells": [
  {
   "cell_type": "markdown",
   "id": "88373bff",
   "metadata": {},
   "source": [
    "# Census Income\n",
    "---"
   ]
  },
  {
   "cell_type": "markdown",
   "id": "347c1f62-0255-4267-bdc9-1e398d8b2fc6",
   "metadata": {
    "tags": []
   },
   "source": [
    "#### Import necessary libraries"
   ]
  },
  {
   "cell_type": "code",
   "execution_count": 1,
   "id": "30916d07",
   "metadata": {},
   "outputs": [],
   "source": [
    "import pandas as pd\n",
    "import numpy as np\n",
    "import seaborn as sns\n",
    "import matplotlib.pyplot as plt\n",
    "\n",
    "from sklearn import set_config\n",
    "set_config(transform_output=\"pandas\")"
   ]
  },
  {
   "cell_type": "markdown",
   "id": "f9c1cd4f-d5b6-4ab0-b859-a73f3ea4da08",
   "metadata": {
    "jp-MarkdownHeadingCollapsed": true,
    "tags": []
   },
   "source": [
    "#### Import the data file"
   ]
  },
  {
   "cell_type": "code",
   "execution_count": 2,
   "id": "3e5cae62",
   "metadata": {},
   "outputs": [
    {
     "data": {
      "text/html": [
       "<div>\n",
       "<style scoped>\n",
       "    .dataframe tbody tr th:only-of-type {\n",
       "        vertical-align: middle;\n",
       "    }\n",
       "\n",
       "    .dataframe tbody tr th {\n",
       "        vertical-align: top;\n",
       "    }\n",
       "\n",
       "    .dataframe thead th {\n",
       "        text-align: right;\n",
       "    }\n",
       "</style>\n",
       "<table border=\"1\" class=\"dataframe\">\n",
       "  <thead>\n",
       "    <tr style=\"text-align: right;\">\n",
       "      <th></th>\n",
       "      <th>age</th>\n",
       "      <th>workclass</th>\n",
       "      <th>fnlwgt</th>\n",
       "      <th>education</th>\n",
       "      <th>education.num</th>\n",
       "      <th>marital.status</th>\n",
       "      <th>occupation</th>\n",
       "      <th>relationship</th>\n",
       "      <th>race</th>\n",
       "      <th>sex</th>\n",
       "      <th>capital.gain</th>\n",
       "      <th>capital.loss</th>\n",
       "      <th>hours.per.week</th>\n",
       "      <th>native.country</th>\n",
       "      <th>income</th>\n",
       "    </tr>\n",
       "  </thead>\n",
       "  <tbody>\n",
       "    <tr>\n",
       "      <th>0</th>\n",
       "      <td>90</td>\n",
       "      <td>?</td>\n",
       "      <td>77053</td>\n",
       "      <td>HS-grad</td>\n",
       "      <td>9</td>\n",
       "      <td>Widowed</td>\n",
       "      <td>?</td>\n",
       "      <td>Not-in-family</td>\n",
       "      <td>White</td>\n",
       "      <td>Female</td>\n",
       "      <td>0</td>\n",
       "      <td>4356</td>\n",
       "      <td>40</td>\n",
       "      <td>United-States</td>\n",
       "      <td>&lt;=50K</td>\n",
       "    </tr>\n",
       "    <tr>\n",
       "      <th>1</th>\n",
       "      <td>82</td>\n",
       "      <td>Private</td>\n",
       "      <td>132870</td>\n",
       "      <td>HS-grad</td>\n",
       "      <td>9</td>\n",
       "      <td>Widowed</td>\n",
       "      <td>Exec-managerial</td>\n",
       "      <td>Not-in-family</td>\n",
       "      <td>White</td>\n",
       "      <td>Female</td>\n",
       "      <td>0</td>\n",
       "      <td>4356</td>\n",
       "      <td>18</td>\n",
       "      <td>United-States</td>\n",
       "      <td>&lt;=50K</td>\n",
       "    </tr>\n",
       "    <tr>\n",
       "      <th>2</th>\n",
       "      <td>66</td>\n",
       "      <td>?</td>\n",
       "      <td>186061</td>\n",
       "      <td>Some-college</td>\n",
       "      <td>10</td>\n",
       "      <td>Widowed</td>\n",
       "      <td>?</td>\n",
       "      <td>Unmarried</td>\n",
       "      <td>Black</td>\n",
       "      <td>Female</td>\n",
       "      <td>0</td>\n",
       "      <td>4356</td>\n",
       "      <td>40</td>\n",
       "      <td>United-States</td>\n",
       "      <td>&lt;=50K</td>\n",
       "    </tr>\n",
       "    <tr>\n",
       "      <th>3</th>\n",
       "      <td>54</td>\n",
       "      <td>Private</td>\n",
       "      <td>140359</td>\n",
       "      <td>7th-8th</td>\n",
       "      <td>4</td>\n",
       "      <td>Divorced</td>\n",
       "      <td>Machine-op-inspct</td>\n",
       "      <td>Unmarried</td>\n",
       "      <td>White</td>\n",
       "      <td>Female</td>\n",
       "      <td>0</td>\n",
       "      <td>3900</td>\n",
       "      <td>40</td>\n",
       "      <td>United-States</td>\n",
       "      <td>&lt;=50K</td>\n",
       "    </tr>\n",
       "    <tr>\n",
       "      <th>4</th>\n",
       "      <td>41</td>\n",
       "      <td>Private</td>\n",
       "      <td>264663</td>\n",
       "      <td>Some-college</td>\n",
       "      <td>10</td>\n",
       "      <td>Separated</td>\n",
       "      <td>Prof-specialty</td>\n",
       "      <td>Own-child</td>\n",
       "      <td>White</td>\n",
       "      <td>Female</td>\n",
       "      <td>0</td>\n",
       "      <td>3900</td>\n",
       "      <td>40</td>\n",
       "      <td>United-States</td>\n",
       "      <td>&lt;=50K</td>\n",
       "    </tr>\n",
       "  </tbody>\n",
       "</table>\n",
       "</div>"
      ],
      "text/plain": [
       "   age workclass  fnlwgt     education  education.num marital.status  \\\n",
       "0   90         ?   77053       HS-grad              9        Widowed   \n",
       "1   82   Private  132870       HS-grad              9        Widowed   \n",
       "2   66         ?  186061  Some-college             10        Widowed   \n",
       "3   54   Private  140359       7th-8th              4       Divorced   \n",
       "4   41   Private  264663  Some-college             10      Separated   \n",
       "\n",
       "          occupation   relationship   race     sex  capital.gain  \\\n",
       "0                  ?  Not-in-family  White  Female             0   \n",
       "1    Exec-managerial  Not-in-family  White  Female             0   \n",
       "2                  ?      Unmarried  Black  Female             0   \n",
       "3  Machine-op-inspct      Unmarried  White  Female             0   \n",
       "4     Prof-specialty      Own-child  White  Female             0   \n",
       "\n",
       "   capital.loss  hours.per.week native.country income  \n",
       "0          4356              40  United-States  <=50K  \n",
       "1          4356              18  United-States  <=50K  \n",
       "2          4356              40  United-States  <=50K  \n",
       "3          3900              40  United-States  <=50K  \n",
       "4          3900              40  United-States  <=50K  "
      ]
     },
     "execution_count": 2,
     "metadata": {},
     "output_type": "execute_result"
    }
   ],
   "source": [
    "raw_df = pd.read_csv('files/datasets/adult.csv')\n",
    "raw_df.head()"
   ]
  },
  {
   "cell_type": "markdown",
   "id": "6b438453-1ac3-4d2b-9acc-fd44c295057f",
   "metadata": {},
   "source": [
    "Because values from the CSV file in Kaggle uses `?` as null values, we will replace those question marks with a NaN. "
   ]
  },
  {
   "cell_type": "code",
   "execution_count": 3,
   "id": "467375a5-18a1-4c9a-a9b1-a6422e9988f3",
   "metadata": {},
   "outputs": [],
   "source": [
    "raw_df.replace(to_replace='?', value=np.nan, inplace=True)"
   ]
  },
  {
   "cell_type": "code",
   "execution_count": 4,
   "id": "ea46437b-c99d-4ade-91cc-32ac05f3194e",
   "metadata": {},
   "outputs": [],
   "source": [
    "raw_df.replace(to_replace='<=50K', value=0, inplace=True)\n",
    "raw_df.replace(to_replace='>50K', value=1, inplace=True)"
   ]
  },
  {
   "cell_type": "markdown",
   "id": "be80ae17-2b3a-452a-b01e-037147e6b6a7",
   "metadata": {
    "jp-MarkdownHeadingCollapsed": true,
    "tags": []
   },
   "source": [
    "#### View information about the dataframe"
   ]
  },
  {
   "cell_type": "code",
   "execution_count": 5,
   "id": "c9204107",
   "metadata": {},
   "outputs": [
    {
     "name": "stdout",
     "output_type": "stream",
     "text": [
      "<class 'pandas.core.frame.DataFrame'>\n",
      "RangeIndex: 32561 entries, 0 to 32560\n",
      "Data columns (total 15 columns):\n",
      " #   Column          Non-Null Count  Dtype \n",
      "---  ------          --------------  ----- \n",
      " 0   age             32561 non-null  int64 \n",
      " 1   workclass       30725 non-null  object\n",
      " 2   fnlwgt          32561 non-null  int64 \n",
      " 3   education       32561 non-null  object\n",
      " 4   education.num   32561 non-null  int64 \n",
      " 5   marital.status  32561 non-null  object\n",
      " 6   occupation      30718 non-null  object\n",
      " 7   relationship    32561 non-null  object\n",
      " 8   race            32561 non-null  object\n",
      " 9   sex             32561 non-null  object\n",
      " 10  capital.gain    32561 non-null  int64 \n",
      " 11  capital.loss    32561 non-null  int64 \n",
      " 12  hours.per.week  32561 non-null  int64 \n",
      " 13  native.country  31978 non-null  object\n",
      " 14  income          32561 non-null  int64 \n",
      "dtypes: int64(7), object(8)\n",
      "memory usage: 3.7+ MB\n"
     ]
    }
   ],
   "source": [
    "raw_df.info()"
   ]
  },
  {
   "cell_type": "code",
   "execution_count": 6,
   "id": "58a6a3d9-a17f-4ebc-809a-69b1c05461ac",
   "metadata": {
    "tags": []
   },
   "outputs": [
    {
     "data": {
      "text/plain": [
       "age                  0\n",
       "workclass         1836\n",
       "fnlwgt               0\n",
       "education            0\n",
       "education.num        0\n",
       "marital.status       0\n",
       "occupation        1843\n",
       "relationship         0\n",
       "race                 0\n",
       "sex                  0\n",
       "capital.gain         0\n",
       "capital.loss         0\n",
       "hours.per.week       0\n",
       "native.country     583\n",
       "income               0\n",
       "dtype: int64"
      ]
     },
     "execution_count": 6,
     "metadata": {},
     "output_type": "execute_result"
    }
   ],
   "source": [
    "raw_df.isnull().sum()"
   ]
  },
  {
   "cell_type": "markdown",
   "id": "3b5de6c4-6d7e-4f85-9655-0efb2b42c518",
   "metadata": {
    "jp-MarkdownHeadingCollapsed": true,
    "tags": []
   },
   "source": [
    "#### Split the data into target and features"
   ]
  },
  {
   "cell_type": "code",
   "execution_count": 7,
   "id": "07f74891-ae8a-4d02-b446-f0e2b08c07ea",
   "metadata": {},
   "outputs": [],
   "source": [
    "def xy_split(dataframe, y_column):\n",
    "    features = dataframe.loc[:, dataframe.columns != y_column]\n",
    "    target = dataframe[y_column]\n",
    "    return features, target\n",
    "\n",
    "X, y = xy_split(raw_df, 'income')"
   ]
  },
  {
   "cell_type": "markdown",
   "id": "1d49ea7c-f2d8-4cc2-a2e2-f5d95dd7832c",
   "metadata": {},
   "source": [
    "##### Create training and testing sets"
   ]
  },
  {
   "cell_type": "code",
   "execution_count": 8,
   "id": "5b4d5313-fc82-4cc4-b1f5-42eb526deeb9",
   "metadata": {},
   "outputs": [],
   "source": [
    "from sklearn.model_selection import train_test_split\n",
    "X_train, X_test, y_train, y_test = train_test_split(X, y, test_size=0.2, random_state=42)"
   ]
  },
  {
   "cell_type": "markdown",
   "id": "0cba0097-a417-441d-a301-d6163b5dac89",
   "metadata": {},
   "source": [
    "##### Create a copy of the original dataset"
   ]
  },
  {
   "cell_type": "code",
   "execution_count": 9,
   "id": "122cef88-0235-4a4e-82f1-925512dfd5b6",
   "metadata": {},
   "outputs": [],
   "source": [
    "df = X_train.copy()"
   ]
  },
  {
   "cell_type": "markdown",
   "id": "eb503f91-6adc-4da8-85ca-662804eb4e01",
   "metadata": {
    "tags": []
   },
   "source": [
    "---\n",
    "\n",
    "# Data Preparation"
   ]
  },
  {
   "cell_type": "markdown",
   "id": "2c6999da-992e-4261-96a2-e7a74c7aaef0",
   "metadata": {
    "tags": []
   },
   "source": [
    "#### Determine which columns have low cardinality\n",
    "We will start fixing these columns first"
   ]
  },
  {
   "cell_type": "code",
   "execution_count": 10,
   "id": "ba7f2714-2b18-4350-9aea-d8544f038dc6",
   "metadata": {},
   "outputs": [
    {
     "name": "stdout",
     "output_type": "stream",
     "text": [
      "8 - workclass\n",
      "7 - marital.status\n",
      "6 - relationship\n",
      "5 - race\n",
      "2 - sex\n"
     ]
    }
   ],
   "source": [
    "def ohe_eligibility(datafame):\n",
    "    for i in datafame.columns:\n",
    "        if len(datafame[i].value_counts()) < 10:\n",
    "            print(f'{len(datafame[i].value_counts())} - {i}')\n",
    "        else:\n",
    "            pass\n",
    "        \n",
    "ohe_eligibility(df)"
   ]
  },
  {
   "cell_type": "markdown",
   "id": "0291af6b-e4ca-485f-a4fc-982148652dba",
   "metadata": {
    "tags": []
   },
   "source": [
    "----\n",
    "\n",
    "# Data Cleaning"
   ]
  },
  {
   "cell_type": "code",
   "execution_count": 11,
   "id": "b90ffbcb-f14c-418c-8b7b-ea85d108aa3a",
   "metadata": {
    "tags": []
   },
   "outputs": [],
   "source": [
    "import pandas as pd\n",
    "from sklearn.preprocessing import FunctionTransformer\n",
    "\n",
    "# Define a custom function to replace a value in a dataframe\n",
    "def replace_values(dataframe, column, replacements_dict):\n",
    "    dataframe[column] = dataframe[column].replace(replacements_dict)\n",
    "    return dataframe"
   ]
  },
  {
   "cell_type": "markdown",
   "id": "56f9f415-0b91-4303-99de-a33d9597d4ef",
   "metadata": {
    "tags": []
   },
   "source": [
    "### Fixing Marital Status column\n",
    "\n",
    "Reduce categories by merging different categories into one.\n",
    "\n",
    "Single: **Never Married**\n",
    "\n",
    "Break: **Divorced**, **Widowed**, **Separated**\n",
    "\n",
    "Married: **Married-civ-spouse**, **Married-spouse-absent**, **Married AF spouse**"
   ]
  },
  {
   "cell_type": "code",
   "execution_count": 12,
   "id": "fabbec6e-d186-4fd1-8463-e38eacb468ab",
   "metadata": {},
   "outputs": [],
   "source": [
    "replacements_dict = {\"Never-married\": \"single\", \"Divorced\": \"break\", \"Separated\": \"break\", \"Widowed\": \"break\", \n",
    "                     \"Married-civ-spouse\": \"married\", \"Married-spouse-absent\": \"married\", \"Married-AF-spouse\": \"married\"}\n",
    "\n",
    "replace_transformer = FunctionTransformer(replace_values, kw_args={'column': 'marital.status', 'replacements_dict': replacements_dict})\n",
    "\n",
    "# df_new = replace_transformer.transform(df)"
   ]
  },
  {
   "cell_type": "markdown",
   "id": "f1e006dc-6937-4119-8491-042bff0aa374",
   "metadata": {},
   "source": [
    "----"
   ]
  },
  {
   "cell_type": "markdown",
   "id": "335d2f9b-f4ce-4f0c-b9f7-4bf9511ca0b9",
   "metadata": {
    "tags": []
   },
   "source": [
    "### Fixing Workclass column"
   ]
  },
  {
   "cell_type": "markdown",
   "id": "94bf314c-914e-475c-b21d-b9009769a274",
   "metadata": {},
   "source": [
    "Reduce categories by merging different categories into one.\n",
    "\n",
    "P.Employed: **Private, Without-pay**\n",
    "\n",
    "S.Employed: **Self-emp-not-inc, Self-emp-inc**\n",
    "\n",
    "G.Employed: **Local-gov, State-gov, Federal-gov**\n",
    "\n",
    "Unemployed"
   ]
  },
  {
   "cell_type": "code",
   "execution_count": 13,
   "id": "72b177af-1f1c-4ce7-aa14-19fd3d5cab25",
   "metadata": {},
   "outputs": [],
   "source": [
    "replacements_dict_wc = {\"Private\": \"P.Employed\", \"Without-pay\": \"P.Employed\", \"Self-emp-not-inc\": \"S.Employed\", \n",
    "                        \"Self-emp-inc\": \"S.Employed\", \"Local-gov\": \"G.Employed\", \"State-gov\": \"G.Employed\", \n",
    "                        \"Federal-gov\": \"G.Employed\", \"Never-worked\": \"Unemployed\"}\n",
    "\n",
    "replace_transformer_wc = FunctionTransformer(replace_values, kw_args={'column': 'workclass', 'replacements_dict': replacements_dict_wc})\n",
    "\n",
    "# df_new = replace_transformer_wc.transform(df)"
   ]
  },
  {
   "cell_type": "markdown",
   "id": "c4433785-74b3-447f-b192-66b7a6fb1ff1",
   "metadata": {
    "tags": []
   },
   "source": [
    "### Fixing Relationship column (NA)"
   ]
  },
  {
   "cell_type": "markdown",
   "id": "afd74aaf-e825-4e7f-8cf3-2889312c1efe",
   "metadata": {},
   "source": [
    "Reduce categories by merging different categories into one.\n",
    "\n",
    "parent: **Husband, Wife**\n",
    "\n",
    "no_family: **Not-in-family, Own-child, Unmarried, Other-relative**"
   ]
  },
  {
   "cell_type": "code",
   "execution_count": 14,
   "id": "b73e044f-ee3a-4ac9-87a3-f0f458f96171",
   "metadata": {},
   "outputs": [],
   "source": [
    "replacements_dict_r = {\"Husband\": \"parent\", \"Wife\": \"parent\", \"Not-in-family\": \"no_family\", \n",
    "                       \"Own-child\": \"no_family\", \"Unmarried\": \"no_family\", \"Other-relative\": \"no_family\"}\n",
    "\n",
    "replace_transformer_r = FunctionTransformer(replace_values, kw_args={'column': 'relationship', 'replacements_dict': replacements_dict_r})\n",
    "\n",
    "# df_new = replace_transformer_r.transform(df)"
   ]
  },
  {
   "cell_type": "markdown",
   "id": "af7f68bd-338c-41de-97ac-451a79726aa4",
   "metadata": {},
   "source": [
    "---"
   ]
  },
  {
   "cell_type": "markdown",
   "id": "b6f0c258-7edb-4b8f-98c2-1e31ce590f1a",
   "metadata": {
    "tags": []
   },
   "source": [
    "### Fixing Occupation column"
   ]
  },
  {
   "cell_type": "markdown",
   "id": "54912d54-4f99-4129-86fb-d552fe8329eb",
   "metadata": {
    "tags": []
   },
   "source": [
    "#### Domain Knowledge: http://www.socsci.uci.edu/~mhuffman/occ_codes.pdf\n",
    "\n",
    "Reduce categories by merging different categories into one.\n",
    "\n",
    "managerial/professional: **Prof-specialty, Exec-managerial**\n",
    "\n",
    "technical/sales/administrative: **Adm-clerical, Sales, Tech-support**\n",
    "\n",
    "service: **Protective-serv, Priv-house-serv**\n",
    "\n",
    "operator/fabricator/laborer: **Machine-op-inspct, Transport-moving, Handlers-cleaners**\n",
    "\n",
    "farming/forestry/fishing: **Farming-fishing** \n",
    "\n",
    "precision/production/craft/repair: **Craft-repair**\n",
    "\n",
    "military: **Armed-Forces**"
   ]
  },
  {
   "cell_type": "code",
   "execution_count": 15,
   "id": "1bda4e7a-ec31-441f-bb55-848676fa35ed",
   "metadata": {},
   "outputs": [],
   "source": [
    "replacements_dict_o = {\"Prof-specialty\": \"managerial/professional\", \"Exec-managerial\": \"managerial/professional\", \"Adm-clerical\": \"technical/sales/administrative\", \"Sales\": \n",
    "                       \"technical/sales/administrative\", \"Tech-support\": \"technical/sales/administrative\", \"Protective-serv\": \"service\", \"Priv-house-serv\": \"service\",\n",
    "                       \"Machine-op-inspct\": \"operator/fabricator/laborer\", \"Transport-moving\": \"operator/fabricator/laborer\", \"Handlers-cleaners\": \"operator/fabricator/laborer\"}\n",
    "\n",
    "replace_transformer_o = FunctionTransformer(replace_values, kw_args={'column': 'remainder__occupation', 'replacements_dict': replacements_dict_o})\n",
    "\n",
    "# df_new = replace_transformer_o.transform(df)"
   ]
  },
  {
   "cell_type": "markdown",
   "id": "485fe65f-5699-45d6-a8cf-5a9b3ea05f32",
   "metadata": {},
   "source": [
    "---"
   ]
  },
  {
   "cell_type": "markdown",
   "id": "6b43ea01-48dc-4098-a718-470e9abc6cbb",
   "metadata": {
    "tags": []
   },
   "source": [
    "### Apply function transformers as for loop"
   ]
  },
  {
   "cell_type": "code",
   "execution_count": 16,
   "id": "93644645-4ac9-42c6-b8be-6a575c191b57",
   "metadata": {},
   "outputs": [],
   "source": [
    "transformers = [(replace_transformer_r, 'relationship', replacements_dict_r),    \n",
    "                (replace_transformer_wc, 'workclass', replacements_dict_wc),    \n",
    "                (replace_transformer, 'marital.status', replacements_dict)]\n",
    "\n",
    "for transformer, column, replacements_dict in transformers:\n",
    "    replace_transformer = FunctionTransformer(replace_values, kw_args={'column': column, 'replacements_dict': replacements_dict})"
   ]
  },
  {
   "cell_type": "code",
   "execution_count": 17,
   "id": "8a77d0c0-6d94-4737-a3e7-62cfae50a34c",
   "metadata": {},
   "outputs": [
    {
     "data": {
      "text/html": [
       "<div>\n",
       "<style scoped>\n",
       "    .dataframe tbody tr th:only-of-type {\n",
       "        vertical-align: middle;\n",
       "    }\n",
       "\n",
       "    .dataframe tbody tr th {\n",
       "        vertical-align: top;\n",
       "    }\n",
       "\n",
       "    .dataframe thead th {\n",
       "        text-align: right;\n",
       "    }\n",
       "</style>\n",
       "<table border=\"1\" class=\"dataframe\">\n",
       "  <thead>\n",
       "    <tr style=\"text-align: right;\">\n",
       "      <th></th>\n",
       "      <th>age</th>\n",
       "      <th>workclass</th>\n",
       "      <th>fnlwgt</th>\n",
       "      <th>education</th>\n",
       "      <th>education.num</th>\n",
       "      <th>marital.status</th>\n",
       "      <th>occupation</th>\n",
       "      <th>relationship</th>\n",
       "      <th>race</th>\n",
       "      <th>sex</th>\n",
       "      <th>capital.gain</th>\n",
       "      <th>capital.loss</th>\n",
       "      <th>hours.per.week</th>\n",
       "      <th>native.country</th>\n",
       "      <th>income</th>\n",
       "    </tr>\n",
       "  </thead>\n",
       "  <tbody>\n",
       "    <tr>\n",
       "      <th>0</th>\n",
       "      <td>90</td>\n",
       "      <td>NaN</td>\n",
       "      <td>77053</td>\n",
       "      <td>HS-grad</td>\n",
       "      <td>9</td>\n",
       "      <td>Widowed</td>\n",
       "      <td>NaN</td>\n",
       "      <td>Not-in-family</td>\n",
       "      <td>White</td>\n",
       "      <td>Female</td>\n",
       "      <td>0</td>\n",
       "      <td>4356</td>\n",
       "      <td>40</td>\n",
       "      <td>United-States</td>\n",
       "      <td>0</td>\n",
       "    </tr>\n",
       "    <tr>\n",
       "      <th>1</th>\n",
       "      <td>82</td>\n",
       "      <td>Private</td>\n",
       "      <td>132870</td>\n",
       "      <td>HS-grad</td>\n",
       "      <td>9</td>\n",
       "      <td>Widowed</td>\n",
       "      <td>Exec-managerial</td>\n",
       "      <td>Not-in-family</td>\n",
       "      <td>White</td>\n",
       "      <td>Female</td>\n",
       "      <td>0</td>\n",
       "      <td>4356</td>\n",
       "      <td>18</td>\n",
       "      <td>United-States</td>\n",
       "      <td>0</td>\n",
       "    </tr>\n",
       "    <tr>\n",
       "      <th>2</th>\n",
       "      <td>66</td>\n",
       "      <td>NaN</td>\n",
       "      <td>186061</td>\n",
       "      <td>Some-college</td>\n",
       "      <td>10</td>\n",
       "      <td>Widowed</td>\n",
       "      <td>NaN</td>\n",
       "      <td>Unmarried</td>\n",
       "      <td>Black</td>\n",
       "      <td>Female</td>\n",
       "      <td>0</td>\n",
       "      <td>4356</td>\n",
       "      <td>40</td>\n",
       "      <td>United-States</td>\n",
       "      <td>0</td>\n",
       "    </tr>\n",
       "    <tr>\n",
       "      <th>3</th>\n",
       "      <td>54</td>\n",
       "      <td>Private</td>\n",
       "      <td>140359</td>\n",
       "      <td>7th-8th</td>\n",
       "      <td>4</td>\n",
       "      <td>Divorced</td>\n",
       "      <td>Machine-op-inspct</td>\n",
       "      <td>Unmarried</td>\n",
       "      <td>White</td>\n",
       "      <td>Female</td>\n",
       "      <td>0</td>\n",
       "      <td>3900</td>\n",
       "      <td>40</td>\n",
       "      <td>United-States</td>\n",
       "      <td>0</td>\n",
       "    </tr>\n",
       "    <tr>\n",
       "      <th>4</th>\n",
       "      <td>41</td>\n",
       "      <td>Private</td>\n",
       "      <td>264663</td>\n",
       "      <td>Some-college</td>\n",
       "      <td>10</td>\n",
       "      <td>Separated</td>\n",
       "      <td>Prof-specialty</td>\n",
       "      <td>Own-child</td>\n",
       "      <td>White</td>\n",
       "      <td>Female</td>\n",
       "      <td>0</td>\n",
       "      <td>3900</td>\n",
       "      <td>40</td>\n",
       "      <td>United-States</td>\n",
       "      <td>0</td>\n",
       "    </tr>\n",
       "  </tbody>\n",
       "</table>\n",
       "</div>"
      ],
      "text/plain": [
       "   age workclass  fnlwgt     education  education.num marital.status  \\\n",
       "0   90       NaN   77053       HS-grad              9        Widowed   \n",
       "1   82   Private  132870       HS-grad              9        Widowed   \n",
       "2   66       NaN  186061  Some-college             10        Widowed   \n",
       "3   54   Private  140359       7th-8th              4       Divorced   \n",
       "4   41   Private  264663  Some-college             10      Separated   \n",
       "\n",
       "          occupation   relationship   race     sex  capital.gain  \\\n",
       "0                NaN  Not-in-family  White  Female             0   \n",
       "1    Exec-managerial  Not-in-family  White  Female             0   \n",
       "2                NaN      Unmarried  Black  Female             0   \n",
       "3  Machine-op-inspct      Unmarried  White  Female             0   \n",
       "4     Prof-specialty      Own-child  White  Female             0   \n",
       "\n",
       "   capital.loss  hours.per.week native.country  income  \n",
       "0          4356              40  United-States       0  \n",
       "1          4356              18  United-States       0  \n",
       "2          4356              40  United-States       0  \n",
       "3          3900              40  United-States       0  \n",
       "4          3900              40  United-States       0  "
      ]
     },
     "execution_count": 17,
     "metadata": {},
     "output_type": "execute_result"
    }
   ],
   "source": [
    "# Data Before\n",
    "\n",
    "raw_df.head()"
   ]
  },
  {
   "cell_type": "code",
   "execution_count": 18,
   "id": "fc1b08c1-7447-4fa7-a4d1-60c6b0cec174",
   "metadata": {},
   "outputs": [],
   "source": [
    "df_transformed = replace_transformer.fit_transform(raw_df)"
   ]
  },
  {
   "cell_type": "code",
   "execution_count": 19,
   "id": "16c1fb38-3d12-4a97-bbd9-0bdc5a0f1ee7",
   "metadata": {},
   "outputs": [
    {
     "data": {
      "text/html": [
       "<div>\n",
       "<style scoped>\n",
       "    .dataframe tbody tr th:only-of-type {\n",
       "        vertical-align: middle;\n",
       "    }\n",
       "\n",
       "    .dataframe tbody tr th {\n",
       "        vertical-align: top;\n",
       "    }\n",
       "\n",
       "    .dataframe thead th {\n",
       "        text-align: right;\n",
       "    }\n",
       "</style>\n",
       "<table border=\"1\" class=\"dataframe\">\n",
       "  <thead>\n",
       "    <tr style=\"text-align: right;\">\n",
       "      <th></th>\n",
       "      <th>age</th>\n",
       "      <th>workclass</th>\n",
       "      <th>fnlwgt</th>\n",
       "      <th>education</th>\n",
       "      <th>education.num</th>\n",
       "      <th>marital.status</th>\n",
       "      <th>occupation</th>\n",
       "      <th>relationship</th>\n",
       "      <th>race</th>\n",
       "      <th>sex</th>\n",
       "      <th>capital.gain</th>\n",
       "      <th>capital.loss</th>\n",
       "      <th>hours.per.week</th>\n",
       "      <th>native.country</th>\n",
       "      <th>income</th>\n",
       "    </tr>\n",
       "  </thead>\n",
       "  <tbody>\n",
       "    <tr>\n",
       "      <th>0</th>\n",
       "      <td>90</td>\n",
       "      <td>NaN</td>\n",
       "      <td>77053</td>\n",
       "      <td>HS-grad</td>\n",
       "      <td>9</td>\n",
       "      <td>break</td>\n",
       "      <td>NaN</td>\n",
       "      <td>Not-in-family</td>\n",
       "      <td>White</td>\n",
       "      <td>Female</td>\n",
       "      <td>0</td>\n",
       "      <td>4356</td>\n",
       "      <td>40</td>\n",
       "      <td>United-States</td>\n",
       "      <td>0</td>\n",
       "    </tr>\n",
       "    <tr>\n",
       "      <th>1</th>\n",
       "      <td>82</td>\n",
       "      <td>Private</td>\n",
       "      <td>132870</td>\n",
       "      <td>HS-grad</td>\n",
       "      <td>9</td>\n",
       "      <td>break</td>\n",
       "      <td>Exec-managerial</td>\n",
       "      <td>Not-in-family</td>\n",
       "      <td>White</td>\n",
       "      <td>Female</td>\n",
       "      <td>0</td>\n",
       "      <td>4356</td>\n",
       "      <td>18</td>\n",
       "      <td>United-States</td>\n",
       "      <td>0</td>\n",
       "    </tr>\n",
       "    <tr>\n",
       "      <th>2</th>\n",
       "      <td>66</td>\n",
       "      <td>NaN</td>\n",
       "      <td>186061</td>\n",
       "      <td>Some-college</td>\n",
       "      <td>10</td>\n",
       "      <td>break</td>\n",
       "      <td>NaN</td>\n",
       "      <td>Unmarried</td>\n",
       "      <td>Black</td>\n",
       "      <td>Female</td>\n",
       "      <td>0</td>\n",
       "      <td>4356</td>\n",
       "      <td>40</td>\n",
       "      <td>United-States</td>\n",
       "      <td>0</td>\n",
       "    </tr>\n",
       "    <tr>\n",
       "      <th>3</th>\n",
       "      <td>54</td>\n",
       "      <td>Private</td>\n",
       "      <td>140359</td>\n",
       "      <td>7th-8th</td>\n",
       "      <td>4</td>\n",
       "      <td>break</td>\n",
       "      <td>Machine-op-inspct</td>\n",
       "      <td>Unmarried</td>\n",
       "      <td>White</td>\n",
       "      <td>Female</td>\n",
       "      <td>0</td>\n",
       "      <td>3900</td>\n",
       "      <td>40</td>\n",
       "      <td>United-States</td>\n",
       "      <td>0</td>\n",
       "    </tr>\n",
       "    <tr>\n",
       "      <th>4</th>\n",
       "      <td>41</td>\n",
       "      <td>Private</td>\n",
       "      <td>264663</td>\n",
       "      <td>Some-college</td>\n",
       "      <td>10</td>\n",
       "      <td>break</td>\n",
       "      <td>Prof-specialty</td>\n",
       "      <td>Own-child</td>\n",
       "      <td>White</td>\n",
       "      <td>Female</td>\n",
       "      <td>0</td>\n",
       "      <td>3900</td>\n",
       "      <td>40</td>\n",
       "      <td>United-States</td>\n",
       "      <td>0</td>\n",
       "    </tr>\n",
       "  </tbody>\n",
       "</table>\n",
       "</div>"
      ],
      "text/plain": [
       "   age workclass  fnlwgt     education  education.num marital.status  \\\n",
       "0   90       NaN   77053       HS-grad              9          break   \n",
       "1   82   Private  132870       HS-grad              9          break   \n",
       "2   66       NaN  186061  Some-college             10          break   \n",
       "3   54   Private  140359       7th-8th              4          break   \n",
       "4   41   Private  264663  Some-college             10          break   \n",
       "\n",
       "          occupation   relationship   race     sex  capital.gain  \\\n",
       "0                NaN  Not-in-family  White  Female             0   \n",
       "1    Exec-managerial  Not-in-family  White  Female             0   \n",
       "2                NaN      Unmarried  Black  Female             0   \n",
       "3  Machine-op-inspct      Unmarried  White  Female             0   \n",
       "4     Prof-specialty      Own-child  White  Female             0   \n",
       "\n",
       "   capital.loss  hours.per.week native.country  income  \n",
       "0          4356              40  United-States       0  \n",
       "1          4356              18  United-States       0  \n",
       "2          4356              40  United-States       0  \n",
       "3          3900              40  United-States       0  \n",
       "4          3900              40  United-States       0  "
      ]
     },
     "execution_count": 19,
     "metadata": {},
     "output_type": "execute_result"
    }
   ],
   "source": [
    "# Data after, it works\n",
    "\n",
    "df_transformed.head()"
   ]
  },
  {
   "cell_type": "markdown",
   "id": "4cb61fc2-09a6-45b9-814e-57b8d3628470",
   "metadata": {},
   "source": [
    "* [ ] Age\n",
    "* [ ] workclass\n",
    "* [ ] fnlwght\n",
    "* [ ] education\n",
    "* [ ] education.num\n",
    "* [X] martial.status\n",
    "* [ ] occupation\n",
    "* [X] relationship\n",
    "* [ ] race\n",
    "* [X] sex\n",
    "* [ ] occupation\n",
    "* [ ] capital.gain\n",
    "* [ ] capital.loss\n",
    "* [ ] hours.per.week\n",
    "* [ ] native.country\n",
    "* [ ] income"
   ]
  },
  {
   "cell_type": "markdown",
   "id": "1eb81044-ba20-40ef-bcc0-7feeefdcea7f",
   "metadata": {},
   "source": [
    "### Try\n",
    "\n",
    "Idiota, kung titignan mo yung underlying pattern kung bakit wala yung occupation, you can see na halos wala din yung workclass kapag NA yung occupation. So it is valid na tanggalin nalang natin yung rows na wala both sa workclass and occupation.\n",
    "\n",
    "\n",
    "Lesson Learned: Before imputing missing values, determine the type of missing data"
   ]
  }
 ],
 "metadata": {
  "kernelspec": {
   "display_name": "Python 3 (ipykernel)",
   "language": "python",
   "name": "python3"
  },
  "language_info": {
   "codemirror_mode": {
    "name": "ipython",
    "version": 3
   },
   "file_extension": ".py",
   "mimetype": "text/x-python",
   "name": "python",
   "nbconvert_exporter": "python",
   "pygments_lexer": "ipython3",
   "version": "3.11.2"
  }
 },
 "nbformat": 4,
 "nbformat_minor": 5
}
