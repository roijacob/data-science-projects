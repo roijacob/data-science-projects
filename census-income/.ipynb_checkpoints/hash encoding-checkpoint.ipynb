{
 "cells": [
  {
   "cell_type": "markdown",
   "id": "4d887a17-ec2b-4aa7-87a3-85de2735d31e",
   "metadata": {},
   "source": [
    "# Mean/Target Encoding\n",
    "---"
   ]
  },
  {
   "cell_type": "markdown",
   "id": "5e7e63b4-cecf-4bbf-bc23-9cb4d68d3075",
   "metadata": {},
   "source": [
    "#### Import the necessary libraries"
   ]
  },
  {
   "cell_type": "code",
   "execution_count": 1,
   "id": "7779a7a1-e0e5-4886-bfb5-43fa882d04e7",
   "metadata": {},
   "outputs": [],
   "source": [
    "import pandas as pd\n",
    "from category_encoders import TargetEncoder"
   ]
  },
  {
   "cell_type": "markdown",
   "id": "d4dd6cdf-4163-4780-968d-8595ce6c351d",
   "metadata": {},
   "source": [
    "#### Create a sample dataset"
   ]
  },
  {
   "cell_type": "code",
   "execution_count": 2,
   "id": "b3fa1238-6bc8-4ff7-aa6b-8f6c7b2b7f81",
   "metadata": {},
   "outputs": [
    {
     "data": {
      "text/html": [
       "<div>\n",
       "<style scoped>\n",
       "    .dataframe tbody tr th:only-of-type {\n",
       "        vertical-align: middle;\n",
       "    }\n",
       "\n",
       "    .dataframe tbody tr th {\n",
       "        vertical-align: top;\n",
       "    }\n",
       "\n",
       "    .dataframe thead th {\n",
       "        text-align: right;\n",
       "    }\n",
       "</style>\n",
       "<table border=\"1\" class=\"dataframe\">\n",
       "  <thead>\n",
       "    <tr style=\"text-align: right;\">\n",
       "      <th></th>\n",
       "      <th>color</th>\n",
       "      <th>size</th>\n",
       "      <th>price</th>\n",
       "    </tr>\n",
       "  </thead>\n",
       "  <tbody>\n",
       "    <tr>\n",
       "      <th>0</th>\n",
       "      <td>red</td>\n",
       "      <td>small</td>\n",
       "      <td>10</td>\n",
       "    </tr>\n",
       "    <tr>\n",
       "      <th>1</th>\n",
       "      <td>green</td>\n",
       "      <td>medium</td>\n",
       "      <td>12</td>\n",
       "    </tr>\n",
       "    <tr>\n",
       "      <th>2</th>\n",
       "      <td>blue</td>\n",
       "      <td>large</td>\n",
       "      <td>15</td>\n",
       "    </tr>\n",
       "    <tr>\n",
       "      <th>3</th>\n",
       "      <td>red</td>\n",
       "      <td>medium</td>\n",
       "      <td>14</td>\n",
       "    </tr>\n",
       "    <tr>\n",
       "      <th>4</th>\n",
       "      <td>green</td>\n",
       "      <td>large</td>\n",
       "      <td>16</td>\n",
       "    </tr>\n",
       "  </tbody>\n",
       "</table>\n",
       "</div>"
      ],
      "text/plain": [
       "   color    size  price\n",
       "0    red   small     10\n",
       "1  green  medium     12\n",
       "2   blue   large     15\n",
       "3    red  medium     14\n",
       "4  green   large     16"
      ]
     },
     "execution_count": 2,
     "metadata": {},
     "output_type": "execute_result"
    }
   ],
   "source": [
    "data = {'color': ['red', 'green', 'blue', 'red', 'green'],\n",
    "        'size': ['small', 'medium', 'large', 'medium', 'large'],\n",
    "        'price': [10, 12, 15, 14, 16]}\n",
    "df = pd.DataFrame(data)\n",
    "df"
   ]
  },
  {
   "cell_type": "code",
   "execution_count": 3,
   "id": "cd9a54db-4681-4565-a09e-d805153375f9",
   "metadata": {},
   "outputs": [
    {
     "data": {
      "text/plain": [
       "19.0"
      ]
     },
     "execution_count": 3,
     "metadata": {},
     "output_type": "execute_result"
    }
   ],
   "source": [
    "12+14 / 2"
   ]
  },
  {
   "cell_type": "markdown",
   "id": "3d817735-c0ac-4996-8ae9-1323aa645d7f",
   "metadata": {},
   "source": [
    "Let's say for example that the **features** are the `color` and `size` and the **target** is the `price`."
   ]
  },
  {
   "cell_type": "markdown",
   "id": "50a82146-1178-42db-b862-ca1ba2403d8e",
   "metadata": {},
   "source": [
    "Now we will compute for the mean price of red colors:"
   ]
  },
  {
   "cell_type": "code",
   "execution_count": 4,
   "id": "b4442567-0275-4420-a647-d8de69351811",
   "metadata": {},
   "outputs": [
    {
     "data": {
      "text/plain": [
       "12.0"
      ]
     },
     "execution_count": 4,
     "metadata": {},
     "output_type": "execute_result"
    }
   ],
   "source": [
    "# Mean price of red colors\n",
    "df.loc[df['color'] == 'red']['price'].mean()"
   ]
  },
  {
   "cell_type": "markdown",
   "id": "4b29c566-4927-4f82-95f5-0c15f5c72f5f",
   "metadata": {},
   "source": [
    "To double check, compute the mean price of red colors manually just by looking the data:"
   ]
  },
  {
   "cell_type": "code",
   "execution_count": 5,
   "id": "ccdf917c-f6f9-4f3f-94bc-2af018cc5d53",
   "metadata": {},
   "outputs": [
    {
     "data": {
      "text/plain": [
       "12.0"
      ]
     },
     "execution_count": 5,
     "metadata": {},
     "output_type": "execute_result"
    }
   ],
   "source": [
    "(10 + 14) / 2"
   ]
  },
  {
   "cell_type": "markdown",
   "id": "34d2277e-ce36-4615-9f3f-0e0d35253a46",
   "metadata": {},
   "source": [
    "---\n",
    "\n",
    "# Performing the encoding\n",
    "Initialize the TargetEncoder"
   ]
  },
  {
   "cell_type": "code",
   "execution_count": 6,
   "id": "fe171483-3c1b-4b54-9752-a1c6cd94a351",
   "metadata": {},
   "outputs": [],
   "source": [
    "encoder = TargetEncoder(cols=['color', 'size'], return_df=True)"
   ]
  },
  {
   "cell_type": "markdown",
   "id": "ebeb0cbd-6d2d-401d-b41e-097df033774f",
   "metadata": {},
   "source": [
    "#### Fit the encoder on the dataset"
   ]
  },
  {
   "cell_type": "code",
   "execution_count": 7,
   "id": "f7be906d-bf02-4281-8226-b9cb0357a34b",
   "metadata": {},
   "outputs": [
    {
     "data": {
      "text/html": [
       "<style>#sk-container-id-1 {color: black;background-color: white;}#sk-container-id-1 pre{padding: 0;}#sk-container-id-1 div.sk-toggleable {background-color: white;}#sk-container-id-1 label.sk-toggleable__label {cursor: pointer;display: block;width: 100%;margin-bottom: 0;padding: 0.3em;box-sizing: border-box;text-align: center;}#sk-container-id-1 label.sk-toggleable__label-arrow:before {content: \"▸\";float: left;margin-right: 0.25em;color: #696969;}#sk-container-id-1 label.sk-toggleable__label-arrow:hover:before {color: black;}#sk-container-id-1 div.sk-estimator:hover label.sk-toggleable__label-arrow:before {color: black;}#sk-container-id-1 div.sk-toggleable__content {max-height: 0;max-width: 0;overflow: hidden;text-align: left;background-color: #f0f8ff;}#sk-container-id-1 div.sk-toggleable__content pre {margin: 0.2em;color: black;border-radius: 0.25em;background-color: #f0f8ff;}#sk-container-id-1 input.sk-toggleable__control:checked~div.sk-toggleable__content {max-height: 200px;max-width: 100%;overflow: auto;}#sk-container-id-1 input.sk-toggleable__control:checked~label.sk-toggleable__label-arrow:before {content: \"▾\";}#sk-container-id-1 div.sk-estimator input.sk-toggleable__control:checked~label.sk-toggleable__label {background-color: #d4ebff;}#sk-container-id-1 div.sk-label input.sk-toggleable__control:checked~label.sk-toggleable__label {background-color: #d4ebff;}#sk-container-id-1 input.sk-hidden--visually {border: 0;clip: rect(1px 1px 1px 1px);clip: rect(1px, 1px, 1px, 1px);height: 1px;margin: -1px;overflow: hidden;padding: 0;position: absolute;width: 1px;}#sk-container-id-1 div.sk-estimator {font-family: monospace;background-color: #f0f8ff;border: 1px dotted black;border-radius: 0.25em;box-sizing: border-box;margin-bottom: 0.5em;}#sk-container-id-1 div.sk-estimator:hover {background-color: #d4ebff;}#sk-container-id-1 div.sk-parallel-item::after {content: \"\";width: 100%;border-bottom: 1px solid gray;flex-grow: 1;}#sk-container-id-1 div.sk-label:hover label.sk-toggleable__label {background-color: #d4ebff;}#sk-container-id-1 div.sk-serial::before {content: \"\";position: absolute;border-left: 1px solid gray;box-sizing: border-box;top: 0;bottom: 0;left: 50%;z-index: 0;}#sk-container-id-1 div.sk-serial {display: flex;flex-direction: column;align-items: center;background-color: white;padding-right: 0.2em;padding-left: 0.2em;position: relative;}#sk-container-id-1 div.sk-item {position: relative;z-index: 1;}#sk-container-id-1 div.sk-parallel {display: flex;align-items: stretch;justify-content: center;background-color: white;position: relative;}#sk-container-id-1 div.sk-item::before, #sk-container-id-1 div.sk-parallel-item::before {content: \"\";position: absolute;border-left: 1px solid gray;box-sizing: border-box;top: 0;bottom: 0;left: 50%;z-index: -1;}#sk-container-id-1 div.sk-parallel-item {display: flex;flex-direction: column;z-index: 1;position: relative;background-color: white;}#sk-container-id-1 div.sk-parallel-item:first-child::after {align-self: flex-end;width: 50%;}#sk-container-id-1 div.sk-parallel-item:last-child::after {align-self: flex-start;width: 50%;}#sk-container-id-1 div.sk-parallel-item:only-child::after {width: 0;}#sk-container-id-1 div.sk-dashed-wrapped {border: 1px dashed gray;margin: 0 0.4em 0.5em 0.4em;box-sizing: border-box;padding-bottom: 0.4em;background-color: white;}#sk-container-id-1 div.sk-label label {font-family: monospace;font-weight: bold;display: inline-block;line-height: 1.2em;}#sk-container-id-1 div.sk-label-container {text-align: center;}#sk-container-id-1 div.sk-container {/* jupyter's `normalize.less` sets `[hidden] { display: none; }` but bootstrap.min.css set `[hidden] { display: none !important; }` so we also need the `!important` here to be able to override the default hidden behavior on the sphinx rendered scikit-learn.org. See: https://github.com/scikit-learn/scikit-learn/issues/21755 */display: inline-block !important;position: relative;}#sk-container-id-1 div.sk-text-repr-fallback {display: none;}</style><div id=\"sk-container-id-1\" class=\"sk-top-container\"><div class=\"sk-text-repr-fallback\"><pre>TargetEncoder(cols=[&#x27;color&#x27;, &#x27;size&#x27;])</pre><b>In a Jupyter environment, please rerun this cell to show the HTML representation or trust the notebook. <br />On GitHub, the HTML representation is unable to render, please try loading this page with nbviewer.org.</b></div><div class=\"sk-container\" hidden><div class=\"sk-item\"><div class=\"sk-estimator sk-toggleable\"><input class=\"sk-toggleable__control sk-hidden--visually\" id=\"sk-estimator-id-1\" type=\"checkbox\" checked><label for=\"sk-estimator-id-1\" class=\"sk-toggleable__label sk-toggleable__label-arrow\">TargetEncoder</label><div class=\"sk-toggleable__content\"><pre>TargetEncoder(cols=[&#x27;color&#x27;, &#x27;size&#x27;])</pre></div></div></div></div></div>"
      ],
      "text/plain": [
       "TargetEncoder(cols=['color', 'size'])"
      ]
     },
     "execution_count": 7,
     "metadata": {},
     "output_type": "execute_result"
    }
   ],
   "source": [
    "encoder.fit(df, df['price'])"
   ]
  },
  {
   "cell_type": "markdown",
   "id": "53fd7953-89d5-4548-8c8e-7f0de9bdd725",
   "metadata": {},
   "source": [
    "#### Transform the dataset"
   ]
  },
  {
   "cell_type": "code",
   "execution_count": 8,
   "id": "b53733ef-cdea-4137-99d3-04bddf94fcc4",
   "metadata": {},
   "outputs": [],
   "source": [
    "encoded_df = encoder.transform(df)"
   ]
  },
  {
   "cell_type": "markdown",
   "id": "b84c8aad-b678-49a6-b2e6-36cdde775d4c",
   "metadata": {},
   "source": [
    "#### Display the encoded dataset"
   ]
  },
  {
   "cell_type": "code",
   "execution_count": 9,
   "id": "84745d4c-a56e-4e7e-a183-067a8585520b",
   "metadata": {},
   "outputs": [
    {
     "data": {
      "text/html": [
       "<div>\n",
       "<style scoped>\n",
       "    .dataframe tbody tr th:only-of-type {\n",
       "        vertical-align: middle;\n",
       "    }\n",
       "\n",
       "    .dataframe tbody tr th {\n",
       "        vertical-align: top;\n",
       "    }\n",
       "\n",
       "    .dataframe thead th {\n",
       "        text-align: right;\n",
       "    }\n",
       "</style>\n",
       "<table border=\"1\" class=\"dataframe\">\n",
       "  <thead>\n",
       "    <tr style=\"text-align: right;\">\n",
       "      <th></th>\n",
       "      <th>color</th>\n",
       "      <th>size</th>\n",
       "      <th>price</th>\n",
       "    </tr>\n",
       "  </thead>\n",
       "  <tbody>\n",
       "    <tr>\n",
       "      <th>0</th>\n",
       "      <td>13.201409</td>\n",
       "      <td>12.957631</td>\n",
       "      <td>10</td>\n",
       "    </tr>\n",
       "    <tr>\n",
       "      <th>1</th>\n",
       "      <td>13.485111</td>\n",
       "      <td>13.343260</td>\n",
       "      <td>12</td>\n",
       "    </tr>\n",
       "    <tr>\n",
       "      <th>2</th>\n",
       "      <td>13.608174</td>\n",
       "      <td>13.697887</td>\n",
       "      <td>15</td>\n",
       "    </tr>\n",
       "    <tr>\n",
       "      <th>3</th>\n",
       "      <td>13.201409</td>\n",
       "      <td>13.343260</td>\n",
       "      <td>14</td>\n",
       "    </tr>\n",
       "    <tr>\n",
       "      <th>4</th>\n",
       "      <td>13.485111</td>\n",
       "      <td>13.697887</td>\n",
       "      <td>16</td>\n",
       "    </tr>\n",
       "  </tbody>\n",
       "</table>\n",
       "</div>"
      ],
      "text/plain": [
       "       color       size  price\n",
       "0  13.201409  12.957631     10\n",
       "1  13.485111  13.343260     12\n",
       "2  13.608174  13.697887     15\n",
       "3  13.201409  13.343260     14\n",
       "4  13.485111  13.697887     16"
      ]
     },
     "execution_count": 9,
     "metadata": {},
     "output_type": "execute_result"
    }
   ],
   "source": [
    "encoded_df"
   ]
  },
  {
   "cell_type": "markdown",
   "id": "18679781-04cd-4bc4-a4cb-f0f7a09aed23",
   "metadata": {},
   "source": [
    "Note that probabilities are applied to the categorical features.\n",
    ">For the case of categorical target: features are replaced with a blend of posterior probability of the target given particular categorical value and the prior probability of the target over all the training data."
   ]
  },
  {
   "cell_type": "markdown",
   "id": "b4234ba4-2374-42aa-a7a8-0d7bebd988c5",
   "metadata": {},
   "source": [
    "It is not what I expected it to be becuase further computations are applied."
   ]
  },
  {
   "cell_type": "markdown",
   "id": "c2836b50-97c9-4909-8bfa-6f7c17235ead",
   "metadata": {},
   "source": [
    "---"
   ]
  },
  {
   "cell_type": "markdown",
   "id": "230028ac-6b71-4834-b94d-4063d50f7ad0",
   "metadata": {},
   "source": [
    "### Mean Encoder as a Custom Transformer\n",
    "Without using blend of probabilities"
   ]
  },
  {
   "cell_type": "code",
   "execution_count": 10,
   "id": "a01e82a6-171b-49c7-9a94-a5c5e0567ffb",
   "metadata": {},
   "outputs": [
    {
     "name": "stdout",
     "output_type": "stream",
     "text": [
      "   color  size  price\n",
      "0   12.0  10.0     10\n",
      "1   14.0  13.0     12\n",
      "2   15.0  15.5     15\n",
      "3   12.0  13.0     14\n",
      "4   14.0  15.5     16\n"
     ]
    }
   ],
   "source": [
    "from sklearn.base import BaseEstimator, TransformerMixin\n",
    "import pandas as pd\n",
    "\n",
    "class MeanEncoder(BaseEstimator, TransformerMixin):\n",
    "    def __init__(self, cols, target_col):\n",
    "        self.cols = cols\n",
    "        self.target_col = target_col\n",
    "    \n",
    "    def fit(self, X, y=None):\n",
    "        self.means = {}\n",
    "        for col in self.cols:\n",
    "            means = X.groupby(col)[self.target_col].mean()\n",
    "            self.means[col] = means\n",
    "        return self\n",
    "    \n",
    "    def transform(self, X):\n",
    "        for col in self.cols:\n",
    "            X[col] = X[col].map(self.means[col])\n",
    "        return X\n",
    "\n",
    "# Create a sample dataset\n",
    "data = {'color': ['red', 'green', 'blue', 'red', 'green'],\n",
    "        'size': ['small', 'medium', 'large', 'medium', 'large'],\n",
    "        'price': [10, 12, 15, 14, 16]}\n",
    "df = pd.DataFrame(data)\n",
    "\n",
    "# Initialize the encoder\n",
    "encoder = MeanEncoder(cols=['color', 'size'], target_col='price')\n",
    "\n",
    "# Fit the encoder on the dataset\n",
    "encoder.fit(df)\n",
    "\n",
    "# Transform the dataset\n",
    "encoded_df = encoder.transform(df)\n",
    "\n",
    "# Display the encoded dataset\n",
    "print(encoded_df)"
   ]
  }
 ],
 "metadata": {
  "kernelspec": {
   "display_name": "Python 3 (ipykernel)",
   "language": "python",
   "name": "python3"
  },
  "language_info": {
   "codemirror_mode": {
    "name": "ipython",
    "version": 3
   },
   "file_extension": ".py",
   "mimetype": "text/x-python",
   "name": "python",
   "nbconvert_exporter": "python",
   "pygments_lexer": "ipython3",
   "version": "3.9.13"
  }
 },
 "nbformat": 4,
 "nbformat_minor": 5
}
