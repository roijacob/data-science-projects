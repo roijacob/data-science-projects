{
 "cells": [
  {
   "cell_type": "markdown",
   "id": "88373bff",
   "metadata": {},
   "source": [
    "# Census Income\n",
    "---"
   ]
  },
  {
   "cell_type": "markdown",
   "id": "347c1f62-0255-4267-bdc9-1e398d8b2fc6",
   "metadata": {
    "tags": []
   },
   "source": [
    "#### Import necessary libraries"
   ]
  },
  {
   "cell_type": "code",
   "execution_count": 1,
   "id": "30916d07",
   "metadata": {},
   "outputs": [],
   "source": [
    "import pandas as pd\n",
    "import numpy as np\n",
    "import seaborn as sns\n",
    "import matplotlib.pyplot as plt\n",
    "\n",
    "from sklearn import set_config\n",
    "set_config(transform_output=\"pandas\")"
   ]
  },
  {
   "cell_type": "markdown",
   "id": "f9c1cd4f-d5b6-4ab0-b859-a73f3ea4da08",
   "metadata": {
    "jp-MarkdownHeadingCollapsed": true,
    "tags": []
   },
   "source": [
    "#### Import the data file"
   ]
  },
  {
   "cell_type": "code",
   "execution_count": 2,
   "id": "3e5cae62",
   "metadata": {},
   "outputs": [
    {
     "data": {
      "text/html": [
       "<div>\n",
       "<style scoped>\n",
       "    .dataframe tbody tr th:only-of-type {\n",
       "        vertical-align: middle;\n",
       "    }\n",
       "\n",
       "    .dataframe tbody tr th {\n",
       "        vertical-align: top;\n",
       "    }\n",
       "\n",
       "    .dataframe thead th {\n",
       "        text-align: right;\n",
       "    }\n",
       "</style>\n",
       "<table border=\"1\" class=\"dataframe\">\n",
       "  <thead>\n",
       "    <tr style=\"text-align: right;\">\n",
       "      <th></th>\n",
       "      <th>age</th>\n",
       "      <th>workclass</th>\n",
       "      <th>fnlwgt</th>\n",
       "      <th>education</th>\n",
       "      <th>education.num</th>\n",
       "      <th>marital.status</th>\n",
       "      <th>occupation</th>\n",
       "      <th>relationship</th>\n",
       "      <th>race</th>\n",
       "      <th>sex</th>\n",
       "      <th>capital.gain</th>\n",
       "      <th>capital.loss</th>\n",
       "      <th>hours.per.week</th>\n",
       "      <th>native.country</th>\n",
       "      <th>income</th>\n",
       "    </tr>\n",
       "  </thead>\n",
       "  <tbody>\n",
       "    <tr>\n",
       "      <th>0</th>\n",
       "      <td>90</td>\n",
       "      <td>?</td>\n",
       "      <td>77053</td>\n",
       "      <td>HS-grad</td>\n",
       "      <td>9</td>\n",
       "      <td>Widowed</td>\n",
       "      <td>?</td>\n",
       "      <td>Not-in-family</td>\n",
       "      <td>White</td>\n",
       "      <td>Female</td>\n",
       "      <td>0</td>\n",
       "      <td>4356</td>\n",
       "      <td>40</td>\n",
       "      <td>United-States</td>\n",
       "      <td>&lt;=50K</td>\n",
       "    </tr>\n",
       "    <tr>\n",
       "      <th>1</th>\n",
       "      <td>82</td>\n",
       "      <td>Private</td>\n",
       "      <td>132870</td>\n",
       "      <td>HS-grad</td>\n",
       "      <td>9</td>\n",
       "      <td>Widowed</td>\n",
       "      <td>Exec-managerial</td>\n",
       "      <td>Not-in-family</td>\n",
       "      <td>White</td>\n",
       "      <td>Female</td>\n",
       "      <td>0</td>\n",
       "      <td>4356</td>\n",
       "      <td>18</td>\n",
       "      <td>United-States</td>\n",
       "      <td>&lt;=50K</td>\n",
       "    </tr>\n",
       "    <tr>\n",
       "      <th>2</th>\n",
       "      <td>66</td>\n",
       "      <td>?</td>\n",
       "      <td>186061</td>\n",
       "      <td>Some-college</td>\n",
       "      <td>10</td>\n",
       "      <td>Widowed</td>\n",
       "      <td>?</td>\n",
       "      <td>Unmarried</td>\n",
       "      <td>Black</td>\n",
       "      <td>Female</td>\n",
       "      <td>0</td>\n",
       "      <td>4356</td>\n",
       "      <td>40</td>\n",
       "      <td>United-States</td>\n",
       "      <td>&lt;=50K</td>\n",
       "    </tr>\n",
       "    <tr>\n",
       "      <th>3</th>\n",
       "      <td>54</td>\n",
       "      <td>Private</td>\n",
       "      <td>140359</td>\n",
       "      <td>7th-8th</td>\n",
       "      <td>4</td>\n",
       "      <td>Divorced</td>\n",
       "      <td>Machine-op-inspct</td>\n",
       "      <td>Unmarried</td>\n",
       "      <td>White</td>\n",
       "      <td>Female</td>\n",
       "      <td>0</td>\n",
       "      <td>3900</td>\n",
       "      <td>40</td>\n",
       "      <td>United-States</td>\n",
       "      <td>&lt;=50K</td>\n",
       "    </tr>\n",
       "    <tr>\n",
       "      <th>4</th>\n",
       "      <td>41</td>\n",
       "      <td>Private</td>\n",
       "      <td>264663</td>\n",
       "      <td>Some-college</td>\n",
       "      <td>10</td>\n",
       "      <td>Separated</td>\n",
       "      <td>Prof-specialty</td>\n",
       "      <td>Own-child</td>\n",
       "      <td>White</td>\n",
       "      <td>Female</td>\n",
       "      <td>0</td>\n",
       "      <td>3900</td>\n",
       "      <td>40</td>\n",
       "      <td>United-States</td>\n",
       "      <td>&lt;=50K</td>\n",
       "    </tr>\n",
       "  </tbody>\n",
       "</table>\n",
       "</div>"
      ],
      "text/plain": [
       "   age workclass  fnlwgt     education  education.num marital.status  \\\n",
       "0   90         ?   77053       HS-grad              9        Widowed   \n",
       "1   82   Private  132870       HS-grad              9        Widowed   \n",
       "2   66         ?  186061  Some-college             10        Widowed   \n",
       "3   54   Private  140359       7th-8th              4       Divorced   \n",
       "4   41   Private  264663  Some-college             10      Separated   \n",
       "\n",
       "          occupation   relationship   race     sex  capital.gain  \\\n",
       "0                  ?  Not-in-family  White  Female             0   \n",
       "1    Exec-managerial  Not-in-family  White  Female             0   \n",
       "2                  ?      Unmarried  Black  Female             0   \n",
       "3  Machine-op-inspct      Unmarried  White  Female             0   \n",
       "4     Prof-specialty      Own-child  White  Female             0   \n",
       "\n",
       "   capital.loss  hours.per.week native.country income  \n",
       "0          4356              40  United-States  <=50K  \n",
       "1          4356              18  United-States  <=50K  \n",
       "2          4356              40  United-States  <=50K  \n",
       "3          3900              40  United-States  <=50K  \n",
       "4          3900              40  United-States  <=50K  "
      ]
     },
     "execution_count": 2,
     "metadata": {},
     "output_type": "execute_result"
    }
   ],
   "source": [
    "raw_df = pd.read_csv('files/datasets/adult.csv')\n",
    "raw_df.head()"
   ]
  },
  {
   "cell_type": "markdown",
   "id": "6b438453-1ac3-4d2b-9acc-fd44c295057f",
   "metadata": {},
   "source": [
    "Because values from the CSV file in Kaggle uses `?` as null values, we will replace those question marks with a NaN. "
   ]
  },
  {
   "cell_type": "code",
   "execution_count": 3,
   "id": "467375a5-18a1-4c9a-a9b1-a6422e9988f3",
   "metadata": {},
   "outputs": [],
   "source": [
    "raw_df.replace(to_replace='?', value=np.nan, inplace=True)"
   ]
  },
  {
   "cell_type": "code",
   "execution_count": 4,
   "id": "ea46437b-c99d-4ade-91cc-32ac05f3194e",
   "metadata": {},
   "outputs": [],
   "source": [
    "raw_df.replace(to_replace='<=50K', value=0, inplace=True)\n",
    "raw_df.replace(to_replace='>50K', value=1, inplace=True)"
   ]
  },
  {
   "cell_type": "markdown",
   "id": "be80ae17-2b3a-452a-b01e-037147e6b6a7",
   "metadata": {
    "jp-MarkdownHeadingCollapsed": true,
    "tags": []
   },
   "source": [
    "#### View information about the dataframe"
   ]
  },
  {
   "cell_type": "code",
   "execution_count": 5,
   "id": "c9204107",
   "metadata": {},
   "outputs": [
    {
     "name": "stdout",
     "output_type": "stream",
     "text": [
      "<class 'pandas.core.frame.DataFrame'>\n",
      "RangeIndex: 32561 entries, 0 to 32560\n",
      "Data columns (total 15 columns):\n",
      " #   Column          Non-Null Count  Dtype \n",
      "---  ------          --------------  ----- \n",
      " 0   age             32561 non-null  int64 \n",
      " 1   workclass       30725 non-null  object\n",
      " 2   fnlwgt          32561 non-null  int64 \n",
      " 3   education       32561 non-null  object\n",
      " 4   education.num   32561 non-null  int64 \n",
      " 5   marital.status  32561 non-null  object\n",
      " 6   occupation      30718 non-null  object\n",
      " 7   relationship    32561 non-null  object\n",
      " 8   race            32561 non-null  object\n",
      " 9   sex             32561 non-null  object\n",
      " 10  capital.gain    32561 non-null  int64 \n",
      " 11  capital.loss    32561 non-null  int64 \n",
      " 12  hours.per.week  32561 non-null  int64 \n",
      " 13  native.country  31978 non-null  object\n",
      " 14  income          32561 non-null  int64 \n",
      "dtypes: int64(7), object(8)\n",
      "memory usage: 3.7+ MB\n"
     ]
    }
   ],
   "source": [
    "raw_df.info()"
   ]
  },
  {
   "cell_type": "code",
   "execution_count": 6,
   "id": "58a6a3d9-a17f-4ebc-809a-69b1c05461ac",
   "metadata": {
    "tags": []
   },
   "outputs": [
    {
     "data": {
      "text/plain": [
       "age                  0\n",
       "workclass         1836\n",
       "fnlwgt               0\n",
       "education            0\n",
       "education.num        0\n",
       "marital.status       0\n",
       "occupation        1843\n",
       "relationship         0\n",
       "race                 0\n",
       "sex                  0\n",
       "capital.gain         0\n",
       "capital.loss         0\n",
       "hours.per.week       0\n",
       "native.country     583\n",
       "income               0\n",
       "dtype: int64"
      ]
     },
     "execution_count": 6,
     "metadata": {},
     "output_type": "execute_result"
    }
   ],
   "source": [
    "raw_df.isnull().sum()"
   ]
  },
  {
   "cell_type": "markdown",
   "id": "3b5de6c4-6d7e-4f85-9655-0efb2b42c518",
   "metadata": {
    "jp-MarkdownHeadingCollapsed": true,
    "tags": []
   },
   "source": [
    "#### Split the data into target and features"
   ]
  },
  {
   "cell_type": "code",
   "execution_count": 7,
   "id": "07f74891-ae8a-4d02-b446-f0e2b08c07ea",
   "metadata": {},
   "outputs": [],
   "source": [
    "def xy_split(dataframe, y_column):\n",
    "    features = dataframe.loc[:, dataframe.columns != y_column]\n",
    "    target = dataframe[y_column]\n",
    "    return features, target\n",
    "\n",
    "X, y = xy_split(raw_df, 'income')"
   ]
  },
  {
   "cell_type": "markdown",
   "id": "1d49ea7c-f2d8-4cc2-a2e2-f5d95dd7832c",
   "metadata": {},
   "source": [
    "##### Create training and testing sets"
   ]
  },
  {
   "cell_type": "code",
   "execution_count": 8,
   "id": "5b4d5313-fc82-4cc4-b1f5-42eb526deeb9",
   "metadata": {},
   "outputs": [],
   "source": [
    "from sklearn.model_selection import train_test_split\n",
    "X_train, X_test, y_train, y_test = train_test_split(X, y, test_size=0.2, random_state=42)"
   ]
  },
  {
   "cell_type": "markdown",
   "id": "0cba0097-a417-441d-a301-d6163b5dac89",
   "metadata": {},
   "source": [
    "##### Create a copy of the original dataset"
   ]
  },
  {
   "cell_type": "code",
   "execution_count": 9,
   "id": "122cef88-0235-4a4e-82f1-925512dfd5b6",
   "metadata": {},
   "outputs": [],
   "source": [
    "df = X_train.copy()"
   ]
  },
  {
   "cell_type": "markdown",
   "id": "eb503f91-6adc-4da8-85ca-662804eb4e01",
   "metadata": {
    "tags": []
   },
   "source": [
    "---\n",
    "\n",
    "# Data Preparation"
   ]
  },
  {
   "cell_type": "markdown",
   "id": "2c6999da-992e-4261-96a2-e7a74c7aaef0",
   "metadata": {
    "tags": []
   },
   "source": [
    "#### Determine which columns have low cardinality\n",
    "We will start fixing these columns first"
   ]
  },
  {
   "cell_type": "code",
   "execution_count": 10,
   "id": "ba7f2714-2b18-4350-9aea-d8544f038dc6",
   "metadata": {},
   "outputs": [
    {
     "name": "stdout",
     "output_type": "stream",
     "text": [
      "8 - workclass\n",
      "7 - marital.status\n",
      "6 - relationship\n",
      "5 - race\n",
      "2 - sex\n"
     ]
    }
   ],
   "source": [
    "def ohe_eligibility(datafame):\n",
    "    for i in datafame.columns:\n",
    "        if len(datafame[i].value_counts()) < 10:\n",
    "            print(f'{len(datafame[i].value_counts())} - {i}')\n",
    "        else:\n",
    "            pass\n",
    "        \n",
    "ohe_eligibility(df)"
   ]
  },
  {
   "cell_type": "markdown",
   "id": "0291af6b-e4ca-485f-a4fc-982148652dba",
   "metadata": {
    "tags": []
   },
   "source": [
    "----\n",
    "\n",
    "# Data Cleaning"
   ]
  },
  {
   "cell_type": "code",
   "execution_count": 37,
   "id": "b90ffbcb-f14c-418c-8b7b-ea85d108aa3a",
   "metadata": {
    "tags": []
   },
   "outputs": [],
   "source": [
    "import pandas as pd\n",
    "from sklearn.preprocessing import FunctionTransformer\n",
    "\n",
    "# Define a custom function to replace a value in a dataframe\n",
    "def replace_values(dataframe, column, replacements_dict):\n",
    "    dataframe[column] = dataframe[column].replace(replacements_dict)\n",
    "    return dataframe"
   ]
  },
  {
   "cell_type": "markdown",
   "id": "56f9f415-0b91-4303-99de-a33d9597d4ef",
   "metadata": {
    "tags": []
   },
   "source": [
    "### Fixing Marital Status column\n",
    "\n",
    "Reduce categories by merging different categories into one.\n",
    "\n",
    "Single: **Never Married**\n",
    "\n",
    "Break: **Divorced**, **Widowed**, **Separated**\n",
    "\n",
    "Married: **Married-civ-spouse**, **Married-spouse-absent**, **Married AF spouse**"
   ]
  },
  {
   "cell_type": "code",
   "execution_count": 38,
   "id": "fabbec6e-d186-4fd1-8463-e38eacb468ab",
   "metadata": {},
   "outputs": [],
   "source": [
    "replacements_dict = {\"Never-married\": \"single\", \"Divorced\": \"break\", \"Separated\": \"break\", \"Widowed\": \"break\", \n",
    "                     \"Married-civ-spouse\": \"married\", \"Married-spouse-absent\": \"married\", \"Married-AF-spouse\": \"married\"}\n",
    "\n",
    "replace_transformer = FunctionTransformer(replace_values, kw_args={'column': 'marital.status', 'replacements_dict': replacements_dict})\n",
    "\n",
    "# df_new = replace_transformer.transform(df)"
   ]
  },
  {
   "cell_type": "markdown",
   "id": "f1e006dc-6937-4119-8491-042bff0aa374",
   "metadata": {},
   "source": [
    "----"
   ]
  },
  {
   "cell_type": "markdown",
   "id": "335d2f9b-f4ce-4f0c-b9f7-4bf9511ca0b9",
   "metadata": {
    "tags": []
   },
   "source": [
    "### Fixing Workclass column"
   ]
  },
  {
   "cell_type": "markdown",
   "id": "94bf314c-914e-475c-b21d-b9009769a274",
   "metadata": {},
   "source": [
    "Reduce categories by merging different categories into one.\n",
    "\n",
    "P.Employed: **Private, Without-pay**\n",
    "\n",
    "S.Employed: **Self-emp-not-inc, Self-emp-inc**\n",
    "\n",
    "G.Employed: **Local-gov, State-gov, Federal-gov**\n",
    "\n",
    "Unemployed"
   ]
  },
  {
   "cell_type": "code",
   "execution_count": 45,
   "id": "72b177af-1f1c-4ce7-aa14-19fd3d5cab25",
   "metadata": {},
   "outputs": [],
   "source": [
    "replacements_dict_wc = {\"Private\": \"P.Employed\", \"Without-pay\": \"P.Employed\", \"Self-emp-not-inc\": \"S.Employed\", \n",
    "                        \"Self-emp-inc\": \"S.Employed\", \"Local-gov\": \"G.Employed\", \"State-gov\": \"G.Employed\", \n",
    "                        \"Federal-gov\": \"G.Employed\", \"Never-worked\": \"Unemployed\"}\n",
    "\n",
    "replace_transformer_wc = FunctionTransformer(replace_values, kw_args={'column': 'workclass', 'replacements_dict': replacements_dict_wc})\n",
    "\n",
    "# df_new = replace_transformer_wc.transform(df)"
   ]
  },
  {
   "cell_type": "markdown",
   "id": "c4433785-74b3-447f-b192-66b7a6fb1ff1",
   "metadata": {
    "tags": []
   },
   "source": [
    "### Fixing Relationship column (NA)"
   ]
  },
  {
   "cell_type": "markdown",
   "id": "afd74aaf-e825-4e7f-8cf3-2889312c1efe",
   "metadata": {},
   "source": [
    "Reduce categories by merging different categories into one.\n",
    "\n",
    "parent: **Husband, Wife**\n",
    "\n",
    "no_family: **Not-in-family, Own-child, Unmarried, Other-relative**"
   ]
  },
  {
   "cell_type": "code",
   "execution_count": 48,
   "id": "b73e044f-ee3a-4ac9-87a3-f0f458f96171",
   "metadata": {},
   "outputs": [],
   "source": [
    "replacements_dict_r = {\"Husband\": \"parent\", \"Wife\": \"parent\", \"Not-in-family\": \"no_family\", \n",
    "                       \"Own-child\": \"no_family\", \"Unmarried\": \"no_family\", \"Other-relative\": \"no_family\"}\n",
    "\n",
    "replace_transformer_r = FunctionTransformer(replace_values, kw_args={'column': 'relationship', 'replacements_dict': replacements_dict_r})\n",
    "\n",
    "# df_new = replace_transformer_r.transform(df)"
   ]
  },
  {
   "cell_type": "markdown",
   "id": "af7f68bd-338c-41de-97ac-451a79726aa4",
   "metadata": {},
   "source": [
    "---"
   ]
  },
  {
   "cell_type": "markdown",
   "id": "b6f0c258-7edb-4b8f-98c2-1e31ce590f1a",
   "metadata": {
    "tags": []
   },
   "source": [
    "### Fixing Occupation column"
   ]
  },
  {
   "cell_type": "markdown",
   "id": "54912d54-4f99-4129-86fb-d552fe8329eb",
   "metadata": {
    "tags": []
   },
   "source": [
    "#### Domain Knowledge: http://www.socsci.uci.edu/~mhuffman/occ_codes.pdf\n",
    "\n",
    "Reduce categories by merging different categories into one.\n",
    "\n",
    "managerial/professional: **Prof-specialty, Exec-managerial**\n",
    "\n",
    "technical/sales/administrative: **Adm-clerical, Sales, Tech-support**\n",
    "\n",
    "service: **Protective-serv, Priv-house-serv**\n",
    "\n",
    "operator/fabricator/laborer: **Machine-op-inspct, Transport-moving, Handlers-cleaners**\n",
    "\n",
    "farming/forestry/fishing: **Farming-fishing** \n",
    "\n",
    "precision/production/craft/repair: **Craft-repair**\n",
    "\n",
    "military: **Armed-Forces**"
   ]
  },
  {
   "cell_type": "code",
   "execution_count": 51,
   "id": "1bda4e7a-ec31-441f-bb55-848676fa35ed",
   "metadata": {},
   "outputs": [],
   "source": [
    "replacements_dict_o = {\"Prof-specialty\": \"managerial/professional\", \"Exec-managerial\": \"managerial/professional\", \"Adm-clerical\": \"technical/sales/administrative\", \"Sales\": \n",
    "                       \"technical/sales/administrative\", \"Tech-support\": \"technical/sales/administrative\", \"Protective-serv\": \"service\", \"Priv-house-serv\": \"service\",\n",
    "                       \"Machine-op-inspct\": \"operator/fabricator/laborer\", \"Transport-moving\": \"operator/fabricator/laborer\", \"Handlers-cleaners\": \"operator/fabricator/laborer\"}\n",
    "\n",
    "replace_transformer_o = FunctionTransformer(replace_values, kw_args={'column': 'remainder__occupation', 'replacements_dict': replacements_dict_o})\n",
    "\n",
    "# df_new = replace_transformer_o.transform(df)"
   ]
  },
  {
   "cell_type": "markdown",
   "id": "485fe65f-5699-45d6-a8cf-5a9b3ea05f32",
   "metadata": {},
   "source": [
    "---"
   ]
  },
  {
   "cell_type": "markdown",
   "id": "6b43ea01-48dc-4098-a718-470e9abc6cbb",
   "metadata": {
    "tags": []
   },
   "source": [
    "### Apply function transformers as for loop"
   ]
  },
  {
   "cell_type": "code",
   "execution_count": 27,
   "id": "93644645-4ac9-42c6-b8be-6a575c191b57",
   "metadata": {},
   "outputs": [],
   "source": [
    "transformers = [(replace_transformer_r, 'relationship', replacements_dict_r),    \n",
    "                (replace_transformer_wc, 'workclass', replacements_dict_wc),    \n",
    "                (replace_transformer, 'marital.status', replacements_dict)]\n",
    "\n",
    "for transformer, column, replacements_dict in transformers:\n",
    "    replace_transformer = FunctionTransformer(replace_values, kw_args={'column': column, 'replacements_dict': replacements_dict})"
   ]
  },
  {
   "cell_type": "code",
   "execution_count": 28,
   "id": "8a77d0c0-6d94-4737-a3e7-62cfae50a34c",
   "metadata": {},
   "outputs": [
    {
     "data": {
      "text/html": [
       "<div>\n",
       "<style scoped>\n",
       "    .dataframe tbody tr th:only-of-type {\n",
       "        vertical-align: middle;\n",
       "    }\n",
       "\n",
       "    .dataframe tbody tr th {\n",
       "        vertical-align: top;\n",
       "    }\n",
       "\n",
       "    .dataframe thead th {\n",
       "        text-align: right;\n",
       "    }\n",
       "</style>\n",
       "<table border=\"1\" class=\"dataframe\">\n",
       "  <thead>\n",
       "    <tr style=\"text-align: right;\">\n",
       "      <th></th>\n",
       "      <th>age</th>\n",
       "      <th>workclass</th>\n",
       "      <th>fnlwgt</th>\n",
       "      <th>education</th>\n",
       "      <th>education.num</th>\n",
       "      <th>marital.status</th>\n",
       "      <th>occupation</th>\n",
       "      <th>relationship</th>\n",
       "      <th>race</th>\n",
       "      <th>sex</th>\n",
       "      <th>capital.gain</th>\n",
       "      <th>capital.loss</th>\n",
       "      <th>hours.per.week</th>\n",
       "      <th>native.country</th>\n",
       "      <th>income</th>\n",
       "    </tr>\n",
       "  </thead>\n",
       "  <tbody>\n",
       "    <tr>\n",
       "      <th>0</th>\n",
       "      <td>90</td>\n",
       "      <td>NaN</td>\n",
       "      <td>77053</td>\n",
       "      <td>HS-grad</td>\n",
       "      <td>9</td>\n",
       "      <td>Widowed</td>\n",
       "      <td>NaN</td>\n",
       "      <td>no_family</td>\n",
       "      <td>White</td>\n",
       "      <td>Female</td>\n",
       "      <td>0</td>\n",
       "      <td>4356</td>\n",
       "      <td>40</td>\n",
       "      <td>United-States</td>\n",
       "      <td>0</td>\n",
       "    </tr>\n",
       "    <tr>\n",
       "      <th>1</th>\n",
       "      <td>82</td>\n",
       "      <td>P.Employed</td>\n",
       "      <td>132870</td>\n",
       "      <td>HS-grad</td>\n",
       "      <td>9</td>\n",
       "      <td>Widowed</td>\n",
       "      <td>Exec-managerial</td>\n",
       "      <td>no_family</td>\n",
       "      <td>White</td>\n",
       "      <td>Female</td>\n",
       "      <td>0</td>\n",
       "      <td>4356</td>\n",
       "      <td>18</td>\n",
       "      <td>United-States</td>\n",
       "      <td>0</td>\n",
       "    </tr>\n",
       "    <tr>\n",
       "      <th>2</th>\n",
       "      <td>66</td>\n",
       "      <td>NaN</td>\n",
       "      <td>186061</td>\n",
       "      <td>Some-college</td>\n",
       "      <td>10</td>\n",
       "      <td>Widowed</td>\n",
       "      <td>NaN</td>\n",
       "      <td>no_family</td>\n",
       "      <td>Black</td>\n",
       "      <td>Female</td>\n",
       "      <td>0</td>\n",
       "      <td>4356</td>\n",
       "      <td>40</td>\n",
       "      <td>United-States</td>\n",
       "      <td>0</td>\n",
       "    </tr>\n",
       "    <tr>\n",
       "      <th>3</th>\n",
       "      <td>54</td>\n",
       "      <td>P.Employed</td>\n",
       "      <td>140359</td>\n",
       "      <td>7th-8th</td>\n",
       "      <td>4</td>\n",
       "      <td>Divorced</td>\n",
       "      <td>Machine-op-inspct</td>\n",
       "      <td>no_family</td>\n",
       "      <td>White</td>\n",
       "      <td>Female</td>\n",
       "      <td>0</td>\n",
       "      <td>3900</td>\n",
       "      <td>40</td>\n",
       "      <td>United-States</td>\n",
       "      <td>0</td>\n",
       "    </tr>\n",
       "    <tr>\n",
       "      <th>4</th>\n",
       "      <td>41</td>\n",
       "      <td>P.Employed</td>\n",
       "      <td>264663</td>\n",
       "      <td>Some-college</td>\n",
       "      <td>10</td>\n",
       "      <td>Separated</td>\n",
       "      <td>Prof-specialty</td>\n",
       "      <td>no_family</td>\n",
       "      <td>White</td>\n",
       "      <td>Female</td>\n",
       "      <td>0</td>\n",
       "      <td>3900</td>\n",
       "      <td>40</td>\n",
       "      <td>United-States</td>\n",
       "      <td>0</td>\n",
       "    </tr>\n",
       "  </tbody>\n",
       "</table>\n",
       "</div>"
      ],
      "text/plain": [
       "   age   workclass  fnlwgt     education  education.num marital.status  \\\n",
       "0   90         NaN   77053       HS-grad              9        Widowed   \n",
       "1   82  P.Employed  132870       HS-grad              9        Widowed   \n",
       "2   66         NaN  186061  Some-college             10        Widowed   \n",
       "3   54  P.Employed  140359       7th-8th              4       Divorced   \n",
       "4   41  P.Employed  264663  Some-college             10      Separated   \n",
       "\n",
       "          occupation relationship   race     sex  capital.gain  capital.loss  \\\n",
       "0                NaN    no_family  White  Female             0          4356   \n",
       "1    Exec-managerial    no_family  White  Female             0          4356   \n",
       "2                NaN    no_family  Black  Female             0          4356   \n",
       "3  Machine-op-inspct    no_family  White  Female             0          3900   \n",
       "4     Prof-specialty    no_family  White  Female             0          3900   \n",
       "\n",
       "   hours.per.week native.country  income  \n",
       "0              40  United-States       0  \n",
       "1              18  United-States       0  \n",
       "2              40  United-States       0  \n",
       "3              40  United-States       0  \n",
       "4              40  United-States       0  "
      ]
     },
     "execution_count": 28,
     "metadata": {},
     "output_type": "execute_result"
    }
   ],
   "source": [
    "# Data Before\n",
    "\n",
    "raw_df_copy.head()"
   ]
  },
  {
   "cell_type": "code",
   "execution_count": 29,
   "id": "fc1b08c1-7447-4fa7-a4d1-60c6b0cec174",
   "metadata": {},
   "outputs": [],
   "source": [
    "df_transformed = replace_transformer.fit_transform(raw_df_copy)"
   ]
  },
  {
   "cell_type": "code",
   "execution_count": 30,
   "id": "16c1fb38-3d12-4a97-bbd9-0bdc5a0f1ee7",
   "metadata": {},
   "outputs": [
    {
     "data": {
      "text/html": [
       "<div>\n",
       "<style scoped>\n",
       "    .dataframe tbody tr th:only-of-type {\n",
       "        vertical-align: middle;\n",
       "    }\n",
       "\n",
       "    .dataframe tbody tr th {\n",
       "        vertical-align: top;\n",
       "    }\n",
       "\n",
       "    .dataframe thead th {\n",
       "        text-align: right;\n",
       "    }\n",
       "</style>\n",
       "<table border=\"1\" class=\"dataframe\">\n",
       "  <thead>\n",
       "    <tr style=\"text-align: right;\">\n",
       "      <th></th>\n",
       "      <th>age</th>\n",
       "      <th>workclass</th>\n",
       "      <th>fnlwgt</th>\n",
       "      <th>education</th>\n",
       "      <th>education.num</th>\n",
       "      <th>marital.status</th>\n",
       "      <th>occupation</th>\n",
       "      <th>relationship</th>\n",
       "      <th>race</th>\n",
       "      <th>sex</th>\n",
       "      <th>capital.gain</th>\n",
       "      <th>capital.loss</th>\n",
       "      <th>hours.per.week</th>\n",
       "      <th>native.country</th>\n",
       "      <th>income</th>\n",
       "    </tr>\n",
       "  </thead>\n",
       "  <tbody>\n",
       "    <tr>\n",
       "      <th>0</th>\n",
       "      <td>90</td>\n",
       "      <td>NaN</td>\n",
       "      <td>77053</td>\n",
       "      <td>HS-grad</td>\n",
       "      <td>9</td>\n",
       "      <td>break</td>\n",
       "      <td>NaN</td>\n",
       "      <td>no_family</td>\n",
       "      <td>White</td>\n",
       "      <td>Female</td>\n",
       "      <td>0</td>\n",
       "      <td>4356</td>\n",
       "      <td>40</td>\n",
       "      <td>United-States</td>\n",
       "      <td>0</td>\n",
       "    </tr>\n",
       "    <tr>\n",
       "      <th>1</th>\n",
       "      <td>82</td>\n",
       "      <td>P.Employed</td>\n",
       "      <td>132870</td>\n",
       "      <td>HS-grad</td>\n",
       "      <td>9</td>\n",
       "      <td>break</td>\n",
       "      <td>Exec-managerial</td>\n",
       "      <td>no_family</td>\n",
       "      <td>White</td>\n",
       "      <td>Female</td>\n",
       "      <td>0</td>\n",
       "      <td>4356</td>\n",
       "      <td>18</td>\n",
       "      <td>United-States</td>\n",
       "      <td>0</td>\n",
       "    </tr>\n",
       "    <tr>\n",
       "      <th>2</th>\n",
       "      <td>66</td>\n",
       "      <td>NaN</td>\n",
       "      <td>186061</td>\n",
       "      <td>Some-college</td>\n",
       "      <td>10</td>\n",
       "      <td>break</td>\n",
       "      <td>NaN</td>\n",
       "      <td>no_family</td>\n",
       "      <td>Black</td>\n",
       "      <td>Female</td>\n",
       "      <td>0</td>\n",
       "      <td>4356</td>\n",
       "      <td>40</td>\n",
       "      <td>United-States</td>\n",
       "      <td>0</td>\n",
       "    </tr>\n",
       "    <tr>\n",
       "      <th>3</th>\n",
       "      <td>54</td>\n",
       "      <td>P.Employed</td>\n",
       "      <td>140359</td>\n",
       "      <td>7th-8th</td>\n",
       "      <td>4</td>\n",
       "      <td>break</td>\n",
       "      <td>Machine-op-inspct</td>\n",
       "      <td>no_family</td>\n",
       "      <td>White</td>\n",
       "      <td>Female</td>\n",
       "      <td>0</td>\n",
       "      <td>3900</td>\n",
       "      <td>40</td>\n",
       "      <td>United-States</td>\n",
       "      <td>0</td>\n",
       "    </tr>\n",
       "    <tr>\n",
       "      <th>4</th>\n",
       "      <td>41</td>\n",
       "      <td>P.Employed</td>\n",
       "      <td>264663</td>\n",
       "      <td>Some-college</td>\n",
       "      <td>10</td>\n",
       "      <td>break</td>\n",
       "      <td>Prof-specialty</td>\n",
       "      <td>no_family</td>\n",
       "      <td>White</td>\n",
       "      <td>Female</td>\n",
       "      <td>0</td>\n",
       "      <td>3900</td>\n",
       "      <td>40</td>\n",
       "      <td>United-States</td>\n",
       "      <td>0</td>\n",
       "    </tr>\n",
       "  </tbody>\n",
       "</table>\n",
       "</div>"
      ],
      "text/plain": [
       "   age   workclass  fnlwgt     education  education.num marital.status  \\\n",
       "0   90         NaN   77053       HS-grad              9          break   \n",
       "1   82  P.Employed  132870       HS-grad              9          break   \n",
       "2   66         NaN  186061  Some-college             10          break   \n",
       "3   54  P.Employed  140359       7th-8th              4          break   \n",
       "4   41  P.Employed  264663  Some-college             10          break   \n",
       "\n",
       "          occupation relationship   race     sex  capital.gain  capital.loss  \\\n",
       "0                NaN    no_family  White  Female             0          4356   \n",
       "1    Exec-managerial    no_family  White  Female             0          4356   \n",
       "2                NaN    no_family  Black  Female             0          4356   \n",
       "3  Machine-op-inspct    no_family  White  Female             0          3900   \n",
       "4     Prof-specialty    no_family  White  Female             0          3900   \n",
       "\n",
       "   hours.per.week native.country  income  \n",
       "0              40  United-States       0  \n",
       "1              18  United-States       0  \n",
       "2              40  United-States       0  \n",
       "3              40  United-States       0  \n",
       "4              40  United-States       0  "
      ]
     },
     "execution_count": 30,
     "metadata": {},
     "output_type": "execute_result"
    }
   ],
   "source": [
    "# Data after, it works\n",
    "\n",
    "df_transformed.head()"
   ]
  },
  {
   "cell_type": "markdown",
   "id": "a76eb193-0ca8-437c-9aba-b08ba48a8c2f",
   "metadata": {},
   "source": [
    "### Create an initial pipeline"
   ]
  },
  {
   "cell_type": "code",
   "execution_count": 31,
   "id": "8122237b-0065-4334-a245-d9c1428653f1",
   "metadata": {},
   "outputs": [],
   "source": [
    "from sklearn.preprocessing import StandardScaler"
   ]
  },
  {
   "cell_type": "code",
   "execution_count": 32,
   "id": "aaa84bff-42a2-4214-a181-13fd818b6bd8",
   "metadata": {},
   "outputs": [
    {
     "ename": "NameError",
     "evalue": "name 'OneHotEncoder' is not defined",
     "output_type": "error",
     "traceback": [
      "\u001b[1;31m---------------------------------------------------------------------------\u001b[0m",
      "\u001b[1;31mNameError\u001b[0m                                 Traceback (most recent call last)",
      "Cell \u001b[1;32mIn[32], line 1\u001b[0m\n\u001b[1;32m----> 1\u001b[0m ohe_enc \u001b[38;5;241m=\u001b[39m \u001b[43mOneHotEncoder\u001b[49m(sparse_output\u001b[38;5;241m=\u001b[39m\u001b[38;5;28;01mFalse\u001b[39;00m, handle_unknown\u001b[38;5;241m=\u001b[39m\u001b[38;5;124m'\u001b[39m\u001b[38;5;124mignore\u001b[39m\u001b[38;5;124m'\u001b[39m)\n\u001b[0;32m      2\u001b[0m std_scl \u001b[38;5;241m=\u001b[39m StandardScaler()\n\u001b[0;32m      3\u001b[0m oe_enc \u001b[38;5;241m=\u001b[39m OrdinalEncoder(handle_unknown\u001b[38;5;241m=\u001b[39m\u001b[38;5;124m'\u001b[39m\u001b[38;5;124merror\u001b[39m\u001b[38;5;124m'\u001b[39m)\n",
      "\u001b[1;31mNameError\u001b[0m: name 'OneHotEncoder' is not defined"
     ]
    }
   ],
   "source": [
    "ohe_enc = OneHotEncoder(sparse_output=False, handle_unknown='ignore')\n",
    "std_scl = StandardScaler()\n",
    "oe_enc = OrdinalEncoder(handle_unknown='error')"
   ]
  },
  {
   "cell_type": "code",
   "execution_count": null,
   "id": "b124f15a-5eca-4fb7-80ab-7aaa41608a17",
   "metadata": {},
   "outputs": [],
   "source": [
    "count_process = ColumnTransformer([\n",
    "    ('ohe', ohe_enc, ['marital.status', 'sex', 'relationship', 'race']),\n",
    "    ('std-scale', std_scl, ['age', 'fnlwgt']), \n",
    "    ('passthrough', 'passthrough', ['education.num', 'capital.gain', 'capital.loss', 'hours.per.week', 'workclass'])\n",
    "])"
   ]
  },
  {
   "cell_type": "code",
   "execution_count": null,
   "id": "21c629cc-b31f-4f07-b360-c9712d0835d0",
   "metadata": {},
   "outputs": [],
   "source": [
    "dt_primer = count_process.fit_transform(df_transformed)\n",
    "dt_primer.head()"
   ]
  },
  {
   "cell_type": "code",
   "execution_count": null,
   "id": "d8ad7226-8da7-4dbe-8eb9-b4f5c4bae9d7",
   "metadata": {},
   "outputs": [],
   "source": [
    "dt_primer.shape"
   ]
  },
  {
   "cell_type": "code",
   "execution_count": null,
   "id": "cc0576db-b82d-40c0-985a-f87eae245f37",
   "metadata": {},
   "outputs": [],
   "source": [
    "dt_primer.isnull().sum().tail()"
   ]
  },
  {
   "cell_type": "markdown",
   "id": "fcc48ea1-a169-4a7d-9fa4-d47fc13c0ad7",
   "metadata": {
    "tags": []
   },
   "source": [
    "#### Random Forest as Imputer"
   ]
  },
  {
   "cell_type": "code",
   "execution_count": null,
   "id": "ffea6902-3f65-4cd6-a35d-f7908e66a61c",
   "metadata": {},
   "outputs": [],
   "source": [
    "# Accuracy Measure\n",
    "\n",
    "def RandomForestImputerScore(dataframe, y_column):\n",
    "    \n",
    "    from sklearn.metrics import accuracy_score\n",
    "\n",
    "    \n",
    "    # Define the target and features\n",
    "    df = dataframe.dropna(inplace=False)\n",
    "    X = df.drop(y_column, axis=1, inplace=False)\n",
    "    y = df[y_column]\n",
    "    \n",
    "    # Split into training and test sets\n",
    "    X_train, X_test, y_train, y_test = train_test_split(X, y, test_size=0.33, random_state=0)\n",
    "    \n",
    "    # Perform RandomForestClassifier\n",
    "    rf_clf = RandomForestClassifier()\n",
    "    rf_clf.fit(X_train, y_train)\n",
    "    y_pred = rf_clf.predict(X_test)\n",
    "    \n",
    "    # Determine the accuracy of the model\n",
    "    accuracy_score = accuracy_score(y_test, y_pred).round(3)\n",
    "    \n",
    "    return f'Accuracy: {accuracy_score}'\n",
    "\n",
    "RandomForestImputerScore(dt_primer, 'passthrough__workclass')"
   ]
  },
  {
   "cell_type": "code",
   "execution_count": null,
   "id": "fe23c939-59a1-4c8a-a367-2f01995d6cf4",
   "metadata": {
    "tags": []
   },
   "outputs": [],
   "source": [
    "# Actual Implementation\n",
    "\n",
    "def RandomForestImputer(dataframe, y_column):\n",
    "    \n",
    "    # Define the target and features\n",
    "    df = dataframe.dropna(inplace=False)\n",
    "    X = df.drop(y_column, axis=1, inplace=False)\n",
    "    y = df[y_column]\n",
    "    \n",
    "    # Use all of the data as test set\n",
    "    dfx_test = dataframe.drop(y_column, axis=1)\n",
    "    dfy_test = dataframe[y_column]\n",
    "    \n",
    "    # Split into training and test sets\n",
    "    X_train, X_test, y_train, y_test = train_test_split(X, y, test_size=0.33, random_state=0)\n",
    "    \n",
    "    # Perform RandomForestClassifier\n",
    "    rf_clf = RandomForestClassifier()\n",
    "    rf_clf.fit(X_train, y_train)\n",
    "    y_pred = rf_clf.predict(dfx_test)\n",
    "    \n",
    "    return pd.DataFrame(y_pred, columns=[y_column])\n",
    "\n",
    "dt_primer.shape"
   ]
  },
  {
   "cell_type": "code",
   "execution_count": null,
   "id": "d0ca7942-386c-4028-be43-703d4c448bc5",
   "metadata": {
    "tags": []
   },
   "outputs": [],
   "source": [
    "try_lang = RandomForestImputer(dt_primer, 'passthrough__workclass')\n",
    "try_lang"
   ]
  },
  {
   "cell_type": "code",
   "execution_count": null,
   "id": "9d202680-1f08-4761-b2bc-5dabcbcc4d21",
   "metadata": {
    "tags": []
   },
   "outputs": [],
   "source": [
    "# rf_imp = FunctionTransformer(RandomForestImputer, kw_args={'y_column': 'passthrough__workclass'})"
   ]
  },
  {
   "cell_type": "markdown",
   "id": "1eb81044-ba20-40ef-bcc0-7feeefdcea7f",
   "metadata": {},
   "source": [
    "### Try\n",
    "\n",
    "Idiota, kung titignan mo yung underlying pattern kung bakit wala yung occupation, you can see na halos wala din yung workclass kapag NA yung occupation. So it is valid na tanggalin nalang natin yung rows na wala both sa workclass and occupation.\n",
    "\n",
    "\n",
    "Lesson Learned: Before imputing missing values, determine the type of missing data"
   ]
  },
  {
   "cell_type": "code",
   "execution_count": null,
   "id": "682832a3-8096-4295-985a-0abfb96167e2",
   "metadata": {
    "tags": []
   },
   "outputs": [],
   "source": [
    "raw_df.loc[raw_df['native.country'].isna()].tail(20)"
   ]
  },
  {
   "cell_type": "code",
   "execution_count": null,
   "id": "0db5681a-6c59-48ed-b986-3b017a8f574d",
   "metadata": {
    "tags": []
   },
   "outputs": [],
   "source": [
    "raw_df.loc[(raw_df['workclass'].isna()) & (raw_df['occupation'].isna())]"
   ]
  },
  {
   "cell_type": "code",
   "execution_count": null,
   "id": "fec52bac-90cf-42c1-ae2b-43b6c9bf04a5",
   "metadata": {},
   "outputs": [],
   "source": []
  },
  {
   "cell_type": "code",
   "execution_count": null,
   "id": "af9012b3-1d7b-4be5-9de2-a4d62c62e037",
   "metadata": {
    "tags": []
   },
   "outputs": [],
   "source": [
    "raw_df.isnull().sum()"
   ]
  },
  {
   "cell_type": "code",
   "execution_count": null,
   "id": "22e453c8-4e39-4fef-99fc-f7d4ba7dd0b4",
   "metadata": {
    "tags": []
   },
   "outputs": [],
   "source": [
    "df_copy = raw_df.copy()"
   ]
  },
  {
   "cell_type": "code",
   "execution_count": null,
   "id": "050c83f2-2f8c-41d3-befd-70e8b8c1adfd",
   "metadata": {
    "tags": []
   },
   "outputs": [],
   "source": [
    "df_drop_rows = df_copy.dropna(subset=['occupation'], axis=0)"
   ]
  },
  {
   "cell_type": "code",
   "execution_count": null,
   "id": "419b9fef-cf22-421d-a42c-74ce976f747a",
   "metadata": {
    "tags": []
   },
   "outputs": [],
   "source": [
    "df_drop_rows"
   ]
  },
  {
   "cell_type": "code",
   "execution_count": null,
   "id": "91d58455-4ba8-4143-81bb-e90e1e0e80b1",
   "metadata": {},
   "outputs": [],
   "source": []
  },
  {
   "cell_type": "code",
   "execution_count": null,
   "id": "10cec0f0-d8e7-4c79-9014-84d374c16076",
   "metadata": {},
   "outputs": [],
   "source": []
  },
  {
   "cell_type": "code",
   "execution_count": null,
   "id": "7012daab-9159-463b-b17e-2292e06f0e19",
   "metadata": {},
   "outputs": [],
   "source": [
    "# Apply KNNImputing or MICE"
   ]
  },
  {
   "cell_type": "markdown",
   "id": "c85fb03d-3b11-4dc7-83c6-9edcf6829aab",
   "metadata": {},
   "source": [
    "Ano kinalaman neto?!"
   ]
  },
  {
   "cell_type": "markdown",
   "id": "4cb61fc2-09a6-45b9-814e-57b8d3628470",
   "metadata": {},
   "source": [
    "* [ ] Age\n",
    "* [ ] workclass\n",
    "* [ ] fnlwght\n",
    "* [ ] education\n",
    "* [ ] education.num\n",
    "* [X] martial.status\n",
    "* [ ] occupation\n",
    "* [X] relationship\n",
    "* [ ] race\n",
    "* [X] sex\n",
    "* [ ] occupation\n",
    "* [ ] capital.gain\n",
    "* [ ] capital.loss\n",
    "* [ ] hours.per.week\n",
    "* [ ] native.country\n",
    "* [ ] income"
   ]
  }
 ],
 "metadata": {
  "kernelspec": {
   "display_name": "Python 3 (ipykernel)",
   "language": "python",
   "name": "python3"
  },
  "language_info": {
   "codemirror_mode": {
    "name": "ipython",
    "version": 3
   },
   "file_extension": ".py",
   "mimetype": "text/x-python",
   "name": "python",
   "nbconvert_exporter": "python",
   "pygments_lexer": "ipython3",
   "version": "3.11.2"
  }
 },
 "nbformat": 4,
 "nbformat_minor": 5
}
