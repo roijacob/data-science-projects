{
 "cells": [
  {
   "cell_type": "markdown",
   "id": "64340a99-39d8-4a02-9e21-2dc072d624c9",
   "metadata": {},
   "source": [
    "# Function Transformer\n",
    "\n",
    "---"
   ]
  },
  {
   "cell_type": "markdown",
   "id": "802af50b-62b6-4ebf-9788-40fefcca4a65",
   "metadata": {},
   "source": [
    "Import the necessary libraries"
   ]
  },
  {
   "cell_type": "code",
   "execution_count": 2,
   "id": "b891c235-5032-410c-9225-90b40eb0e1c2",
   "metadata": {},
   "outputs": [
    {
     "ename": "ModuleNotFoundError",
     "evalue": "No module named 'sklearn'",
     "output_type": "error",
     "traceback": [
      "\u001b[1;31m---------------------------------------------------------------------------\u001b[0m",
      "\u001b[1;31mModuleNotFoundError\u001b[0m                       Traceback (most recent call last)",
      "\u001b[1;32m~\\AppData\\Local\\Temp\\ipykernel_14500\\2794998739.py\u001b[0m in \u001b[0;36m<module>\u001b[1;34m\u001b[0m\n\u001b[0;32m      1\u001b[0m \u001b[1;32mimport\u001b[0m \u001b[0mpandas\u001b[0m \u001b[1;32mas\u001b[0m \u001b[0mpd\u001b[0m\u001b[1;33m\u001b[0m\u001b[1;33m\u001b[0m\u001b[0m\n\u001b[1;32m----> 2\u001b[1;33m \u001b[1;32mfrom\u001b[0m \u001b[0msklearn\u001b[0m\u001b[1;33m.\u001b[0m\u001b[0mpreprocessing\u001b[0m \u001b[1;32mimport\u001b[0m \u001b[0mFunctionTransformer\u001b[0m\u001b[1;33m\u001b[0m\u001b[1;33m\u001b[0m\u001b[0m\n\u001b[0m",
      "\u001b[1;31mModuleNotFoundError\u001b[0m: No module named 'sklearn'"
     ]
    }
   ],
   "source": [
    "import pandas as pd\n",
    "from sklearn.preprocessing import FunctionTransformer"
   ]
  },
  {
   "cell_type": "markdown",
   "id": "2ec165f3-5129-4844-8051-b25e8afe49b9",
   "metadata": {},
   "source": [
    "Create a custom function.<br>\n",
    "*Note that the function must return the dataframe*"
   ]
  },
  {
   "cell_type": "code",
   "execution_count": null,
   "id": "b48bc2b9-9e1e-4978-89cb-bb64638845c0",
   "metadata": {},
   "outputs": [],
   "source": [
    "# Define a custom function to replace a value in a dataframe\n",
    "def replace_value(df, column_name, old_value, new_value):\n",
    "    df[column_name].replace(old_value, new_value, inplace=True)\n",
    "    return df"
   ]
  },
  {
   "cell_type": "code",
   "execution_count": null,
   "id": "8eed0beb-8f9c-4174-9fca-26eed2d9dfa7",
   "metadata": {},
   "outputs": [],
   "source": [
    "# Create a FunctionTransformer object\n",
    "replace_transformer = FunctionTransformer(replace_value, \n",
    "         kw_args={'column_name': 'value', 'old_value': 0, 'new_value': -1})"
   ]
  },
  {
   "cell_type": "code",
   "execution_count": null,
   "id": "3b67b492-806c-4df6-901f-634844dd6620",
   "metadata": {},
   "outputs": [],
   "source": [
    "# Create a sample dataframe\n",
    "df = pd.DataFrame({'value': [1, 2, 0, 4, 5, 0, 7, 8]})"
   ]
  },
  {
   "cell_type": "code",
   "execution_count": null,
   "id": "fe3d922c-07b7-422f-be64-283d7d530e29",
   "metadata": {},
   "outputs": [],
   "source": [
    "# Apply the FunctionTransformer to the dataframe\n",
    "df_new = replace_transformer.transform(df)"
   ]
  },
  {
   "cell_type": "code",
   "execution_count": null,
   "id": "6d196ad4-b8fc-4bab-8e5d-66c645ce9166",
   "metadata": {},
   "outputs": [],
   "source": [
    "df_new"
   ]
  }
 ],
 "metadata": {
  "kernelspec": {
   "display_name": "Python 3 (ipykernel)",
   "language": "python",
   "name": "python3"
  },
  "language_info": {
   "codemirror_mode": {
    "name": "ipython",
    "version": 3
   },
   "file_extension": ".py",
   "mimetype": "text/x-python",
   "name": "python",
   "nbconvert_exporter": "python",
   "pygments_lexer": "ipython3",
   "version": "3.9.13"
  }
 },
 "nbformat": 4,
 "nbformat_minor": 5
}
