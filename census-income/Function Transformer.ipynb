{
 "cells": [
  {
   "cell_type": "markdown",
   "id": "64340a99-39d8-4a02-9e21-2dc072d624c9",
   "metadata": {},
   "source": [
    "# Function Transformer\n",
    "\n",
    "---"
   ]
  },
  {
   "cell_type": "markdown",
   "id": "802af50b-62b6-4ebf-9788-40fefcca4a65",
   "metadata": {},
   "source": [
    "Import the necessary libraries"
   ]
  },
  {
   "cell_type": "code",
   "execution_count": 1,
   "id": "b891c235-5032-410c-9225-90b40eb0e1c2",
   "metadata": {},
   "outputs": [],
   "source": [
    "import pandas as pd\n",
    "from sklearn.preprocessing import FunctionTransformer"
   ]
  },
  {
   "cell_type": "markdown",
   "id": "2ec165f3-5129-4844-8051-b25e8afe49b9",
   "metadata": {},
   "source": [
    "Create a custom function.<br>\n",
    "*Note that the function must return the dataframe*"
   ]
  },
  {
   "cell_type": "code",
   "execution_count": 2,
   "id": "b48bc2b9-9e1e-4978-89cb-bb64638845c0",
   "metadata": {},
   "outputs": [],
   "source": [
    "# Define a custom function to replace a value in a dataframe\n",
    "def replace_value(df, column_name, old_value, new_value):\n",
    "    df[column_name].replace(old_value, new_value, inplace=True)\n",
    "    return df"
   ]
  },
  {
   "cell_type": "code",
   "execution_count": 3,
   "id": "8eed0beb-8f9c-4174-9fca-26eed2d9dfa7",
   "metadata": {},
   "outputs": [],
   "source": [
    "# Create a FunctionTransformer object\n",
    "replace_transformer = FunctionTransformer(replace_value, \n",
    "         kw_args={'column_name': 'value', 'old_value': 0, 'new_value': -1})"
   ]
  },
  {
   "cell_type": "code",
   "execution_count": 4,
   "id": "3b67b492-806c-4df6-901f-634844dd6620",
   "metadata": {},
   "outputs": [],
   "source": [
    "# Create a sample dataframe\n",
    "df = pd.DataFrame({'value': [1, 2, 0, 4, 5, 0, 7, 8]})"
   ]
  },
  {
   "cell_type": "code",
   "execution_count": 5,
   "id": "fe3d922c-07b7-422f-be64-283d7d530e29",
   "metadata": {},
   "outputs": [],
   "source": [
    "# Apply the FunctionTransformer to the dataframe\n",
    "df_new = replace_transformer.transform(df)"
   ]
  },
  {
   "cell_type": "code",
   "execution_count": 6,
   "id": "6d196ad4-b8fc-4bab-8e5d-66c645ce9166",
   "metadata": {},
   "outputs": [
    {
     "data": {
      "text/html": [
       "<div>\n",
       "<style scoped>\n",
       "    .dataframe tbody tr th:only-of-type {\n",
       "        vertical-align: middle;\n",
       "    }\n",
       "\n",
       "    .dataframe tbody tr th {\n",
       "        vertical-align: top;\n",
       "    }\n",
       "\n",
       "    .dataframe thead th {\n",
       "        text-align: right;\n",
       "    }\n",
       "</style>\n",
       "<table border=\"1\" class=\"dataframe\">\n",
       "  <thead>\n",
       "    <tr style=\"text-align: right;\">\n",
       "      <th></th>\n",
       "      <th>value</th>\n",
       "    </tr>\n",
       "  </thead>\n",
       "  <tbody>\n",
       "    <tr>\n",
       "      <th>0</th>\n",
       "      <td>1</td>\n",
       "    </tr>\n",
       "    <tr>\n",
       "      <th>1</th>\n",
       "      <td>2</td>\n",
       "    </tr>\n",
       "    <tr>\n",
       "      <th>2</th>\n",
       "      <td>-1</td>\n",
       "    </tr>\n",
       "    <tr>\n",
       "      <th>3</th>\n",
       "      <td>4</td>\n",
       "    </tr>\n",
       "    <tr>\n",
       "      <th>4</th>\n",
       "      <td>5</td>\n",
       "    </tr>\n",
       "    <tr>\n",
       "      <th>5</th>\n",
       "      <td>-1</td>\n",
       "    </tr>\n",
       "    <tr>\n",
       "      <th>6</th>\n",
       "      <td>7</td>\n",
       "    </tr>\n",
       "    <tr>\n",
       "      <th>7</th>\n",
       "      <td>8</td>\n",
       "    </tr>\n",
       "  </tbody>\n",
       "</table>\n",
       "</div>"
      ],
      "text/plain": [
       "   value\n",
       "0      1\n",
       "1      2\n",
       "2     -1\n",
       "3      4\n",
       "4      5\n",
       "5     -1\n",
       "6      7\n",
       "7      8"
      ]
     },
     "execution_count": 6,
     "metadata": {},
     "output_type": "execute_result"
    }
   ],
   "source": [
    "df_new"
   ]
  }
 ],
 "metadata": {
  "kernelspec": {
   "display_name": "Python 3 (ipykernel)",
   "language": "python",
   "name": "python3"
  },
  "language_info": {
   "codemirror_mode": {
    "name": "ipython",
    "version": 3
   },
   "file_extension": ".py",
   "mimetype": "text/x-python",
   "name": "python",
   "nbconvert_exporter": "python",
   "pygments_lexer": "ipython3",
   "version": "3.9.13"
  }
 },
 "nbformat": 4,
 "nbformat_minor": 5
}
