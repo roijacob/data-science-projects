{
 "cells": [
  {
   "cell_type": "markdown",
   "id": "20d04bf3-0d74-4d89-b5b2-52c515f922df",
   "metadata": {},
   "source": [
    "## Opening and exploring different data types\n",
    "This project comes with different file formats from the [archive](https://archive.ics.uci.edu/ml/datasets/Adult) such as `.names`, `.data`, `.test`, and `.file`. Here are the ways on how to open each file format.\n",
    "\n",
    "* [x] DATA File\n",
    "* [x] NAMES File \n",
    "* [x] TEST File"
   ]
  },
  {
   "cell_type": "markdown",
   "id": "4e322e6e-0e61-4b51-a7c7-da21c4b37e91",
   "metadata": {
    "tags": []
   },
   "source": [
    "### Open DATA file\n",
    "For `(.data)`.\n",
    "\n",
    "---"
   ]
  }
 ],
 "metadata": {
  "kernelspec": {
   "display_name": "Python 3 (ipykernel)",
   "language": "python",
   "name": "python3"
  },
  "language_info": {
   "codemirror_mode": {
    "name": "ipython",
    "version": 3
   },
   "file_extension": ".py",
   "mimetype": "text/x-python",
   "name": "python",
   "nbconvert_exporter": "python",
   "pygments_lexer": "ipython3",
   "version": "3.9.13"
  }
 },
 "nbformat": 4,
 "nbformat_minor": 5
}
