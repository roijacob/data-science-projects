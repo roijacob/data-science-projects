{
 "cells": [
  {
   "cell_type": "markdown",
   "id": "4d887a17-ec2b-4aa7-87a3-85de2735d31e",
   "metadata": {},
   "source": [
    "# Hash Encoding\n",
    "---"
   ]
  },
  {
   "cell_type": "code",
   "execution_count": null,
   "id": "af415e29-92cc-47e8-b508-f5e977477262",
   "metadata": {},
   "outputs": [],
   "source": []
  },
  {
   "cell_type": "code",
   "execution_count": 15,
   "id": "25d54c4b-c020-4353-8cdc-60bfb817be34",
   "metadata": {},
   "outputs": [
    {
     "name": "stdout",
     "output_type": "stream",
     "text": [
      "   col_0  col_1  col_2  col_3  col_4         size  price\n",
      "0      0      0      1      0      0        small     10\n",
      "1      0      0      0      0      1       medium     12\n",
      "2      1      0      0      0      0        large     15\n",
      "3      0      0      0      0      1  extra large     14\n",
      "4      0      0      0      1      0       medium     16\n"
     ]
    }
   ],
   "source": [
    "import pandas as pd\n",
    "from category_encoders import HashingEncoder\n",
    "\n",
    "# Create a sample dataset\n",
    "data = {'color': ['red', 'green', 'blue', 'yellow', 'purple'],\n",
    "        'size': ['small', 'medium', 'large', 'extra large', 'medium'],\n",
    "        'price': [10, 12, 15, 14, 16]}\n",
    "df = pd.DataFrame(data)\n",
    "\n",
    "# Initialize the HashingEncoder\n",
    "encoder = HashingEncoder(cols=['color'], n_components=5)\n",
    "\n",
    "# Fit and transform the dataset\n",
    "encoded_df = encoder.fit_transform(df)\n",
    "\n",
    "# Display the encoded dataset\n",
    "print(encoded_df)"
   ]
  },
  {
   "cell_type": "code",
   "execution_count": 16,
   "id": "f2699920-5840-4f92-82dd-9988b85f40cf",
   "metadata": {},
   "outputs": [
    {
     "data": {
      "text/html": [
       "<div>\n",
       "<style scoped>\n",
       "    .dataframe tbody tr th:only-of-type {\n",
       "        vertical-align: middle;\n",
       "    }\n",
       "\n",
       "    .dataframe tbody tr th {\n",
       "        vertical-align: top;\n",
       "    }\n",
       "\n",
       "    .dataframe thead th {\n",
       "        text-align: right;\n",
       "    }\n",
       "</style>\n",
       "<table border=\"1\" class=\"dataframe\">\n",
       "  <thead>\n",
       "    <tr style=\"text-align: right;\">\n",
       "      <th></th>\n",
       "      <th>color</th>\n",
       "      <th>size</th>\n",
       "      <th>price</th>\n",
       "    </tr>\n",
       "  </thead>\n",
       "  <tbody>\n",
       "    <tr>\n",
       "      <th>0</th>\n",
       "      <td>red</td>\n",
       "      <td>small</td>\n",
       "      <td>10</td>\n",
       "    </tr>\n",
       "    <tr>\n",
       "      <th>1</th>\n",
       "      <td>green</td>\n",
       "      <td>medium</td>\n",
       "      <td>12</td>\n",
       "    </tr>\n",
       "    <tr>\n",
       "      <th>2</th>\n",
       "      <td>blue</td>\n",
       "      <td>large</td>\n",
       "      <td>15</td>\n",
       "    </tr>\n",
       "    <tr>\n",
       "      <th>3</th>\n",
       "      <td>yellow</td>\n",
       "      <td>extra large</td>\n",
       "      <td>14</td>\n",
       "    </tr>\n",
       "    <tr>\n",
       "      <th>4</th>\n",
       "      <td>purple</td>\n",
       "      <td>medium</td>\n",
       "      <td>16</td>\n",
       "    </tr>\n",
       "  </tbody>\n",
       "</table>\n",
       "</div>"
      ],
      "text/plain": [
       "    color         size  price\n",
       "0     red        small     10\n",
       "1   green       medium     12\n",
       "2    blue        large     15\n",
       "3  yellow  extra large     14\n",
       "4  purple       medium     16"
      ]
     },
     "execution_count": 16,
     "metadata": {},
     "output_type": "execute_result"
    }
   ],
   "source": [
    "df"
   ]
  },
  {
   "cell_type": "code",
   "execution_count": null,
   "id": "2188a422-b515-4d9d-a1f0-16549e737994",
   "metadata": {},
   "outputs": [],
   "source": []
  }
 ],
 "metadata": {
  "kernelspec": {
   "display_name": "Python 3 (ipykernel)",
   "language": "python",
   "name": "python3"
  },
  "language_info": {
   "codemirror_mode": {
    "name": "ipython",
    "version": 3
   },
   "file_extension": ".py",
   "mimetype": "text/x-python",
   "name": "python",
   "nbconvert_exporter": "python",
   "pygments_lexer": "ipython3",
   "version": "3.9.13"
  }
 },
 "nbformat": 4,
 "nbformat_minor": 5
}
