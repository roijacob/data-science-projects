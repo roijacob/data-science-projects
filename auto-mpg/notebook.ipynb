{
 "cells": [
  {
   "cell_type": "markdown",
   "id": "f7d432c5-bc67-4894-86b7-3447ae8cd10b",
   "metadata": {},
   "source": [
    "# Auto-MPG\n",
    "---"
   ]
  },
  {
   "cell_type": "markdown",
   "id": "e63c9434-75a7-4ce8-ae3c-ded362bcd789",
   "metadata": {},
   "source": [
    "### Import necessary libraries"
   ]
  },
  {
   "cell_type": "code",
   "execution_count": 1,
   "id": "c6b6e043-d2ec-48cd-b058-81c184e29074",
   "metadata": {},
   "outputs": [],
   "source": [
    "import numpy as np\n",
    "import pandas as pd\n",
    "import matplotlib.pyplot as plt\n",
    "from sklearn.model_selection import train_test_split"
   ]
  },
  {
   "cell_type": "markdown",
   "id": "26d75ebc-e63c-4635-840c-79eaf1f5debf",
   "metadata": {},
   "source": [
    "### Download the data"
   ]
  },
  {
   "cell_type": "code",
   "execution_count": 2,
   "id": "7ba3d535-ac61-42e1-a26c-de8d3a66f481",
   "metadata": {},
   "outputs": [
    {
     "data": {
      "text/html": [
       "<div>\n",
       "<style scoped>\n",
       "    .dataframe tbody tr th:only-of-type {\n",
       "        vertical-align: middle;\n",
       "    }\n",
       "\n",
       "    .dataframe tbody tr th {\n",
       "        vertical-align: top;\n",
       "    }\n",
       "\n",
       "    .dataframe thead th {\n",
       "        text-align: right;\n",
       "    }\n",
       "</style>\n",
       "<table border=\"1\" class=\"dataframe\">\n",
       "  <thead>\n",
       "    <tr style=\"text-align: right;\">\n",
       "      <th></th>\n",
       "      <th>mpg</th>\n",
       "      <th>cylinders</th>\n",
       "      <th>displacement</th>\n",
       "      <th>horsepower</th>\n",
       "      <th>weight</th>\n",
       "      <th>acceleration</th>\n",
       "      <th>model year</th>\n",
       "      <th>origin</th>\n",
       "      <th>car name</th>\n",
       "    </tr>\n",
       "  </thead>\n",
       "  <tbody>\n",
       "    <tr>\n",
       "      <th>0</th>\n",
       "      <td>18.0</td>\n",
       "      <td>8</td>\n",
       "      <td>307.0</td>\n",
       "      <td>130</td>\n",
       "      <td>3504</td>\n",
       "      <td>12.0</td>\n",
       "      <td>70</td>\n",
       "      <td>1</td>\n",
       "      <td>chevrolet chevelle malibu</td>\n",
       "    </tr>\n",
       "    <tr>\n",
       "      <th>1</th>\n",
       "      <td>15.0</td>\n",
       "      <td>8</td>\n",
       "      <td>350.0</td>\n",
       "      <td>165</td>\n",
       "      <td>3693</td>\n",
       "      <td>11.5</td>\n",
       "      <td>70</td>\n",
       "      <td>1</td>\n",
       "      <td>buick skylark 320</td>\n",
       "    </tr>\n",
       "    <tr>\n",
       "      <th>2</th>\n",
       "      <td>18.0</td>\n",
       "      <td>8</td>\n",
       "      <td>318.0</td>\n",
       "      <td>150</td>\n",
       "      <td>3436</td>\n",
       "      <td>11.0</td>\n",
       "      <td>70</td>\n",
       "      <td>1</td>\n",
       "      <td>plymouth satellite</td>\n",
       "    </tr>\n",
       "    <tr>\n",
       "      <th>3</th>\n",
       "      <td>16.0</td>\n",
       "      <td>8</td>\n",
       "      <td>304.0</td>\n",
       "      <td>150</td>\n",
       "      <td>3433</td>\n",
       "      <td>12.0</td>\n",
       "      <td>70</td>\n",
       "      <td>1</td>\n",
       "      <td>amc rebel sst</td>\n",
       "    </tr>\n",
       "    <tr>\n",
       "      <th>4</th>\n",
       "      <td>17.0</td>\n",
       "      <td>8</td>\n",
       "      <td>302.0</td>\n",
       "      <td>140</td>\n",
       "      <td>3449</td>\n",
       "      <td>10.5</td>\n",
       "      <td>70</td>\n",
       "      <td>1</td>\n",
       "      <td>ford torino</td>\n",
       "    </tr>\n",
       "  </tbody>\n",
       "</table>\n",
       "</div>"
      ],
      "text/plain": [
       "    mpg  cylinders  displacement horsepower  weight  acceleration  model year  \\\n",
       "0  18.0          8         307.0        130    3504          12.0          70   \n",
       "1  15.0          8         350.0        165    3693          11.5          70   \n",
       "2  18.0          8         318.0        150    3436          11.0          70   \n",
       "3  16.0          8         304.0        150    3433          12.0          70   \n",
       "4  17.0          8         302.0        140    3449          10.5          70   \n",
       "\n",
       "   origin                   car name  \n",
       "0       1  chevrolet chevelle malibu  \n",
       "1       1          buick skylark 320  \n",
       "2       1         plymouth satellite  \n",
       "3       1              amc rebel sst  \n",
       "4       1                ford torino  "
      ]
     },
     "execution_count": 2,
     "metadata": {},
     "output_type": "execute_result"
    }
   ],
   "source": [
    "df = pd.read_csv('files/datasets/auto-mpg.csv')\n",
    "df.head()"
   ]
  },
  {
   "cell_type": "markdown",
   "id": "a4a8d026-99d8-443d-9962-c0e7a83eb3cc",
   "metadata": {},
   "source": [
    "### Take a Quick Look at the Data"
   ]
  },
  {
   "cell_type": "code",
   "execution_count": 3,
   "id": "c5307d6e-5b4b-4c4b-8ca8-2e72baff8f49",
   "metadata": {},
   "outputs": [
    {
     "data": {
      "text/html": [
       "<div>\n",
       "<style scoped>\n",
       "    .dataframe tbody tr th:only-of-type {\n",
       "        vertical-align: middle;\n",
       "    }\n",
       "\n",
       "    .dataframe tbody tr th {\n",
       "        vertical-align: top;\n",
       "    }\n",
       "\n",
       "    .dataframe thead th {\n",
       "        text-align: right;\n",
       "    }\n",
       "</style>\n",
       "<table border=\"1\" class=\"dataframe\">\n",
       "  <thead>\n",
       "    <tr style=\"text-align: right;\">\n",
       "      <th></th>\n",
       "      <th>mpg</th>\n",
       "      <th>cylinders</th>\n",
       "      <th>displacement</th>\n",
       "      <th>horsepower</th>\n",
       "      <th>weight</th>\n",
       "      <th>acceleration</th>\n",
       "      <th>model year</th>\n",
       "      <th>origin</th>\n",
       "      <th>car name</th>\n",
       "    </tr>\n",
       "  </thead>\n",
       "  <tbody>\n",
       "    <tr>\n",
       "      <th>0</th>\n",
       "      <td>18.0</td>\n",
       "      <td>8</td>\n",
       "      <td>307.0</td>\n",
       "      <td>130</td>\n",
       "      <td>3504</td>\n",
       "      <td>12.0</td>\n",
       "      <td>70</td>\n",
       "      <td>1</td>\n",
       "      <td>chevrolet chevelle malibu</td>\n",
       "    </tr>\n",
       "    <tr>\n",
       "      <th>1</th>\n",
       "      <td>15.0</td>\n",
       "      <td>8</td>\n",
       "      <td>350.0</td>\n",
       "      <td>165</td>\n",
       "      <td>3693</td>\n",
       "      <td>11.5</td>\n",
       "      <td>70</td>\n",
       "      <td>1</td>\n",
       "      <td>buick skylark 320</td>\n",
       "    </tr>\n",
       "    <tr>\n",
       "      <th>2</th>\n",
       "      <td>18.0</td>\n",
       "      <td>8</td>\n",
       "      <td>318.0</td>\n",
       "      <td>150</td>\n",
       "      <td>3436</td>\n",
       "      <td>11.0</td>\n",
       "      <td>70</td>\n",
       "      <td>1</td>\n",
       "      <td>plymouth satellite</td>\n",
       "    </tr>\n",
       "    <tr>\n",
       "      <th>3</th>\n",
       "      <td>16.0</td>\n",
       "      <td>8</td>\n",
       "      <td>304.0</td>\n",
       "      <td>150</td>\n",
       "      <td>3433</td>\n",
       "      <td>12.0</td>\n",
       "      <td>70</td>\n",
       "      <td>1</td>\n",
       "      <td>amc rebel sst</td>\n",
       "    </tr>\n",
       "    <tr>\n",
       "      <th>4</th>\n",
       "      <td>17.0</td>\n",
       "      <td>8</td>\n",
       "      <td>302.0</td>\n",
       "      <td>140</td>\n",
       "      <td>3449</td>\n",
       "      <td>10.5</td>\n",
       "      <td>70</td>\n",
       "      <td>1</td>\n",
       "      <td>ford torino</td>\n",
       "    </tr>\n",
       "  </tbody>\n",
       "</table>\n",
       "</div>"
      ],
      "text/plain": [
       "    mpg  cylinders  displacement horsepower  weight  acceleration  model year  \\\n",
       "0  18.0          8         307.0        130    3504          12.0          70   \n",
       "1  15.0          8         350.0        165    3693          11.5          70   \n",
       "2  18.0          8         318.0        150    3436          11.0          70   \n",
       "3  16.0          8         304.0        150    3433          12.0          70   \n",
       "4  17.0          8         302.0        140    3449          10.5          70   \n",
       "\n",
       "   origin                   car name  \n",
       "0       1  chevrolet chevelle malibu  \n",
       "1       1          buick skylark 320  \n",
       "2       1         plymouth satellite  \n",
       "3       1              amc rebel sst  \n",
       "4       1                ford torino  "
      ]
     },
     "execution_count": 3,
     "metadata": {},
     "output_type": "execute_result"
    }
   ],
   "source": [
    "df.head()"
   ]
  },
  {
   "cell_type": "code",
   "execution_count": 4,
   "id": "f9470d6a-fd6a-4d13-88b1-1b8c566647ff",
   "metadata": {},
   "outputs": [
    {
     "name": "stdout",
     "output_type": "stream",
     "text": [
      "<class 'pandas.core.frame.DataFrame'>\n",
      "RangeIndex: 398 entries, 0 to 397\n",
      "Data columns (total 9 columns):\n",
      " #   Column        Non-Null Count  Dtype  \n",
      "---  ------        --------------  -----  \n",
      " 0   mpg           398 non-null    float64\n",
      " 1   cylinders     398 non-null    int64  \n",
      " 2   displacement  398 non-null    float64\n",
      " 3   horsepower    398 non-null    object \n",
      " 4   weight        398 non-null    int64  \n",
      " 5   acceleration  398 non-null    float64\n",
      " 6   model year    398 non-null    int64  \n",
      " 7   origin        398 non-null    int64  \n",
      " 8   car name      398 non-null    object \n",
      "dtypes: float64(3), int64(4), object(2)\n",
      "memory usage: 28.1+ KB\n"
     ]
    }
   ],
   "source": [
    "df.info()"
   ]
  },
  {
   "cell_type": "code",
   "execution_count": 5,
   "id": "2a83c6fe-a461-4609-9c72-3c3c02f4a38a",
   "metadata": {},
   "outputs": [
    {
     "data": {
      "image/png": "[encoded data removed]",
      "text/plain": [
       "<Figure size 1500x1000 with 9 Axes>"
      ]
     },
     "metadata": {},
     "output_type": "display_data"
    }
   ],
   "source": [
    "df.hist(bins=50, figsize=(15,10))\n",
    "plt.show()"
   ]
  },
  {
   "cell_type": "markdown",
   "id": "a5fe4022-2cfb-419f-ba38-2be37defad1a",
   "metadata": {
    "tags": []
   },
   "source": [
    "## Pandas Pipeline"
   ]
  },
  {
   "cell_type": "code",
   "execution_count": 6,
   "id": "43223ea2",
   "metadata": {},
   "outputs": [],
   "source": [
    "# Pipe 1\n",
    "\n",
    "def num_prefix(dataframe, str_column):\n",
    "    \n",
    "    # Apply function if the year is not in 19-- format    \n",
    "    if (dataframe[str_column] < 1000).all():\n",
    "        \n",
    "        # Apply prefix concatenation to the number   \n",
    "        dataframe[str_column] = dataframe[str_column].apply(lambda x: 1900 + x)\n",
    "    \n",
    "    else:\n",
    "        pass\n",
    "    \n",
    "    return dataframe "
   ]
  },
  {
   "cell_type": "code",
   "execution_count": 7,
   "id": "336500e0-8609-459e-ac69-7efc5beb54b3",
   "metadata": {},
   "outputs": [],
   "source": [
    "# Pipe 2\n",
    "\n",
    "def first_word_extract(dataframe, column, new_colname):\n",
    "    \n",
    "    # Change data type into string\n",
    "    dataframe[column] = dataframe[column].astype('str')\n",
    "    \n",
    "    # Split converted string and store it in a series\n",
    "    col_data = pd.Series(dtype='object')\n",
    "    col_data['phrase_aslist'] = dataframe[column].str.split()\n",
    "    \n",
    "    # Retrieve the first content in the splitted phrase contained as a list\n",
    "    dataframe[new_colname] = col_data['phrase_aslist'].apply(lambda words_aslist: words_aslist[0])\n",
    "    \n",
    "    return dataframe"
   ]
  },
  {
   "cell_type": "code",
   "execution_count": 8,
   "id": "336fe3ca-96d6-4490-86dd-b7c482421616",
   "metadata": {},
   "outputs": [],
   "source": [
    "df_pipe = (df.pipe(num_prefix, 'model year')\n",
    "             .pipe(first_word_extract, 'car name', 'car brand')\n",
    "          )"
   ]
  },
  {
   "cell_type": "code",
   "execution_count": 9,
   "id": "e704ad38-5857-4185-81f6-b44d3807d4af",
   "metadata": {},
   "outputs": [
    {
     "data": {
      "text/plain": [
       "ford             51\n",
       "chevrolet        43\n",
       "plymouth         31\n",
       "amc              28\n",
       "dodge            28\n",
       "toyota           25\n",
       "datsun           23\n",
       "buick            17\n",
       "pontiac          16\n",
       "volkswagen       15\n",
       "honda            13\n",
       "mercury          11\n",
       "mazda            10\n",
       "oldsmobile       10\n",
       "fiat              8\n",
       "peugeot           8\n",
       "audi              7\n",
       "chrysler          6\n",
       "vw                6\n",
       "volvo             6\n",
       "renault           5\n",
       "saab              4\n",
       "subaru            4\n",
       "opel              4\n",
       "chevy             3\n",
       "bmw               2\n",
       "cadillac          2\n",
       "maxda             2\n",
       "mercedes-benz     2\n",
       "triumph           1\n",
       "vokswagen         1\n",
       "mercedes          1\n",
       "hi                1\n",
       "capri             1\n",
       "chevroelt         1\n",
       "toyouta           1\n",
       "nissan            1\n",
       "Name: car brand, dtype: int64"
      ]
     },
     "execution_count": 9,
     "metadata": {},
     "output_type": "execute_result"
    }
   ],
   "source": [
    "df_pipe['car brand'].value_counts()"
   ]
  },
  {
   "cell_type": "code",
   "execution_count": 10,
   "id": "5e766ead-da6a-4bea-8eaa-24b405f12049",
   "metadata": {},
   "outputs": [],
   "source": [
    "rename_dict= {'toyouta': 'toyota', \n",
    "              'maxda': 'mazda', \n",
    "              'chevroelt': 'chevrolet', \n",
    "              'vw': 'volkswagen',\n",
    "              'vokswagen': 'volkswagen', \n",
    "              'chevy': 'chevrolet', \n",
    "              'mercedes': 'mercedes-benz',\n",
    "              'capri': 'ford'}\n",
    "\n",
    "df_pipe['car brand'] = df_pipe['car brand'].replace(rename_dict)\n",
    "\n",
    "df_remove = df_pipe[df_pipe['car brand'].isin(['nissan', 'hi', 'triumph'])]\n",
    "df_pipe = df_pipe.drop(df_remove.index)"
   ]
  },
  {
   "cell_type": "code",
   "execution_count": 11,
   "id": "c8091120-32bf-49e5-97d7-e8afeca3c099",
   "metadata": {},
   "outputs": [
    {
     "data": {
      "text/plain": [
       "ford             52\n",
       "chevrolet        47\n",
       "plymouth         31\n",
       "amc              28\n",
       "dodge            28\n",
       "toyota           26\n",
       "datsun           23\n",
       "volkswagen       22\n",
       "buick            17\n",
       "pontiac          16\n",
       "honda            13\n",
       "mazda            12\n",
       "mercury          11\n",
       "oldsmobile       10\n",
       "fiat              8\n",
       "peugeot           8\n",
       "audi              7\n",
       "volvo             6\n",
       "chrysler          6\n",
       "renault           5\n",
       "saab              4\n",
       "opel              4\n",
       "subaru            4\n",
       "mercedes-benz     3\n",
       "bmw               2\n",
       "cadillac          2\n",
       "Name: car brand, dtype: int64"
      ]
     },
     "execution_count": 11,
     "metadata": {},
     "output_type": "execute_result"
    }
   ],
   "source": [
    "df_pipe['car brand'].value_counts()"
   ]
  },
  {
   "cell_type": "markdown",
   "id": "1982f5b5-402d-4a74-b12e-f97a7e8d007c",
   "metadata": {},
   "source": [
    "----"
   ]
  },
  {
   "cell_type": "markdown",
   "id": "3831d386-692c-4f51-bee3-2650220d104b",
   "metadata": {},
   "source": [
    "### Split data as stratified"
   ]
  },
  {
   "cell_type": "code",
   "execution_count": 12,
   "id": "b117b631-af32-4417-a33f-cb4e1e3026bd",
   "metadata": {},
   "outputs": [],
   "source": [
    "df_pipe[\"mpg_cat\"] = pd.cut(df_pipe[\"mpg\"],\n",
    "                       bins=[0, 20, 30, 40, np.inf],\n",
    "                       labels=['Poor', 'Fair', 'Good', 'Excellent'])"
   ]
  },
  {
   "cell_type": "code",
   "execution_count": 13,
   "id": "d45f2fcf-d115-4e3d-ac99-97790f5b3d65",
   "metadata": {},
   "outputs": [
    {
     "data": {
      "image/png": "[encoded data removed]",
      "text/plain": [
       "<Figure size 640x480 with 1 Axes>"
      ]
     },
     "metadata": {},
     "output_type": "display_data"
    }
   ],
   "source": [
    "def plot_bins(dataframe, cat_column, x_axis_name, y_axis_name):\n",
    "    \n",
    "    cat_count = dataframe[cat_column].value_counts()\n",
    "    cat_count.sort_index().plot.bar(rot=0, grid=True)\n",
    "    \n",
    "    plt.xlabel(x_axis_name)\n",
    "    plt.ylabel(y_axis_name)\n",
    "    \n",
    "    return plt.show()\n",
    "\n",
    "plot_bins(df_pipe, 'mpg_cat', 'Mileage Rating', 'Number of Vehicles')"
   ]
  },
  {
   "cell_type": "code",
   "execution_count": 14,
   "id": "ece9110d-5979-4c6f-a34f-4d08fefc100d",
   "metadata": {},
   "outputs": [
    {
     "data": {
      "text/plain": [
       "Poor         0.405063\n",
       "Fair         0.379747\n",
       "Good         0.189873\n",
       "Excellent    0.025316\n",
       "Name: mpg_cat, dtype: float64"
      ]
     },
     "execution_count": 14,
     "metadata": {},
     "output_type": "execute_result"
    }
   ],
   "source": [
    "strat_train_set, strat_test_set = train_test_split(df_pipe, test_size=0.2, stratify=df_pipe[\"mpg_cat\"], random_state=42)\n",
    "\n",
    "# Check stratification of splitted data\n",
    "strat_test_set[\"mpg_cat\"].value_counts() / len(strat_test_set)\n",
    "\n",
    "# Check stratification of original data\n",
    "# df[\"mpg_cat\"].value_counts() / len(df)"
   ]
  },
  {
   "cell_type": "code",
   "execution_count": 15,
   "id": "479f368b-ee66-49c5-90d4-0db50349bf94",
   "metadata": {},
   "outputs": [],
   "source": [
    "mpg_df = strat_train_set.copy()"
   ]
  },
  {
   "cell_type": "markdown",
   "id": "8c5496bf-c5e2-49b8-b8e4-3695fe8f290a",
   "metadata": {},
   "source": [
    "---\n",
    "### Pipe 1"
   ]
  },
  {
   "cell_type": "code",
   "execution_count": 16,
   "id": "885c0faf-518f-4e06-9f0c-1b64a1aa9711",
   "metadata": {},
   "outputs": [
    {
     "data": {
      "text/html": [
       "<div>\n",
       "<style scoped>\n",
       "    .dataframe tbody tr th:only-of-type {\n",
       "        vertical-align: middle;\n",
       "    }\n",
       "\n",
       "    .dataframe tbody tr th {\n",
       "        vertical-align: top;\n",
       "    }\n",
       "\n",
       "    .dataframe thead th {\n",
       "        text-align: right;\n",
       "    }\n",
       "</style>\n",
       "<table border=\"1\" class=\"dataframe\">\n",
       "  <thead>\n",
       "    <tr style=\"text-align: right;\">\n",
       "      <th></th>\n",
       "      <th>mpg</th>\n",
       "      <th>cylinders</th>\n",
       "      <th>displacement</th>\n",
       "      <th>horsepower</th>\n",
       "      <th>weight</th>\n",
       "      <th>acceleration</th>\n",
       "      <th>model year</th>\n",
       "      <th>origin</th>\n",
       "      <th>car name</th>\n",
       "      <th>car brand</th>\n",
       "      <th>mpg_cat</th>\n",
       "    </tr>\n",
       "  </thead>\n",
       "  <tbody>\n",
       "    <tr>\n",
       "      <th>68</th>\n",
       "      <td>13.0</td>\n",
       "      <td>8</td>\n",
       "      <td>350.0</td>\n",
       "      <td>155</td>\n",
       "      <td>4502</td>\n",
       "      <td>13.5</td>\n",
       "      <td>1972</td>\n",
       "      <td>1</td>\n",
       "      <td>buick lesabre custom</td>\n",
       "      <td>buick</td>\n",
       "      <td>Poor</td>\n",
       "    </tr>\n",
       "    <tr>\n",
       "      <th>236</th>\n",
       "      <td>25.5</td>\n",
       "      <td>4</td>\n",
       "      <td>140.0</td>\n",
       "      <td>89</td>\n",
       "      <td>2755</td>\n",
       "      <td>15.8</td>\n",
       "      <td>1977</td>\n",
       "      <td>1</td>\n",
       "      <td>ford mustang ii 2+2</td>\n",
       "      <td>ford</td>\n",
       "      <td>Fair</td>\n",
       "    </tr>\n",
       "    <tr>\n",
       "      <th>307</th>\n",
       "      <td>26.8</td>\n",
       "      <td>6</td>\n",
       "      <td>173.0</td>\n",
       "      <td>115</td>\n",
       "      <td>2700</td>\n",
       "      <td>12.9</td>\n",
       "      <td>1979</td>\n",
       "      <td>1</td>\n",
       "      <td>oldsmobile omega brougham</td>\n",
       "      <td>oldsmobile</td>\n",
       "      <td>Fair</td>\n",
       "    </tr>\n",
       "    <tr>\n",
       "      <th>152</th>\n",
       "      <td>19.0</td>\n",
       "      <td>6</td>\n",
       "      <td>225.0</td>\n",
       "      <td>95</td>\n",
       "      <td>3264</td>\n",
       "      <td>16.0</td>\n",
       "      <td>1975</td>\n",
       "      <td>1</td>\n",
       "      <td>plymouth valiant custom</td>\n",
       "      <td>plymouth</td>\n",
       "      <td>Poor</td>\n",
       "    </tr>\n",
       "    <tr>\n",
       "      <th>374</th>\n",
       "      <td>23.0</td>\n",
       "      <td>4</td>\n",
       "      <td>151.0</td>\n",
       "      <td>?</td>\n",
       "      <td>3035</td>\n",
       "      <td>20.5</td>\n",
       "      <td>1982</td>\n",
       "      <td>1</td>\n",
       "      <td>amc concord dl</td>\n",
       "      <td>amc</td>\n",
       "      <td>Fair</td>\n",
       "    </tr>\n",
       "  </tbody>\n",
       "</table>\n",
       "</div>"
      ],
      "text/plain": [
       "      mpg  cylinders  displacement horsepower  weight  acceleration  \\\n",
       "68   13.0          8         350.0        155    4502          13.5   \n",
       "236  25.5          4         140.0         89    2755          15.8   \n",
       "307  26.8          6         173.0        115    2700          12.9   \n",
       "152  19.0          6         225.0         95    3264          16.0   \n",
       "374  23.0          4         151.0          ?    3035          20.5   \n",
       "\n",
       "     model year  origin                   car name   car brand mpg_cat  \n",
       "68         1972       1       buick lesabre custom       buick    Poor  \n",
       "236        1977       1        ford mustang ii 2+2        ford    Fair  \n",
       "307        1979       1  oldsmobile omega brougham  oldsmobile    Fair  \n",
       "152        1975       1    plymouth valiant custom    plymouth    Poor  \n",
       "374        1982       1             amc concord dl         amc    Fair  "
      ]
     },
     "execution_count": 16,
     "metadata": {},
     "output_type": "execute_result"
    }
   ],
   "source": [
    "mpg_df.head()"
   ]
  },
  {
   "cell_type": "code",
   "execution_count": 17,
   "id": "adef7053-15c0-44bb-a147-14850ba7bd6a",
   "metadata": {},
   "outputs": [
    {
     "name": "stdout",
     "output_type": "stream",
     "text": [
      "<class 'pandas.core.frame.DataFrame'>\n",
      "Int64Index: 316 entries, 68 to 188\n",
      "Data columns (total 11 columns):\n",
      " #   Column        Non-Null Count  Dtype   \n",
      "---  ------        --------------  -----   \n",
      " 0   mpg           316 non-null    float64 \n",
      " 1   cylinders     316 non-null    int64   \n",
      " 2   displacement  316 non-null    float64 \n",
      " 3   horsepower    316 non-null    object  \n",
      " 4   weight        316 non-null    int64   \n",
      " 5   acceleration  316 non-null    float64 \n",
      " 6   model year    316 non-null    int64   \n",
      " 7   origin        316 non-null    int64   \n",
      " 8   car name      316 non-null    object  \n",
      " 9   car brand     316 non-null    object  \n",
      " 10  mpg_cat       316 non-null    category\n",
      "dtypes: category(1), float64(3), int64(4), object(3)\n",
      "memory usage: 27.7+ KB\n"
     ]
    }
   ],
   "source": [
    "mpg_df.info()"
   ]
  },
  {
   "cell_type": "code",
   "execution_count": 18,
   "id": "b79e7977-cd38-4df8-921d-4704d0f7ebbf",
   "metadata": {},
   "outputs": [],
   "source": [
    "mpg_df['weight'] = mpg_df['weight'].astype('float64')"
   ]
  },
  {
   "cell_type": "code",
   "execution_count": 19,
   "id": "99ca8a8c-9a2b-49b9-8f68-0895e84f1bd3",
   "metadata": {},
   "outputs": [
    {
     "data": {
      "image/png": "[encoded data removed]",
      "text/plain": [
       "<Figure size 1500x1000 with 4 Axes>"
      ]
     },
     "metadata": {},
     "output_type": "display_data"
    }
   ],
   "source": [
    "mpg_df.select_dtypes(include='float64').hist(bins=40, figsize=(15,10))\n",
    "plt.show()"
   ]
  },
  {
   "cell_type": "code",
   "execution_count": 20,
   "id": "575482a8-7a4f-429e-aa1b-66dc6034ecf3",
   "metadata": {},
   "outputs": [
    {
     "name": "stdout",
     "output_type": "stream",
     "text": [
      "Skeweness of 0.50096 for mpg\n",
      "Skeweness of 0.68731 for displacement\n",
      "Skeweness of 0.52333 for weight\n",
      "Skeweness of 0.34052 for acceleration\n"
     ]
    }
   ],
   "source": [
    "for i in mpg_df.select_dtypes(include='float64'):\n",
    "    print(f'Skeweness of {mpg_df[i].skew().round(5)} for {i}')"
   ]
  },
  {
   "cell_type": "code",
   "execution_count": 21,
   "id": "525d77a7-48e4-4584-9a7e-98abd48ef382",
   "metadata": {},
   "outputs": [],
   "source": [
    "import pandas as pd\n",
    "\n",
    "def impute_central_tendency(dataframe, column):\n",
    "    central_tendency = [\"mean\", \"median\", \"mode\"]\n",
    "    impute_df = pd.DataFrame()\n",
    "    impute_column = dataframe[column]\n",
    "    \n",
    "    # Impute null values using cental tendency\n",
    "    for stat in central_tendency:\n",
    "        if stat == \"mode\":\n",
    "            impute_df[stat] = eval(f\"impute_column.fillna(value=impute_column.mode()[0])\")\n",
    "        else:\n",
    "            impute_df[stat] = eval(f\"impute_column.fillna(value=impute_column.{stat}())\")\n",
    "            \n",
    "    # Round all answers to nearest integer\n",
    "    round_impute = impute_df.round(0).astype(int)\n",
    "    \n",
    "    return round_impute"
   ]
  },
  {
   "cell_type": "code",
   "execution_count": 22,
   "id": "ccc94c5e-a9e4-4c83-baeb-49f7d95b5fd9",
   "metadata": {},
   "outputs": [],
   "source": [
    "def skew(dataframe):\n",
    "    # Create a dataframe with index names\n",
    "    df = pd.DataFrame(index=['mean', 'median', 'mode'])\n",
    "\n",
    "    # Columns to the dataframe\n",
    "    df['raw_skew'] = [dataframe[i].skew() for i in dataframe.columns]\n",
    "    df['log_skew'] = [dataframe[i].apply(np.log).skew() for i in dataframe.columns]\n",
    "    df['sqrt_skew'] = [dataframe[i].apply(np.sqrt).skew() for i in dataframe.columns]\n",
    "    df['cbrt_skew'] = [dataframe[i].apply(np.cbrt).skew() for i in dataframe.columns]\n",
    "    df['log1p_skew'] = [dataframe[i].apply(np.log1p).skew() for i in dataframe.columns]\n",
    "\n",
    "    return df\n",
    "\n",
    "# Argument must be a dataframe that contains mean, median and mode as the columns"
   ]
  },
  {
   "cell_type": "code",
   "execution_count": 23,
   "id": "fa85b8a1-eb10-46e0-a34d-d465c0f25bc6",
   "metadata": {},
   "outputs": [
    {
     "data": {
      "text/html": [
       "<div>\n",
       "<style scoped>\n",
       "    .dataframe tbody tr th:only-of-type {\n",
       "        vertical-align: middle;\n",
       "    }\n",
       "\n",
       "    .dataframe tbody tr th {\n",
       "        vertical-align: top;\n",
       "    }\n",
       "\n",
       "    .dataframe thead th {\n",
       "        text-align: right;\n",
       "    }\n",
       "</style>\n",
       "<table border=\"1\" class=\"dataframe\">\n",
       "  <thead>\n",
       "    <tr style=\"text-align: right;\">\n",
       "      <th></th>\n",
       "      <th>raw_skew</th>\n",
       "      <th>log_skew</th>\n",
       "      <th>sqrt_skew</th>\n",
       "      <th>cbrt_skew</th>\n",
       "      <th>log1p_skew</th>\n",
       "    </tr>\n",
       "  </thead>\n",
       "  <tbody>\n",
       "    <tr>\n",
       "      <th>mean</th>\n",
       "      <td>0.502831</td>\n",
       "      <td>-0.095154</td>\n",
       "      <td>0.203351</td>\n",
       "      <td>0.10396</td>\n",
       "      <td>-0.068121</td>\n",
       "    </tr>\n",
       "    <tr>\n",
       "      <th>median</th>\n",
       "      <td>0.502831</td>\n",
       "      <td>-0.095154</td>\n",
       "      <td>0.203351</td>\n",
       "      <td>0.10396</td>\n",
       "      <td>-0.068121</td>\n",
       "    </tr>\n",
       "    <tr>\n",
       "      <th>mode</th>\n",
       "      <td>0.502831</td>\n",
       "      <td>-0.095154</td>\n",
       "      <td>0.203351</td>\n",
       "      <td>0.10396</td>\n",
       "      <td>-0.068121</td>\n",
       "    </tr>\n",
       "  </tbody>\n",
       "</table>\n",
       "</div>"
      ],
      "text/plain": [
       "        raw_skew  log_skew  sqrt_skew  cbrt_skew  log1p_skew\n",
       "mean    0.502831 -0.095154   0.203351    0.10396   -0.068121\n",
       "median  0.502831 -0.095154   0.203351    0.10396   -0.068121\n",
       "mode    0.502831 -0.095154   0.203351    0.10396   -0.068121"
      ]
     },
     "execution_count": 23,
     "metadata": {},
     "output_type": "execute_result"
    }
   ],
   "source": [
    "new = skew(impute_central_tendency(mpg_df, 'mpg'))\n",
    "new"
   ]
  },
  {
   "cell_type": "code",
   "execution_count": 24,
   "id": "1ca8cb13-fef7-475e-8932-53219d254e13",
   "metadata": {},
   "outputs": [
    {
     "data": {
      "image/png": "[encoded data removed]",
      "text/plain": [
       "<Figure size 800x300 with 2 Axes>"
      ]
     },
     "metadata": {},
     "output_type": "display_data"
    }
   ],
   "source": [
    "params = {'dataframe':         mpg_df,\n",
    "          'column':            'mpg',\n",
    "          'bins':              15,\n",
    "          'equation':          np.log1p}\n",
    "\n",
    "def before_after_transform(dataframe, column, bins, equation):\n",
    "    fig, axis = plt.subplots(1, 2, figsize=(8, 3), sharey=True)\n",
    "    dataframe[column].hist(ax=axis[0], bins=bins)\n",
    "    dataframe[column].apply(equation).hist(ax=axis[1], bins=bins)\n",
    "\n",
    "    # Set labels\n",
    "    axis[0].set_xlabel(column)\n",
    "    axis[1].set_xlabel(f'log of {column}')\n",
    "    axis[0].set_ylabel(f'{column} histogram')\n",
    "    \n",
    "    return plt.show()\n",
    "\n",
    "before_after_transform(**params)"
   ]
  },
  {
   "cell_type": "markdown",
   "id": "c67df37d-99c9-4bb9-957e-f2fbf99c6801",
   "metadata": {},
   "source": [
    "Acceleration: np.sqrt Transformation <br>\n",
    "Displacement: np.log Transformation <br>\n",
    "Weight: np.log Transformation <br>\n",
    "mpg: np.log1p Transformation"
   ]
  },
  {
   "cell_type": "markdown",
   "id": "10c9e3f4-b182-4b53-a5a9-2e1e496739d5",
   "metadata": {},
   "source": [
    "---"
   ]
  },
  {
   "cell_type": "markdown",
   "id": "ed50401f-d257-471b-af86-4ec5194ac5af",
   "metadata": {},
   "source": [
    "## One hot encoding for car brands"
   ]
  },
  {
   "cell_type": "code",
   "execution_count": 25,
   "id": "12334303-b13b-44b1-bf5f-a747bcbf1fc4",
   "metadata": {},
   "outputs": [],
   "source": [
    "from sklearn import set_config\n",
    "from sklearn.compose import ColumnTransformer\n",
    "from sklearn.impute import SimpleImputer\n",
    "from sklearn.pipeline import make_pipeline\n",
    "from sklearn.preprocessing import FunctionTransformer\n",
    "\n",
    "set_config(transform_output=\"pandas\")"
   ]
  },
  {
   "cell_type": "code",
   "execution_count": 26,
   "id": "33d5a4ca-94f1-44e8-9540-504fd679e205",
   "metadata": {},
   "outputs": [],
   "source": [
    "imputer = SimpleImputer(strategy=\"median\")\n",
    "log_transformer = FunctionTransformer(np.log, feature_names_out=\"one-to-one\")\n",
    "sqrt_transformer = FunctionTransformer(np.sqrt, feature_names_out=\"one-to-one\")"
   ]
  },
  {
   "cell_type": "code",
   "execution_count": 27,
   "id": "f4898c89-36c2-4005-b704-be2dff159672",
   "metadata": {},
   "outputs": [],
   "source": [
    "log_pipeline = make_pipeline(imputer, log_transformer)\n",
    "sqrt_pipeline = make_pipeline(imputer, sqrt_transformer)"
   ]
  },
  {
   "cell_type": "code",
   "execution_count": 28,
   "id": "1c63c6ff-389b-4018-bb23-e1e7094595a7",
   "metadata": {},
   "outputs": [],
   "source": [
    "process = ColumnTransformer([\n",
    "    (\"log\", log_pipeline, ['weight', 'displacement']),\n",
    "    (\"sqrt\", sqrt_pipeline, ['acceleration'])\n",
    "    ])"
   ]
  },
  {
   "cell_type": "code",
   "execution_count": 29,
   "id": "e0eea2ec-f885-4184-a146-462dc3117059",
   "metadata": {},
   "outputs": [],
   "source": [
    "data = process.fit_transform(mpg_df)"
   ]
  },
  {
   "cell_type": "code",
   "execution_count": 30,
   "id": "574a5055-6170-468f-9591-0bff65b2519f",
   "metadata": {},
   "outputs": [
    {
     "data": {
      "text/html": [
       "<div>\n",
       "<style scoped>\n",
       "    .dataframe tbody tr th:only-of-type {\n",
       "        vertical-align: middle;\n",
       "    }\n",
       "\n",
       "    .dataframe tbody tr th {\n",
       "        vertical-align: top;\n",
       "    }\n",
       "\n",
       "    .dataframe thead th {\n",
       "        text-align: right;\n",
       "    }\n",
       "</style>\n",
       "<table border=\"1\" class=\"dataframe\">\n",
       "  <thead>\n",
       "    <tr style=\"text-align: right;\">\n",
       "      <th></th>\n",
       "      <th>log__weight</th>\n",
       "      <th>log__displacement</th>\n",
       "      <th>sqrt__acceleration</th>\n",
       "    </tr>\n",
       "  </thead>\n",
       "  <tbody>\n",
       "    <tr>\n",
       "      <th>68</th>\n",
       "      <td>8.412277</td>\n",
       "      <td>5.857933</td>\n",
       "      <td>3.674235</td>\n",
       "    </tr>\n",
       "    <tr>\n",
       "      <th>236</th>\n",
       "      <td>7.921173</td>\n",
       "      <td>4.941642</td>\n",
       "      <td>3.974921</td>\n",
       "    </tr>\n",
       "    <tr>\n",
       "      <th>307</th>\n",
       "      <td>7.901007</td>\n",
       "      <td>5.153292</td>\n",
       "      <td>3.591657</td>\n",
       "    </tr>\n",
       "    <tr>\n",
       "      <th>152</th>\n",
       "      <td>8.090709</td>\n",
       "      <td>5.416100</td>\n",
       "      <td>4.000000</td>\n",
       "    </tr>\n",
       "    <tr>\n",
       "      <th>374</th>\n",
       "      <td>8.017967</td>\n",
       "      <td>5.017280</td>\n",
       "      <td>4.527693</td>\n",
       "    </tr>\n",
       "    <tr>\n",
       "      <th>...</th>\n",
       "      <td>...</td>\n",
       "      <td>...</td>\n",
       "      <td>...</td>\n",
       "    </tr>\n",
       "    <tr>\n",
       "      <th>219</th>\n",
       "      <td>7.740664</td>\n",
       "      <td>4.804021</td>\n",
       "      <td>3.937004</td>\n",
       "    </tr>\n",
       "    <tr>\n",
       "      <th>264</th>\n",
       "      <td>8.072467</td>\n",
       "      <td>5.710427</td>\n",
       "      <td>3.346640</td>\n",
       "    </tr>\n",
       "    <tr>\n",
       "      <th>375</th>\n",
       "      <td>7.590852</td>\n",
       "      <td>4.653960</td>\n",
       "      <td>3.911521</td>\n",
       "    </tr>\n",
       "    <tr>\n",
       "      <th>390</th>\n",
       "      <td>7.887959</td>\n",
       "      <td>4.969813</td>\n",
       "      <td>3.728270</td>\n",
       "    </tr>\n",
       "    <tr>\n",
       "      <th>188</th>\n",
       "      <td>8.340456</td>\n",
       "      <td>5.762051</td>\n",
       "      <td>3.605551</td>\n",
       "    </tr>\n",
       "  </tbody>\n",
       "</table>\n",
       "<p>316 rows × 3 columns</p>\n",
       "</div>"
      ],
      "text/plain": [
       "     log__weight  log__displacement  sqrt__acceleration\n",
       "68      8.412277           5.857933            3.674235\n",
       "236     7.921173           4.941642            3.974921\n",
       "307     7.901007           5.153292            3.591657\n",
       "152     8.090709           5.416100            4.000000\n",
       "374     8.017967           5.017280            4.527693\n",
       "..           ...                ...                 ...\n",
       "219     7.740664           4.804021            3.937004\n",
       "264     8.072467           5.710427            3.346640\n",
       "375     7.590852           4.653960            3.911521\n",
       "390     7.887959           4.969813            3.728270\n",
       "188     8.340456           5.762051            3.605551\n",
       "\n",
       "[316 rows x 3 columns]"
      ]
     },
     "execution_count": 30,
     "metadata": {},
     "output_type": "execute_result"
    }
   ],
   "source": [
    "data"
   ]
  },
  {
   "cell_type": "markdown",
   "id": "0856740c-b8ca-4dd1-b52d-67ac08f24937",
   "metadata": {},
   "source": [
    "For next study: Target Encoding <br>\n",
    "https://www.youtube.com/watch?v=nd7vc4MZQz4"
   ]
  }
 ],
 "metadata": {
  "kernelspec": {
   "display_name": "Python 3 (ipykernel)",
   "language": "python",
   "name": "python3"
  },
  "language_info": {
   "codemirror_mode": {
    "name": "ipython",
    "version": 3
   },
   "file_extension": ".py",
   "mimetype": "text/x-python",
   "name": "python",
   "nbconvert_exporter": "python",
   "pygments_lexer": "ipython3",
   "version": "3.9.13"
  }
 },
 "nbformat": 4,
 "nbformat_minor": 5
}
