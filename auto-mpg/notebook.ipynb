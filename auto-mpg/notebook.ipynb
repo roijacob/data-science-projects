{
 "cells": [
  {
   "cell_type": "markdown",
   "id": "f7d432c5-bc67-4894-86b7-3447ae8cd10b",
   "metadata": {},
   "source": [
    "# Auto-MPG\n",
    "---"
   ]
  },
  {
   "cell_type": "markdown",
   "id": "e63c9434-75a7-4ce8-ae3c-ded362bcd789",
   "metadata": {},
   "source": [
    "### Import necessary libraries"
   ]
  },
  {
   "cell_type": "code",
   "execution_count": 1,
   "id": "c6b6e043-d2ec-48cd-b058-81c184e29074",
   "metadata": {},
   "outputs": [],
   "source": [
    "import numpy as np\n",
    "import pandas as pd\n",
    "import matplotlib.pyplot as plt\n",
    "from sklearn.model_selection import train_test_split"
   ]
  },
  {
   "cell_type": "markdown",
   "id": "26d75ebc-e63c-4635-840c-79eaf1f5debf",
   "metadata": {},
   "source": [
    "### Download the data"
   ]
  },
  {
   "cell_type": "code",
   "execution_count": 2,
   "id": "7ba3d535-ac61-42e1-a26c-de8d3a66f481",
   "metadata": {},
   "outputs": [
    {
     "data": {
      "text/html": [
       "<div>\n",
       "<style scoped>\n",
       "    .dataframe tbody tr th:only-of-type {\n",
       "        vertical-align: middle;\n",
       "    }\n",
       "\n",
       "    .dataframe tbody tr th {\n",
       "        vertical-align: top;\n",
       "    }\n",
       "\n",
       "    .dataframe thead th {\n",
       "        text-align: right;\n",
       "    }\n",
       "</style>\n",
       "<table border=\"1\" class=\"dataframe\">\n",
       "  <thead>\n",
       "    <tr style=\"text-align: right;\">\n",
       "      <th></th>\n",
       "      <th>mpg</th>\n",
       "      <th>cylinders</th>\n",
       "      <th>displacement</th>\n",
       "      <th>horsepower</th>\n",
       "      <th>weight</th>\n",
       "      <th>acceleration</th>\n",
       "      <th>model year</th>\n",
       "      <th>origin</th>\n",
       "      <th>car name</th>\n",
       "    </tr>\n",
       "  </thead>\n",
       "  <tbody>\n",
       "    <tr>\n",
       "      <th>0</th>\n",
       "      <td>18.0</td>\n",
       "      <td>8</td>\n",
       "      <td>307.0</td>\n",
       "      <td>130</td>\n",
       "      <td>3504</td>\n",
       "      <td>12.0</td>\n",
       "      <td>70</td>\n",
       "      <td>1</td>\n",
       "      <td>chevrolet chevelle malibu</td>\n",
       "    </tr>\n",
       "    <tr>\n",
       "      <th>1</th>\n",
       "      <td>15.0</td>\n",
       "      <td>8</td>\n",
       "      <td>350.0</td>\n",
       "      <td>165</td>\n",
       "      <td>3693</td>\n",
       "      <td>11.5</td>\n",
       "      <td>70</td>\n",
       "      <td>1</td>\n",
       "      <td>buick skylark 320</td>\n",
       "    </tr>\n",
       "    <tr>\n",
       "      <th>2</th>\n",
       "      <td>18.0</td>\n",
       "      <td>8</td>\n",
       "      <td>318.0</td>\n",
       "      <td>150</td>\n",
       "      <td>3436</td>\n",
       "      <td>11.0</td>\n",
       "      <td>70</td>\n",
       "      <td>1</td>\n",
       "      <td>plymouth satellite</td>\n",
       "    </tr>\n",
       "    <tr>\n",
       "      <th>3</th>\n",
       "      <td>16.0</td>\n",
       "      <td>8</td>\n",
       "      <td>304.0</td>\n",
       "      <td>150</td>\n",
       "      <td>3433</td>\n",
       "      <td>12.0</td>\n",
       "      <td>70</td>\n",
       "      <td>1</td>\n",
       "      <td>amc rebel sst</td>\n",
       "    </tr>\n",
       "    <tr>\n",
       "      <th>4</th>\n",
       "      <td>17.0</td>\n",
       "      <td>8</td>\n",
       "      <td>302.0</td>\n",
       "      <td>140</td>\n",
       "      <td>3449</td>\n",
       "      <td>10.5</td>\n",
       "      <td>70</td>\n",
       "      <td>1</td>\n",
       "      <td>ford torino</td>\n",
       "    </tr>\n",
       "  </tbody>\n",
       "</table>\n",
       "</div>"
      ],
      "text/plain": [
       "    mpg  cylinders  displacement horsepower  weight  acceleration  model year  \\\n",
       "0  18.0          8         307.0        130    3504          12.0          70   \n",
       "1  15.0          8         350.0        165    3693          11.5          70   \n",
       "2  18.0          8         318.0        150    3436          11.0          70   \n",
       "3  16.0          8         304.0        150    3433          12.0          70   \n",
       "4  17.0          8         302.0        140    3449          10.5          70   \n",
       "\n",
       "   origin                   car name  \n",
       "0       1  chevrolet chevelle malibu  \n",
       "1       1          buick skylark 320  \n",
       "2       1         plymouth satellite  \n",
       "3       1              amc rebel sst  \n",
       "4       1                ford torino  "
      ]
     },
     "execution_count": 2,
     "metadata": {},
     "output_type": "execute_result"
    }
   ],
   "source": [
    "df = pd.read_csv('files/datasets/auto-mpg.csv')\n",
    "df.head()"
   ]
  },
  {
   "cell_type": "markdown",
   "id": "a4a8d026-99d8-443d-9962-c0e7a83eb3cc",
   "metadata": {},
   "source": [
    "### Take a Quick Look at the Data"
   ]
  },
  {
   "cell_type": "code",
   "execution_count": 3,
   "id": "c5307d6e-5b4b-4c4b-8ca8-2e72baff8f49",
   "metadata": {},
   "outputs": [
    {
     "data": {
      "text/html": [
       "<div>\n",
       "<style scoped>\n",
       "    .dataframe tbody tr th:only-of-type {\n",
       "        vertical-align: middle;\n",
       "    }\n",
       "\n",
       "    .dataframe tbody tr th {\n",
       "        vertical-align: top;\n",
       "    }\n",
       "\n",
       "    .dataframe thead th {\n",
       "        text-align: right;\n",
       "    }\n",
       "</style>\n",
       "<table border=\"1\" class=\"dataframe\">\n",
       "  <thead>\n",
       "    <tr style=\"text-align: right;\">\n",
       "      <th></th>\n",
       "      <th>mpg</th>\n",
       "      <th>cylinders</th>\n",
       "      <th>displacement</th>\n",
       "      <th>horsepower</th>\n",
       "      <th>weight</th>\n",
       "      <th>acceleration</th>\n",
       "      <th>model year</th>\n",
       "      <th>origin</th>\n",
       "      <th>car name</th>\n",
       "    </tr>\n",
       "  </thead>\n",
       "  <tbody>\n",
       "    <tr>\n",
       "      <th>0</th>\n",
       "      <td>18.0</td>\n",
       "      <td>8</td>\n",
       "      <td>307.0</td>\n",
       "      <td>130</td>\n",
       "      <td>3504</td>\n",
       "      <td>12.0</td>\n",
       "      <td>70</td>\n",
       "      <td>1</td>\n",
       "      <td>chevrolet chevelle malibu</td>\n",
       "    </tr>\n",
       "    <tr>\n",
       "      <th>1</th>\n",
       "      <td>15.0</td>\n",
       "      <td>8</td>\n",
       "      <td>350.0</td>\n",
       "      <td>165</td>\n",
       "      <td>3693</td>\n",
       "      <td>11.5</td>\n",
       "      <td>70</td>\n",
       "      <td>1</td>\n",
       "      <td>buick skylark 320</td>\n",
       "    </tr>\n",
       "    <tr>\n",
       "      <th>2</th>\n",
       "      <td>18.0</td>\n",
       "      <td>8</td>\n",
       "      <td>318.0</td>\n",
       "      <td>150</td>\n",
       "      <td>3436</td>\n",
       "      <td>11.0</td>\n",
       "      <td>70</td>\n",
       "      <td>1</td>\n",
       "      <td>plymouth satellite</td>\n",
       "    </tr>\n",
       "    <tr>\n",
       "      <th>3</th>\n",
       "      <td>16.0</td>\n",
       "      <td>8</td>\n",
       "      <td>304.0</td>\n",
       "      <td>150</td>\n",
       "      <td>3433</td>\n",
       "      <td>12.0</td>\n",
       "      <td>70</td>\n",
       "      <td>1</td>\n",
       "      <td>amc rebel sst</td>\n",
       "    </tr>\n",
       "    <tr>\n",
       "      <th>4</th>\n",
       "      <td>17.0</td>\n",
       "      <td>8</td>\n",
       "      <td>302.0</td>\n",
       "      <td>140</td>\n",
       "      <td>3449</td>\n",
       "      <td>10.5</td>\n",
       "      <td>70</td>\n",
       "      <td>1</td>\n",
       "      <td>ford torino</td>\n",
       "    </tr>\n",
       "  </tbody>\n",
       "</table>\n",
       "</div>"
      ],
      "text/plain": [
       "    mpg  cylinders  displacement horsepower  weight  acceleration  model year  \\\n",
       "0  18.0          8         307.0        130    3504          12.0          70   \n",
       "1  15.0          8         350.0        165    3693          11.5          70   \n",
       "2  18.0          8         318.0        150    3436          11.0          70   \n",
       "3  16.0          8         304.0        150    3433          12.0          70   \n",
       "4  17.0          8         302.0        140    3449          10.5          70   \n",
       "\n",
       "   origin                   car name  \n",
       "0       1  chevrolet chevelle malibu  \n",
       "1       1          buick skylark 320  \n",
       "2       1         plymouth satellite  \n",
       "3       1              amc rebel sst  \n",
       "4       1                ford torino  "
      ]
     },
     "execution_count": 3,
     "metadata": {},
     "output_type": "execute_result"
    }
   ],
   "source": [
    "df.head()"
   ]
  },
  {
   "cell_type": "code",
   "execution_count": 4,
   "id": "f9470d6a-fd6a-4d13-88b1-1b8c566647ff",
   "metadata": {},
   "outputs": [
    {
     "name": "stdout",
     "output_type": "stream",
     "text": [
      "<class 'pandas.core.frame.DataFrame'>\n",
      "RangeIndex: 398 entries, 0 to 397\n",
      "Data columns (total 9 columns):\n",
      " #   Column        Non-Null Count  Dtype  \n",
      "---  ------        --------------  -----  \n",
      " 0   mpg           398 non-null    float64\n",
      " 1   cylinders     398 non-null    int64  \n",
      " 2   displacement  398 non-null    float64\n",
      " 3   horsepower    398 non-null    object \n",
      " 4   weight        398 non-null    int64  \n",
      " 5   acceleration  398 non-null    float64\n",
      " 6   model year    398 non-null    int64  \n",
      " 7   origin        398 non-null    int64  \n",
      " 8   car name      398 non-null    object \n",
      "dtypes: float64(3), int64(4), object(2)\n",
      "memory usage: 28.1+ KB\n"
     ]
    }
   ],
   "source": [
    "df.info()"
   ]
  },
  {
   "cell_type": "code",
   "execution_count": 5,
   "id": "2a83c6fe-a461-4609-9c72-3c3c02f4a38a",
   "metadata": {},
   "outputs": [
    {
     "data": {
      "image/png": "[encoded data removed]",
      "text/plain": [
       "<Figure size 1500x1000 with 9 Axes>"
      ]
     },
     "metadata": {},
     "output_type": "display_data"
    }
   ],
   "source": [
    "df.hist(bins=50, figsize=(15,10))\n",
    "plt.show()"
   ]
  },
  {
   "cell_type": "markdown",
   "id": "1982f5b5-402d-4a74-b12e-f97a7e8d007c",
   "metadata": {},
   "source": [
    "----"
   ]
  },
  {
   "cell_type": "markdown",
   "id": "3831d386-692c-4f51-bee3-2650220d104b",
   "metadata": {},
   "source": [
    "### Split data as stratified"
   ]
  },
  {
   "cell_type": "code",
   "execution_count": 6,
   "id": "b117b631-af32-4417-a33f-cb4e1e3026bd",
   "metadata": {},
   "outputs": [],
   "source": [
    "df[\"mpg_cat\"] = pd.cut(df[\"mpg\"],\n",
    "                       bins=[0, 20, 30, 40, np.inf],\n",
    "                       labels=['Poor', 'Fair', 'Good', 'Excellent'])"
   ]
  },
  {
   "cell_type": "code",
   "execution_count": 7,
   "id": "d45f2fcf-d115-4e3d-ac99-97790f5b3d65",
   "metadata": {},
   "outputs": [
    {
     "data": {
      "image/png": "[encoded data removed]",
      "text/plain": [
       "<Figure size 640x480 with 1 Axes>"
      ]
     },
     "metadata": {},
     "output_type": "display_data"
    }
   ],
   "source": [
    "def plot_bins(dataframe, cat_column, x_axis_name, y_axis_name):\n",
    "    \n",
    "    cat_count = dataframe[cat_column].value_counts()\n",
    "    cat_count.sort_index().plot.bar(rot=0, grid=True)\n",
    "    \n",
    "    plt.xlabel(x_axis_name)\n",
    "    plt.ylabel(y_axis_name)\n",
    "    \n",
    "    return plt.show()\n",
    "\n",
    "plot_bins(df, 'mpg_cat', 'Mileage Rating', 'Number of Vehicles')"
   ]
  },
  {
   "cell_type": "code",
   "execution_count": 8,
   "id": "ece9110d-5979-4c6f-a34f-4d08fefc100d",
   "metadata": {},
   "outputs": [
    {
     "data": {
      "text/plain": [
       "Poor         0.4000\n",
       "Fair         0.3875\n",
       "Good         0.1875\n",
       "Excellent    0.0250\n",
       "Name: mpg_cat, dtype: float64"
      ]
     },
     "execution_count": 8,
     "metadata": {},
     "output_type": "execute_result"
    }
   ],
   "source": [
    "strat_train_set, strat_test_set = train_test_split(df, test_size=0.2, stratify=df[\"mpg_cat\"], random_state=42)\n",
    "\n",
    "# Check stratification of splitted data\n",
    "strat_test_set[\"mpg_cat\"].value_counts() / len(strat_test_set)\n",
    "\n",
    "# Check stratification of original data\n",
    "# df[\"mpg_cat\"].value_counts() / len(df)"
   ]
  },
  {
   "cell_type": "code",
   "execution_count": 9,
   "id": "479f368b-ee66-49c5-90d4-0db50349bf94",
   "metadata": {},
   "outputs": [],
   "source": [
    "mpg_df = strat_train_set.copy()"
   ]
  },
  {
   "cell_type": "markdown",
   "id": "8c5496bf-c5e2-49b8-b8e4-3695fe8f290a",
   "metadata": {},
   "source": [
    "---\n",
    "### Pipe 1"
   ]
  },
  {
   "cell_type": "code",
   "execution_count": 10,
   "id": "f9e5265e-b795-4a76-a1e8-4a7f5cfedbc7",
   "metadata": {},
   "outputs": [],
   "source": [
    "def num_prefix(dataframe, str_column):\n",
    "    \n",
    "    # Apply function if the year is not in 19-- format    \n",
    "    if (dataframe[str_column] < 1000).all():\n",
    "        \n",
    "        # Apply prefix concatenation to the number   \n",
    "        dataframe[str_column] = dataframe[str_column].apply(lambda x: 1900 + x)\n",
    "    \n",
    "    else:\n",
    "        pass\n",
    "    \n",
    "    return dataframe "
   ]
  },
  {
   "cell_type": "raw",
   "id": "ef1031c4-a414-48ed-a1b0-619985eef6eb",
   "metadata": {},
   "source": [
    "new_df = num_prefix(df, 'model year')\n",
    "new_df"
   ]
  },
  {
   "cell_type": "markdown",
   "id": "4df7f06c-5d49-48b0-b8bb-6d83538756a5",
   "metadata": {},
   "source": [
    "---\n",
    "### Pipe 2"
   ]
  },
  {
   "cell_type": "code",
   "execution_count": 11,
   "id": "336500e0-8609-459e-ac69-7efc5beb54b3",
   "metadata": {},
   "outputs": [],
   "source": [
    "def first_word_extract(dataframe, column, new_colname):\n",
    "    \n",
    "    # Change data type into string\n",
    "    dataframe[column] = dataframe[column].astype('str')\n",
    "    \n",
    "    # Split converted string and store it in a series\n",
    "    col_data = pd.Series(dtype='object')\n",
    "    col_data['phrase_aslist'] = dataframe[column].str.split()\n",
    "    \n",
    "    # Retrieve the first content in the splitted phrase contained as a list\n",
    "    dataframe[new_colname] = col_data['phrase_aslist'].apply(lambda words_aslist: words_aslist[0])\n",
    "    \n",
    "    return dataframe "
   ]
  },
  {
   "cell_type": "raw",
   "id": "d506a30e-d077-4316-b121-4e739a7fa7ec",
   "metadata": {},
   "source": [
    "new_df = first_word_extract(df, 'car name', 'car brand')\n",
    "new_df"
   ]
  },
  {
   "cell_type": "markdown",
   "id": "d06b039f-5ee4-4025-aa0e-3654927feaaa",
   "metadata": {},
   "source": [
    "---"
   ]
  },
  {
   "cell_type": "markdown",
   "id": "a5fe4022-2cfb-419f-ba38-2be37defad1a",
   "metadata": {
    "tags": []
   },
   "source": [
    "## Pandas Pipeline"
   ]
  },
  {
   "cell_type": "code",
   "execution_count": 12,
   "id": "72367717-265c-4eaa-9c01-27431d16fc22",
   "metadata": {},
   "outputs": [
    {
     "name": "stdout",
     "output_type": "stream",
     "text": [
      "first_word_extract\n",
      "num_prefix\n",
      "plot_bins\n",
      "train_test_split\n"
     ]
    }
   ],
   "source": [
    "# Optional: View all of your created functions\n",
    "\n",
    "import inspect\n",
    "\n",
    "names = dir()\n",
    "\n",
    "for name in names:\n",
    "    obj = eval(name)\n",
    "    if inspect.isfunction(obj):\n",
    "        print(name)"
   ]
  },
  {
   "cell_type": "code",
   "execution_count": 13,
   "id": "336fe3ca-96d6-4490-86dd-b7c482421616",
   "metadata": {},
   "outputs": [],
   "source": [
    "X_train_pdpipe = (mpg_df.pipe(num_prefix, 'model year')\n",
    "                     .pipe(first_word_extract, 'car name', 'car brand')\n",
    "                 )"
   ]
  },
  {
   "cell_type": "code",
   "execution_count": 14,
   "id": "fe6a7238-1f98-4f27-b733-14af461fae95",
   "metadata": {},
   "outputs": [
    {
     "data": {
      "text/html": [
       "<div>\n",
       "<style scoped>\n",
       "    .dataframe tbody tr th:only-of-type {\n",
       "        vertical-align: middle;\n",
       "    }\n",
       "\n",
       "    .dataframe tbody tr th {\n",
       "        vertical-align: top;\n",
       "    }\n",
       "\n",
       "    .dataframe thead th {\n",
       "        text-align: right;\n",
       "    }\n",
       "</style>\n",
       "<table border=\"1\" class=\"dataframe\">\n",
       "  <thead>\n",
       "    <tr style=\"text-align: right;\">\n",
       "      <th></th>\n",
       "      <th>mpg</th>\n",
       "      <th>cylinders</th>\n",
       "      <th>displacement</th>\n",
       "      <th>horsepower</th>\n",
       "      <th>weight</th>\n",
       "      <th>acceleration</th>\n",
       "      <th>model year</th>\n",
       "      <th>origin</th>\n",
       "      <th>car name</th>\n",
       "      <th>mpg_cat</th>\n",
       "      <th>car brand</th>\n",
       "    </tr>\n",
       "  </thead>\n",
       "  <tbody>\n",
       "    <tr>\n",
       "      <th>285</th>\n",
       "      <td>17.0</td>\n",
       "      <td>8</td>\n",
       "      <td>305.0</td>\n",
       "      <td>130</td>\n",
       "      <td>3840</td>\n",
       "      <td>15.4</td>\n",
       "      <td>1979</td>\n",
       "      <td>1</td>\n",
       "      <td>chevrolet caprice classic</td>\n",
       "      <td>Poor</td>\n",
       "      <td>chevrolet</td>\n",
       "    </tr>\n",
       "    <tr>\n",
       "      <th>245</th>\n",
       "      <td>36.1</td>\n",
       "      <td>4</td>\n",
       "      <td>98.0</td>\n",
       "      <td>66</td>\n",
       "      <td>1800</td>\n",
       "      <td>14.4</td>\n",
       "      <td>1978</td>\n",
       "      <td>1</td>\n",
       "      <td>ford fiesta</td>\n",
       "      <td>Good</td>\n",
       "      <td>ford</td>\n",
       "    </tr>\n",
       "    <tr>\n",
       "      <th>25</th>\n",
       "      <td>10.0</td>\n",
       "      <td>8</td>\n",
       "      <td>360.0</td>\n",
       "      <td>215</td>\n",
       "      <td>4615</td>\n",
       "      <td>14.0</td>\n",
       "      <td>1970</td>\n",
       "      <td>1</td>\n",
       "      <td>ford f250</td>\n",
       "      <td>Poor</td>\n",
       "      <td>ford</td>\n",
       "    </tr>\n",
       "    <tr>\n",
       "      <th>156</th>\n",
       "      <td>16.0</td>\n",
       "      <td>8</td>\n",
       "      <td>400.0</td>\n",
       "      <td>170</td>\n",
       "      <td>4668</td>\n",
       "      <td>11.5</td>\n",
       "      <td>1975</td>\n",
       "      <td>1</td>\n",
       "      <td>pontiac catalina</td>\n",
       "      <td>Poor</td>\n",
       "      <td>pontiac</td>\n",
       "    </tr>\n",
       "    <tr>\n",
       "      <th>16</th>\n",
       "      <td>18.0</td>\n",
       "      <td>6</td>\n",
       "      <td>199.0</td>\n",
       "      <td>97</td>\n",
       "      <td>2774</td>\n",
       "      <td>15.5</td>\n",
       "      <td>1970</td>\n",
       "      <td>1</td>\n",
       "      <td>amc hornet</td>\n",
       "      <td>Poor</td>\n",
       "      <td>amc</td>\n",
       "    </tr>\n",
       "    <tr>\n",
       "      <th>...</th>\n",
       "      <td>...</td>\n",
       "      <td>...</td>\n",
       "      <td>...</td>\n",
       "      <td>...</td>\n",
       "      <td>...</td>\n",
       "      <td>...</td>\n",
       "      <td>...</td>\n",
       "      <td>...</td>\n",
       "      <td>...</td>\n",
       "      <td>...</td>\n",
       "      <td>...</td>\n",
       "    </tr>\n",
       "    <tr>\n",
       "      <th>394</th>\n",
       "      <td>44.0</td>\n",
       "      <td>4</td>\n",
       "      <td>97.0</td>\n",
       "      <td>52</td>\n",
       "      <td>2130</td>\n",
       "      <td>24.6</td>\n",
       "      <td>1982</td>\n",
       "      <td>2</td>\n",
       "      <td>vw pickup</td>\n",
       "      <td>Excellent</td>\n",
       "      <td>vw</td>\n",
       "    </tr>\n",
       "    <tr>\n",
       "      <th>20</th>\n",
       "      <td>25.0</td>\n",
       "      <td>4</td>\n",
       "      <td>110.0</td>\n",
       "      <td>87</td>\n",
       "      <td>2672</td>\n",
       "      <td>17.5</td>\n",
       "      <td>1970</td>\n",
       "      <td>2</td>\n",
       "      <td>peugeot 504</td>\n",
       "      <td>Fair</td>\n",
       "      <td>peugeot</td>\n",
       "    </tr>\n",
       "    <tr>\n",
       "      <th>182</th>\n",
       "      <td>28.0</td>\n",
       "      <td>4</td>\n",
       "      <td>107.0</td>\n",
       "      <td>86</td>\n",
       "      <td>2464</td>\n",
       "      <td>15.5</td>\n",
       "      <td>1976</td>\n",
       "      <td>2</td>\n",
       "      <td>fiat 131</td>\n",
       "      <td>Fair</td>\n",
       "      <td>fiat</td>\n",
       "    </tr>\n",
       "    <tr>\n",
       "      <th>110</th>\n",
       "      <td>22.0</td>\n",
       "      <td>4</td>\n",
       "      <td>108.0</td>\n",
       "      <td>94</td>\n",
       "      <td>2379</td>\n",
       "      <td>16.5</td>\n",
       "      <td>1973</td>\n",
       "      <td>3</td>\n",
       "      <td>datsun 610</td>\n",
       "      <td>Fair</td>\n",
       "      <td>datsun</td>\n",
       "    </tr>\n",
       "    <tr>\n",
       "      <th>188</th>\n",
       "      <td>16.0</td>\n",
       "      <td>8</td>\n",
       "      <td>318.0</td>\n",
       "      <td>150</td>\n",
       "      <td>4190</td>\n",
       "      <td>13.0</td>\n",
       "      <td>1976</td>\n",
       "      <td>1</td>\n",
       "      <td>dodge coronet brougham</td>\n",
       "      <td>Poor</td>\n",
       "      <td>dodge</td>\n",
       "    </tr>\n",
       "  </tbody>\n",
       "</table>\n",
       "<p>318 rows × 11 columns</p>\n",
       "</div>"
      ],
      "text/plain": [
       "      mpg  cylinders  displacement horsepower  weight  acceleration  \\\n",
       "285  17.0          8         305.0        130    3840          15.4   \n",
       "245  36.1          4          98.0         66    1800          14.4   \n",
       "25   10.0          8         360.0        215    4615          14.0   \n",
       "156  16.0          8         400.0        170    4668          11.5   \n",
       "16   18.0          6         199.0         97    2774          15.5   \n",
       "..    ...        ...           ...        ...     ...           ...   \n",
       "394  44.0          4          97.0         52    2130          24.6   \n",
       "20   25.0          4         110.0         87    2672          17.5   \n",
       "182  28.0          4         107.0         86    2464          15.5   \n",
       "110  22.0          4         108.0         94    2379          16.5   \n",
       "188  16.0          8         318.0        150    4190          13.0   \n",
       "\n",
       "     model year  origin                   car name    mpg_cat  car brand  \n",
       "285        1979       1  chevrolet caprice classic       Poor  chevrolet  \n",
       "245        1978       1                ford fiesta       Good       ford  \n",
       "25         1970       1                  ford f250       Poor       ford  \n",
       "156        1975       1           pontiac catalina       Poor    pontiac  \n",
       "16         1970       1                 amc hornet       Poor        amc  \n",
       "..          ...     ...                        ...        ...        ...  \n",
       "394        1982       2                  vw pickup  Excellent         vw  \n",
       "20         1970       2                peugeot 504       Fair    peugeot  \n",
       "182        1976       2                   fiat 131       Fair       fiat  \n",
       "110        1973       3                 datsun 610       Fair     datsun  \n",
       "188        1976       1     dodge coronet brougham       Poor      dodge  \n",
       "\n",
       "[318 rows x 11 columns]"
      ]
     },
     "execution_count": 14,
     "metadata": {},
     "output_type": "execute_result"
    }
   ],
   "source": [
    "X_train_pdpipe"
   ]
  },
  {
   "cell_type": "code",
   "execution_count": null,
   "id": "f9d9a008-70b4-4c76-96ce-45f02b75e097",
   "metadata": {},
   "outputs": [],
   "source": []
  }
 ],
 "metadata": {
  "kernelspec": {
   "display_name": "Python 3 (ipykernel)",
   "language": "python",
   "name": "python3"
  },
  "language_info": {
   "codemirror_mode": {
    "name": "ipython",
    "version": 3
   },
   "file_extension": ".py",
   "mimetype": "text/x-python",
   "name": "python",
   "nbconvert_exporter": "python",
   "pygments_lexer": "ipython3",
   "version": "3.9.13"
  }
 },
 "nbformat": 4,
 "nbformat_minor": 5
}
