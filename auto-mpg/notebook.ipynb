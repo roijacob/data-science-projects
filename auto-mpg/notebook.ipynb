{
 "cells": [
  {
   "cell_type": "markdown",
   "id": "f7d432c5-bc67-4894-86b7-3447ae8cd10b",
   "metadata": {},
   "source": [
    "# Auto-MPG\n",
    "---"
   ]
  },
  {
   "cell_type": "code",
   "execution_count": 1,
   "id": "c6b6e043-d2ec-48cd-b058-81c184e29074",
   "metadata": {},
   "outputs": [],
   "source": [
    "import pandas as pd\n",
    "import matplotlib.pyplot as plt"
   ]
  },
  {
   "cell_type": "code",
   "execution_count": 2,
   "id": "7ba3d535-ac61-42e1-a26c-de8d3a66f481",
   "metadata": {},
   "outputs": [
    {
     "data": {
      "text/html": [
       "<div>\n",
       "<style scoped>\n",
       "    .dataframe tbody tr th:only-of-type {\n",
       "        vertical-align: middle;\n",
       "    }\n",
       "\n",
       "    .dataframe tbody tr th {\n",
       "        vertical-align: top;\n",
       "    }\n",
       "\n",
       "    .dataframe thead th {\n",
       "        text-align: right;\n",
       "    }\n",
       "</style>\n",
       "<table border=\"1\" class=\"dataframe\">\n",
       "  <thead>\n",
       "    <tr style=\"text-align: right;\">\n",
       "      <th></th>\n",
       "      <th>mpg</th>\n",
       "      <th>cylinders</th>\n",
       "      <th>displacement</th>\n",
       "      <th>horsepower</th>\n",
       "      <th>weight</th>\n",
       "      <th>acceleration</th>\n",
       "      <th>model year</th>\n",
       "      <th>origin</th>\n",
       "      <th>car name</th>\n",
       "    </tr>\n",
       "  </thead>\n",
       "  <tbody>\n",
       "    <tr>\n",
       "      <th>0</th>\n",
       "      <td>18.0</td>\n",
       "      <td>8</td>\n",
       "      <td>307.0</td>\n",
       "      <td>130</td>\n",
       "      <td>3504</td>\n",
       "      <td>12.0</td>\n",
       "      <td>70</td>\n",
       "      <td>1</td>\n",
       "      <td>chevrolet chevelle malibu</td>\n",
       "    </tr>\n",
       "    <tr>\n",
       "      <th>1</th>\n",
       "      <td>15.0</td>\n",
       "      <td>8</td>\n",
       "      <td>350.0</td>\n",
       "      <td>165</td>\n",
       "      <td>3693</td>\n",
       "      <td>11.5</td>\n",
       "      <td>70</td>\n",
       "      <td>1</td>\n",
       "      <td>buick skylark 320</td>\n",
       "    </tr>\n",
       "    <tr>\n",
       "      <th>2</th>\n",
       "      <td>18.0</td>\n",
       "      <td>8</td>\n",
       "      <td>318.0</td>\n",
       "      <td>150</td>\n",
       "      <td>3436</td>\n",
       "      <td>11.0</td>\n",
       "      <td>70</td>\n",
       "      <td>1</td>\n",
       "      <td>plymouth satellite</td>\n",
       "    </tr>\n",
       "    <tr>\n",
       "      <th>3</th>\n",
       "      <td>16.0</td>\n",
       "      <td>8</td>\n",
       "      <td>304.0</td>\n",
       "      <td>150</td>\n",
       "      <td>3433</td>\n",
       "      <td>12.0</td>\n",
       "      <td>70</td>\n",
       "      <td>1</td>\n",
       "      <td>amc rebel sst</td>\n",
       "    </tr>\n",
       "    <tr>\n",
       "      <th>4</th>\n",
       "      <td>17.0</td>\n",
       "      <td>8</td>\n",
       "      <td>302.0</td>\n",
       "      <td>140</td>\n",
       "      <td>3449</td>\n",
       "      <td>10.5</td>\n",
       "      <td>70</td>\n",
       "      <td>1</td>\n",
       "      <td>ford torino</td>\n",
       "    </tr>\n",
       "  </tbody>\n",
       "</table>\n",
       "</div>"
      ],
      "text/plain": [
       "    mpg  cylinders  displacement horsepower  weight  acceleration  model year  \\\n",
       "0  18.0          8         307.0        130    3504          12.0          70   \n",
       "1  15.0          8         350.0        165    3693          11.5          70   \n",
       "2  18.0          8         318.0        150    3436          11.0          70   \n",
       "3  16.0          8         304.0        150    3433          12.0          70   \n",
       "4  17.0          8         302.0        140    3449          10.5          70   \n",
       "\n",
       "   origin                   car name  \n",
       "0       1  chevrolet chevelle malibu  \n",
       "1       1          buick skylark 320  \n",
       "2       1         plymouth satellite  \n",
       "3       1              amc rebel sst  \n",
       "4       1                ford torino  "
      ]
     },
     "execution_count": 2,
     "metadata": {},
     "output_type": "execute_result"
    }
   ],
   "source": [
    "df = pd.read_csv('datasets/auto-mpg.csv')\n",
    "df.head()"
   ]
  },
  {
   "cell_type": "markdown",
   "id": "8c5496bf-c5e2-49b8-b8e4-3695fe8f290a",
   "metadata": {},
   "source": [
    "---\n",
    "### Pipe 1"
   ]
  },
  {
   "cell_type": "code",
   "execution_count": 3,
   "id": "f9e5265e-b795-4a76-a1e8-4a7f5cfedbc7",
   "metadata": {},
   "outputs": [],
   "source": [
    "def num_prefix(dataframe, str_column):\n",
    "    \n",
    "    # Apply function if the year is not in 19-- format    \n",
    "    if (dataframe[str_column] < 1000).all():\n",
    "        \n",
    "        # Apply prefix concatenation to the number   \n",
    "        dataframe[str_column] = dataframe[str_column].apply(lambda x: 1900 + x)\n",
    "    \n",
    "    else:\n",
    "        pass\n",
    "    \n",
    "    return dataframe "
   ]
  },
  {
   "cell_type": "raw",
   "id": "ef1031c4-a414-48ed-a1b0-619985eef6eb",
   "metadata": {},
   "source": [
    "new_df = num_prefix(df, 'model year')\n",
    "new_df"
   ]
  },
  {
   "cell_type": "markdown",
   "id": "4df7f06c-5d49-48b0-b8bb-6d83538756a5",
   "metadata": {},
   "source": [
    "---\n",
    "### Pipe 2"
   ]
  },
  {
   "cell_type": "code",
   "execution_count": 4,
   "id": "336500e0-8609-459e-ac69-7efc5beb54b3",
   "metadata": {},
   "outputs": [],
   "source": [
    "def first_word_extract(dataframe, column, new_colname):\n",
    "    \n",
    "    # Change data type into string\n",
    "    dataframe[column] = dataframe[column].astype('str')\n",
    "    \n",
    "    # Split converted string and store it in a series\n",
    "    col_data = pd.Series(dtype='object')\n",
    "    col_data['phrase_aslist'] = dataframe[column].str.split()\n",
    "    \n",
    "    # Retrieve the first content in the splitted phrase contained as a list\n",
    "    dataframe[new_colname] = col_data['phrase_aslist'].apply(lambda words_aslist: words_aslist[0])\n",
    "    \n",
    "    return dataframe "
   ]
  },
  {
   "cell_type": "raw",
   "id": "d506a30e-d077-4316-b121-4e739a7fa7ec",
   "metadata": {},
   "source": [
    "new_df = first_word_extract(df, 'car name', 'car brand')\n",
    "new_df"
   ]
  },
  {
   "cell_type": "markdown",
   "id": "d06b039f-5ee4-4025-aa0e-3654927feaaa",
   "metadata": {},
   "source": [
    "---"
   ]
  },
  {
   "cell_type": "markdown",
   "id": "a5fe4022-2cfb-419f-ba38-2be37defad1a",
   "metadata": {
    "tags": []
   },
   "source": [
    "## Pandas Pipeline"
   ]
  },
  {
   "cell_type": "code",
   "execution_count": 5,
   "id": "72367717-265c-4eaa-9c01-27431d16fc22",
   "metadata": {},
   "outputs": [
    {
     "name": "stdout",
     "output_type": "stream",
     "text": [
      "first_word_extract\n",
      "num_prefix\n"
     ]
    }
   ],
   "source": [
    "# Optional: View all of your created functions\n",
    "\n",
    "import inspect\n",
    "\n",
    "names = dir()\n",
    "\n",
    "for name in names:\n",
    "    obj = eval(name)\n",
    "    if inspect.isfunction(obj):\n",
    "        print(name)"
   ]
  },
  {
   "cell_type": "code",
   "execution_count": 6,
   "id": "336fe3ca-96d6-4490-86dd-b7c482421616",
   "metadata": {},
   "outputs": [],
   "source": [
    "piped_df = (df.pipe(num_prefix, 'model year')\n",
    "              .pipe(first_word_extract, 'car name', 'car brand')\n",
    "           )"
   ]
  },
  {
   "cell_type": "code",
   "execution_count": 7,
   "id": "e34d804e-21ae-44d7-83f6-a8502a55d753",
   "metadata": {},
   "outputs": [
    {
     "data": {
      "text/html": [
       "<div>\n",
       "<style scoped>\n",
       "    .dataframe tbody tr th:only-of-type {\n",
       "        vertical-align: middle;\n",
       "    }\n",
       "\n",
       "    .dataframe tbody tr th {\n",
       "        vertical-align: top;\n",
       "    }\n",
       "\n",
       "    .dataframe thead th {\n",
       "        text-align: right;\n",
       "    }\n",
       "</style>\n",
       "<table border=\"1\" class=\"dataframe\">\n",
       "  <thead>\n",
       "    <tr style=\"text-align: right;\">\n",
       "      <th></th>\n",
       "      <th>mpg</th>\n",
       "      <th>cylinders</th>\n",
       "      <th>displacement</th>\n",
       "      <th>horsepower</th>\n",
       "      <th>weight</th>\n",
       "      <th>acceleration</th>\n",
       "      <th>model year</th>\n",
       "      <th>origin</th>\n",
       "      <th>car name</th>\n",
       "      <th>car brand</th>\n",
       "    </tr>\n",
       "  </thead>\n",
       "  <tbody>\n",
       "    <tr>\n",
       "      <th>0</th>\n",
       "      <td>18.0</td>\n",
       "      <td>8</td>\n",
       "      <td>307.0</td>\n",
       "      <td>130</td>\n",
       "      <td>3504</td>\n",
       "      <td>12.0</td>\n",
       "      <td>1970</td>\n",
       "      <td>1</td>\n",
       "      <td>chevrolet chevelle malibu</td>\n",
       "      <td>chevrolet</td>\n",
       "    </tr>\n",
       "    <tr>\n",
       "      <th>1</th>\n",
       "      <td>15.0</td>\n",
       "      <td>8</td>\n",
       "      <td>350.0</td>\n",
       "      <td>165</td>\n",
       "      <td>3693</td>\n",
       "      <td>11.5</td>\n",
       "      <td>1970</td>\n",
       "      <td>1</td>\n",
       "      <td>buick skylark 320</td>\n",
       "      <td>buick</td>\n",
       "    </tr>\n",
       "    <tr>\n",
       "      <th>2</th>\n",
       "      <td>18.0</td>\n",
       "      <td>8</td>\n",
       "      <td>318.0</td>\n",
       "      <td>150</td>\n",
       "      <td>3436</td>\n",
       "      <td>11.0</td>\n",
       "      <td>1970</td>\n",
       "      <td>1</td>\n",
       "      <td>plymouth satellite</td>\n",
       "      <td>plymouth</td>\n",
       "    </tr>\n",
       "    <tr>\n",
       "      <th>3</th>\n",
       "      <td>16.0</td>\n",
       "      <td>8</td>\n",
       "      <td>304.0</td>\n",
       "      <td>150</td>\n",
       "      <td>3433</td>\n",
       "      <td>12.0</td>\n",
       "      <td>1970</td>\n",
       "      <td>1</td>\n",
       "      <td>amc rebel sst</td>\n",
       "      <td>amc</td>\n",
       "    </tr>\n",
       "    <tr>\n",
       "      <th>4</th>\n",
       "      <td>17.0</td>\n",
       "      <td>8</td>\n",
       "      <td>302.0</td>\n",
       "      <td>140</td>\n",
       "      <td>3449</td>\n",
       "      <td>10.5</td>\n",
       "      <td>1970</td>\n",
       "      <td>1</td>\n",
       "      <td>ford torino</td>\n",
       "      <td>ford</td>\n",
       "    </tr>\n",
       "  </tbody>\n",
       "</table>\n",
       "</div>"
      ],
      "text/plain": [
       "    mpg  cylinders  displacement horsepower  weight  acceleration  model year  \\\n",
       "0  18.0          8         307.0        130    3504          12.0        1970   \n",
       "1  15.0          8         350.0        165    3693          11.5        1970   \n",
       "2  18.0          8         318.0        150    3436          11.0        1970   \n",
       "3  16.0          8         304.0        150    3433          12.0        1970   \n",
       "4  17.0          8         302.0        140    3449          10.5        1970   \n",
       "\n",
       "   origin                   car name  car brand  \n",
       "0       1  chevrolet chevelle malibu  chevrolet  \n",
       "1       1          buick skylark 320      buick  \n",
       "2       1         plymouth satellite   plymouth  \n",
       "3       1              amc rebel sst        amc  \n",
       "4       1                ford torino       ford  "
      ]
     },
     "execution_count": 7,
     "metadata": {},
     "output_type": "execute_result"
    }
   ],
   "source": [
    "piped_df.head()"
   ]
  }
 ],
 "metadata": {
  "kernelspec": {
   "display_name": "Python 3 (ipykernel)",
   "language": "python",
   "name": "python3"
  },
  "language_info": {
   "codemirror_mode": {
    "name": "ipython",
    "version": 3
   },
   "file_extension": ".py",
   "mimetype": "text/x-python",
   "name": "python",
   "nbconvert_exporter": "python",
   "pygments_lexer": "ipython3",
   "version": "3.9.13"
  }
 },
 "nbformat": 4,
 "nbformat_minor": 5
}
